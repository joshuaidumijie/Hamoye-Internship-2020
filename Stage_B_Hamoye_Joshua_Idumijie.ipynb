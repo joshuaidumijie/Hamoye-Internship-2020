{
  "nbformat": 4,
  "nbformat_minor": 0,
  "metadata": {
    "colab": {
      "name": "Stage_B_Hamoye_Joshua_Idumijie.ipynb",
      "provenance": [],
      "collapsed_sections": [
        "NAa5jgi0ZiVD",
        "zKzWCMgtXQaA",
        "1myAMrtquiQx",
        "WjOMYactuajP",
        "bMr-OwzDyL2R",
        "7IEo4tOz3q79",
        "sG-OpknUPciv"
      ],
      "authorship_tag": "ABX9TyMbak6IrilbdoZic8Fr+mj1",
      "include_colab_link": true
    },
    "kernelspec": {
      "name": "python3",
      "display_name": "Python 3"
    }
  },
  "cells": [
    {
      "cell_type": "markdown",
      "metadata": {
        "id": "view-in-github",
        "colab_type": "text"
      },
      "source": [
        "<a href=\"https://colab.research.google.com/github/joshuaidumijie/Hamoye-Internship-2020/blob/master/Stage_B_Hamoye_Joshua_Idumijie.ipynb\" target=\"_parent\"><img src=\"https://colab.research.google.com/assets/colab-badge.svg\" alt=\"Open In Colab\"/></a>"
      ]
    },
    {
      "cell_type": "markdown",
      "metadata": {
        "id": "AMLVbXB9p8RX",
        "colab_type": "text"
      },
      "source": [
        "#Stage B by Joshua Idumijie\n",
        "\n",
        "From the instructions attached to the data sets, the following objectives were postulated:\n",
        "* Normalise the Data using the MinMAxScaler, remove the Date and Lights columns(as this will increase noise in our data)\n",
        "* The Target Variable(y) is 'Appliances'\n",
        "* Use a 70-30 train-test set split with a random state of 42(for reproducibility)\n",
        "* Run a multiple linear regression sing the training set and \n",
        "*  Evaluate the model on the test set.\n",
        "\n",
        "It should also be noted that two random data were added.\n",
        "\n",
        "The following steps will be utilised:\n",
        "* Import the packages and classes in I need.\n",
        "* Provide Energy Data set(Appliance) and carry out appropriate transformation.\n",
        "* Create a regression model and fit it with test set\n",
        "* Check the results of the model to see if it's satisfactory\n",
        "* Apply the model for predictions using the test set.    "
      ]
    },
    {
      "cell_type": "markdown",
      "metadata": {
        "id": "NAa5jgi0ZiVD",
        "colab_type": "text"
      },
      "source": [
        "###Data Set Description\n",
        "\n",
        "\n",
        "\n"
      ]
    },
    {
      "cell_type": "markdown",
      "metadata": {
        "id": "zKzWCMgtXQaA",
        "colab_type": "text"
      },
      "source": [
        "\n",
        "\n",
        "\n",
        "\n",
        "Attribute, Information:\n",
        "* *Date, time year-month-day hour:minute:second*\n",
        "* *lights, energy use of light fixtures in the house in Wh*\n",
        "***Appliances, energy use in Wh** \n",
        "* T1, Temperature in kitchen area, in Celsius\n",
        "* RH_1, Humidity in kitchen area, in %\n",
        "* T2, Temperature in living room area, in Celsius\n",
        "* RH_2, Humidity in living room area, in %\n",
        "* T3, Temperature in laundry room area\n",
        "* RH_3, Humidity in laundry room area, in %\n",
        "* T4, Temperature in office room, in Celsius\n",
        "* RH_4, Humidity in office room, in %\n",
        "* T5, Temperature in bathroom, in Celsius\n",
        "* RH_5, Humidity in bathroom, in %\n",
        "* T6, Temperature outside the building (north side), in Celsius\n",
        "* RH_6, Humidity outside the building (north side), in %\n",
        "* T7, Temperature in ironing room , in Celsius\n",
        "* RH_7, Humidity in ironing room, in % \n",
        "* T8, Temperature in teenager room 2, in Celsius\n",
        "* RH_8, Humidity in teenager room 2, in %\n",
        "* T9, Temperature in parents room, in Celsius\n",
        "* RH_9, Humidity in parents room, in %\n",
        "* To, Temperature outside (from Chievres weather station), in Celsius\n",
        "* Pressure (from Chievres weather station), in mm Hg\n",
        "* RH_out, Humidity outside (from Chievres weather station), in %\n",
        "* Wind speed (from Chievres weather station), in m/s\n",
        "* Visibility (from Chievres weather station), in km \n",
        "* Tdewpoint (from Chievres weather station), Â °C\n",
        "* rv1, Random variable 1, nondimensional\n",
        "* rv2, Random variable 2, nondimensional\n",
        "\n"
      ]
    },
    {
      "cell_type": "markdown",
      "metadata": {
        "id": "1myAMrtquiQx",
        "colab_type": "text"
      },
      "source": [
        "###Importing necessary packages"
      ]
    },
    {
      "cell_type": "code",
      "metadata": {
        "id": "sQHVcO7NsTPk",
        "colab_type": "code",
        "colab": {}
      },
      "source": [
        "# importing required packages\n",
        "\n",
        "import pandas as pd\n",
        "import numpy as np\n",
        "import seaborn as sns\n",
        "import statsmodels.api as sm\n",
        "import matplotlib.pyplot  as plt;"
      ],
      "execution_count": 13,
      "outputs": []
    },
    {
      "cell_type": "markdown",
      "metadata": {
        "id": "WjOMYactuajP",
        "colab_type": "text"
      },
      "source": [
        "###Data Preparation and Cleaning"
      ]
    },
    {
      "cell_type": "code",
      "metadata": {
        "id": "ZVfqTLkqscVg",
        "colab_type": "code",
        "colab": {}
      },
      "source": [
        "# increasing the number of viewable columns to allow easy manual exploration\n",
        "pd.options.display.max_columns = 30"
      ],
      "execution_count": 14,
      "outputs": []
    },
    {
      "cell_type": "code",
      "metadata": {
        "id": "QC5YntJ_s8br",
        "colab_type": "code",
        "colab": {
          "base_uri": "https://localhost:8080/",
          "height": 0
        },
        "outputId": "ba07b662-7cb2-47a9-94bc-00e77ec14d80"
      },
      "source": [
        "# loading the dataset\n",
        "url = 'https://archive.ics.uci.edu/ml/machine-learning-databases/00374/energydata_complete.csv'\n",
        "dfe = pd.read_csv(url,error_bad_lines=False)\n",
        "dfe.head(3)"
      ],
      "execution_count": 15,
      "outputs": [
        {
          "output_type": "execute_result",
          "data": {
            "text/html": [
              "<div>\n",
              "<style scoped>\n",
              "    .dataframe tbody tr th:only-of-type {\n",
              "        vertical-align: middle;\n",
              "    }\n",
              "\n",
              "    .dataframe tbody tr th {\n",
              "        vertical-align: top;\n",
              "    }\n",
              "\n",
              "    .dataframe thead th {\n",
              "        text-align: right;\n",
              "    }\n",
              "</style>\n",
              "<table border=\"1\" class=\"dataframe\">\n",
              "  <thead>\n",
              "    <tr style=\"text-align: right;\">\n",
              "      <th></th>\n",
              "      <th>date</th>\n",
              "      <th>Appliances</th>\n",
              "      <th>lights</th>\n",
              "      <th>T1</th>\n",
              "      <th>RH_1</th>\n",
              "      <th>T2</th>\n",
              "      <th>RH_2</th>\n",
              "      <th>T3</th>\n",
              "      <th>RH_3</th>\n",
              "      <th>T4</th>\n",
              "      <th>RH_4</th>\n",
              "      <th>T5</th>\n",
              "      <th>RH_5</th>\n",
              "      <th>T6</th>\n",
              "      <th>RH_6</th>\n",
              "      <th>T7</th>\n",
              "      <th>RH_7</th>\n",
              "      <th>T8</th>\n",
              "      <th>RH_8</th>\n",
              "      <th>T9</th>\n",
              "      <th>RH_9</th>\n",
              "      <th>T_out</th>\n",
              "      <th>Press_mm_hg</th>\n",
              "      <th>RH_out</th>\n",
              "      <th>Windspeed</th>\n",
              "      <th>Visibility</th>\n",
              "      <th>Tdewpoint</th>\n",
              "      <th>rv1</th>\n",
              "      <th>rv2</th>\n",
              "    </tr>\n",
              "  </thead>\n",
              "  <tbody>\n",
              "    <tr>\n",
              "      <th>0</th>\n",
              "      <td>2016-01-11 17:00:00</td>\n",
              "      <td>60</td>\n",
              "      <td>30</td>\n",
              "      <td>19.89</td>\n",
              "      <td>47.596667</td>\n",
              "      <td>19.2</td>\n",
              "      <td>44.790000</td>\n",
              "      <td>19.79</td>\n",
              "      <td>44.730000</td>\n",
              "      <td>19.000000</td>\n",
              "      <td>45.566667</td>\n",
              "      <td>17.166667</td>\n",
              "      <td>55.20</td>\n",
              "      <td>7.026667</td>\n",
              "      <td>84.256667</td>\n",
              "      <td>17.2</td>\n",
              "      <td>41.626667</td>\n",
              "      <td>18.2</td>\n",
              "      <td>48.900000</td>\n",
              "      <td>17.033333</td>\n",
              "      <td>45.53</td>\n",
              "      <td>6.600000</td>\n",
              "      <td>733.5</td>\n",
              "      <td>92.0</td>\n",
              "      <td>7.000000</td>\n",
              "      <td>63.000000</td>\n",
              "      <td>5.3</td>\n",
              "      <td>13.275433</td>\n",
              "      <td>13.275433</td>\n",
              "    </tr>\n",
              "    <tr>\n",
              "      <th>1</th>\n",
              "      <td>2016-01-11 17:10:00</td>\n",
              "      <td>60</td>\n",
              "      <td>30</td>\n",
              "      <td>19.89</td>\n",
              "      <td>46.693333</td>\n",
              "      <td>19.2</td>\n",
              "      <td>44.722500</td>\n",
              "      <td>19.79</td>\n",
              "      <td>44.790000</td>\n",
              "      <td>19.000000</td>\n",
              "      <td>45.992500</td>\n",
              "      <td>17.166667</td>\n",
              "      <td>55.20</td>\n",
              "      <td>6.833333</td>\n",
              "      <td>84.063333</td>\n",
              "      <td>17.2</td>\n",
              "      <td>41.560000</td>\n",
              "      <td>18.2</td>\n",
              "      <td>48.863333</td>\n",
              "      <td>17.066667</td>\n",
              "      <td>45.56</td>\n",
              "      <td>6.483333</td>\n",
              "      <td>733.6</td>\n",
              "      <td>92.0</td>\n",
              "      <td>6.666667</td>\n",
              "      <td>59.166667</td>\n",
              "      <td>5.2</td>\n",
              "      <td>18.606195</td>\n",
              "      <td>18.606195</td>\n",
              "    </tr>\n",
              "    <tr>\n",
              "      <th>2</th>\n",
              "      <td>2016-01-11 17:20:00</td>\n",
              "      <td>50</td>\n",
              "      <td>30</td>\n",
              "      <td>19.89</td>\n",
              "      <td>46.300000</td>\n",
              "      <td>19.2</td>\n",
              "      <td>44.626667</td>\n",
              "      <td>19.79</td>\n",
              "      <td>44.933333</td>\n",
              "      <td>18.926667</td>\n",
              "      <td>45.890000</td>\n",
              "      <td>17.166667</td>\n",
              "      <td>55.09</td>\n",
              "      <td>6.560000</td>\n",
              "      <td>83.156667</td>\n",
              "      <td>17.2</td>\n",
              "      <td>41.433333</td>\n",
              "      <td>18.2</td>\n",
              "      <td>48.730000</td>\n",
              "      <td>17.000000</td>\n",
              "      <td>45.50</td>\n",
              "      <td>6.366667</td>\n",
              "      <td>733.7</td>\n",
              "      <td>92.0</td>\n",
              "      <td>6.333333</td>\n",
              "      <td>55.333333</td>\n",
              "      <td>5.1</td>\n",
              "      <td>28.642668</td>\n",
              "      <td>28.642668</td>\n",
              "    </tr>\n",
              "  </tbody>\n",
              "</table>\n",
              "</div>"
            ],
            "text/plain": [
              "                  date  Appliances  lights     T1       RH_1    T2       RH_2  \\\n",
              "0  2016-01-11 17:00:00          60      30  19.89  47.596667  19.2  44.790000   \n",
              "1  2016-01-11 17:10:00          60      30  19.89  46.693333  19.2  44.722500   \n",
              "2  2016-01-11 17:20:00          50      30  19.89  46.300000  19.2  44.626667   \n",
              "\n",
              "      T3       RH_3         T4       RH_4         T5   RH_5        T6  \\\n",
              "0  19.79  44.730000  19.000000  45.566667  17.166667  55.20  7.026667   \n",
              "1  19.79  44.790000  19.000000  45.992500  17.166667  55.20  6.833333   \n",
              "2  19.79  44.933333  18.926667  45.890000  17.166667  55.09  6.560000   \n",
              "\n",
              "        RH_6    T7       RH_7    T8       RH_8         T9   RH_9     T_out  \\\n",
              "0  84.256667  17.2  41.626667  18.2  48.900000  17.033333  45.53  6.600000   \n",
              "1  84.063333  17.2  41.560000  18.2  48.863333  17.066667  45.56  6.483333   \n",
              "2  83.156667  17.2  41.433333  18.2  48.730000  17.000000  45.50  6.366667   \n",
              "\n",
              "   Press_mm_hg  RH_out  Windspeed  Visibility  Tdewpoint        rv1        rv2  \n",
              "0        733.5    92.0   7.000000   63.000000        5.3  13.275433  13.275433  \n",
              "1        733.6    92.0   6.666667   59.166667        5.2  18.606195  18.606195  \n",
              "2        733.7    92.0   6.333333   55.333333        5.1  28.642668  28.642668  "
            ]
          },
          "metadata": {
            "tags": []
          },
          "execution_count": 15
        }
      ]
    },
    {
      "cell_type": "code",
      "metadata": {
        "id": "ltSXNr4Qt1XZ",
        "colab_type": "code",
        "colab": {
          "base_uri": "https://localhost:8080/",
          "height": 0
        },
        "outputId": "da540a7e-7566-43e1-fc02-4d80851962b7"
      },
      "source": [
        "# to check the type of data set and if any columns contain a null value\n",
        "dfe.info()\n",
        "\n",
        "#all columns have the same number of non-null, so that implies no null value\n",
        "#alternatively \n",
        "\n",
        "dfe.isnull().sum()"
      ],
      "execution_count": 16,
      "outputs": [
        {
          "output_type": "stream",
          "text": [
            "<class 'pandas.core.frame.DataFrame'>\n",
            "RangeIndex: 19735 entries, 0 to 19734\n",
            "Data columns (total 29 columns):\n",
            " #   Column       Non-Null Count  Dtype  \n",
            "---  ------       --------------  -----  \n",
            " 0   date         19735 non-null  object \n",
            " 1   Appliances   19735 non-null  int64  \n",
            " 2   lights       19735 non-null  int64  \n",
            " 3   T1           19735 non-null  float64\n",
            " 4   RH_1         19735 non-null  float64\n",
            " 5   T2           19735 non-null  float64\n",
            " 6   RH_2         19735 non-null  float64\n",
            " 7   T3           19735 non-null  float64\n",
            " 8   RH_3         19735 non-null  float64\n",
            " 9   T4           19735 non-null  float64\n",
            " 10  RH_4         19735 non-null  float64\n",
            " 11  T5           19735 non-null  float64\n",
            " 12  RH_5         19735 non-null  float64\n",
            " 13  T6           19735 non-null  float64\n",
            " 14  RH_6         19735 non-null  float64\n",
            " 15  T7           19735 non-null  float64\n",
            " 16  RH_7         19735 non-null  float64\n",
            " 17  T8           19735 non-null  float64\n",
            " 18  RH_8         19735 non-null  float64\n",
            " 19  T9           19735 non-null  float64\n",
            " 20  RH_9         19735 non-null  float64\n",
            " 21  T_out        19735 non-null  float64\n",
            " 22  Press_mm_hg  19735 non-null  float64\n",
            " 23  RH_out       19735 non-null  float64\n",
            " 24  Windspeed    19735 non-null  float64\n",
            " 25  Visibility   19735 non-null  float64\n",
            " 26  Tdewpoint    19735 non-null  float64\n",
            " 27  rv1          19735 non-null  float64\n",
            " 28  rv2          19735 non-null  float64\n",
            "dtypes: float64(26), int64(2), object(1)\n",
            "memory usage: 4.4+ MB\n"
          ],
          "name": "stdout"
        },
        {
          "output_type": "execute_result",
          "data": {
            "text/plain": [
              "date           0\n",
              "Appliances     0\n",
              "lights         0\n",
              "T1             0\n",
              "RH_1           0\n",
              "T2             0\n",
              "RH_2           0\n",
              "T3             0\n",
              "RH_3           0\n",
              "T4             0\n",
              "RH_4           0\n",
              "T5             0\n",
              "RH_5           0\n",
              "T6             0\n",
              "RH_6           0\n",
              "T7             0\n",
              "RH_7           0\n",
              "T8             0\n",
              "RH_8           0\n",
              "T9             0\n",
              "RH_9           0\n",
              "T_out          0\n",
              "Press_mm_hg    0\n",
              "RH_out         0\n",
              "Windspeed      0\n",
              "Visibility     0\n",
              "Tdewpoint      0\n",
              "rv1            0\n",
              "rv2            0\n",
              "dtype: int64"
            ]
          },
          "metadata": {
            "tags": []
          },
          "execution_count": 16
        }
      ]
    },
    {
      "cell_type": "code",
      "metadata": {
        "id": "PFLEOQE-uVAv",
        "colab_type": "code",
        "colab": {
          "base_uri": "https://localhost:8080/",
          "height": 0
        },
        "outputId": "3733e6a6-b07a-4c18-994c-ccf30993f4d4"
      },
      "source": [
        "#Checking for any duplicates\n",
        "dfe.duplicated().any()\n",
        "\n",
        "#no duplicates"
      ],
      "execution_count": 17,
      "outputs": [
        {
          "output_type": "execute_result",
          "data": {
            "text/plain": [
              "False"
            ]
          },
          "metadata": {
            "tags": []
          },
          "execution_count": 17
        }
      ]
    },
    {
      "cell_type": "code",
      "metadata": {
        "id": "s8cA-bBrvkIy",
        "colab_type": "code",
        "colab": {
          "base_uri": "https://localhost:8080/",
          "height": 0
        },
        "outputId": "1b07cb1c-bfc5-4a55-fada-03fdd538d2cf"
      },
      "source": [
        "#checking the shape of the data    \n",
        "dfe.shape"
      ],
      "execution_count": 18,
      "outputs": [
        {
          "output_type": "execute_result",
          "data": {
            "text/plain": [
              "(19735, 29)"
            ]
          },
          "metadata": {
            "tags": []
          },
          "execution_count": 18
        }
      ]
    },
    {
      "cell_type": "markdown",
      "metadata": {
        "id": "bMr-OwzDyL2R",
        "colab_type": "text"
      },
      "source": [
        "###Explanotory Data Analysis"
      ]
    },
    {
      "cell_type": "code",
      "metadata": {
        "id": "GKk_8myCyU-w",
        "colab_type": "code",
        "colab": {
          "base_uri": "https://localhost:8080/",
          "height": 0
        },
        "outputId": "a9789bdd-155c-4e8a-a79b-21f0169b2e50"
      },
      "source": [
        "#brief statistical description of data set\n",
        "dfe.describe( include = 'all')"
      ],
      "execution_count": 19,
      "outputs": [
        {
          "output_type": "execute_result",
          "data": {
            "text/html": [
              "<div>\n",
              "<style scoped>\n",
              "    .dataframe tbody tr th:only-of-type {\n",
              "        vertical-align: middle;\n",
              "    }\n",
              "\n",
              "    .dataframe tbody tr th {\n",
              "        vertical-align: top;\n",
              "    }\n",
              "\n",
              "    .dataframe thead th {\n",
              "        text-align: right;\n",
              "    }\n",
              "</style>\n",
              "<table border=\"1\" class=\"dataframe\">\n",
              "  <thead>\n",
              "    <tr style=\"text-align: right;\">\n",
              "      <th></th>\n",
              "      <th>date</th>\n",
              "      <th>Appliances</th>\n",
              "      <th>lights</th>\n",
              "      <th>T1</th>\n",
              "      <th>RH_1</th>\n",
              "      <th>T2</th>\n",
              "      <th>RH_2</th>\n",
              "      <th>T3</th>\n",
              "      <th>RH_3</th>\n",
              "      <th>T4</th>\n",
              "      <th>RH_4</th>\n",
              "      <th>T5</th>\n",
              "      <th>RH_5</th>\n",
              "      <th>T6</th>\n",
              "      <th>RH_6</th>\n",
              "      <th>T7</th>\n",
              "      <th>RH_7</th>\n",
              "      <th>T8</th>\n",
              "      <th>RH_8</th>\n",
              "      <th>T9</th>\n",
              "      <th>RH_9</th>\n",
              "      <th>T_out</th>\n",
              "      <th>Press_mm_hg</th>\n",
              "      <th>RH_out</th>\n",
              "      <th>Windspeed</th>\n",
              "      <th>Visibility</th>\n",
              "      <th>Tdewpoint</th>\n",
              "      <th>rv1</th>\n",
              "      <th>rv2</th>\n",
              "    </tr>\n",
              "  </thead>\n",
              "  <tbody>\n",
              "    <tr>\n",
              "      <th>count</th>\n",
              "      <td>19735</td>\n",
              "      <td>19735.000000</td>\n",
              "      <td>19735.000000</td>\n",
              "      <td>19735.000000</td>\n",
              "      <td>19735.000000</td>\n",
              "      <td>19735.000000</td>\n",
              "      <td>19735.000000</td>\n",
              "      <td>19735.000000</td>\n",
              "      <td>19735.000000</td>\n",
              "      <td>19735.000000</td>\n",
              "      <td>19735.000000</td>\n",
              "      <td>19735.000000</td>\n",
              "      <td>19735.000000</td>\n",
              "      <td>19735.000000</td>\n",
              "      <td>19735.000000</td>\n",
              "      <td>19735.000000</td>\n",
              "      <td>19735.000000</td>\n",
              "      <td>19735.000000</td>\n",
              "      <td>19735.000000</td>\n",
              "      <td>19735.000000</td>\n",
              "      <td>19735.000000</td>\n",
              "      <td>19735.000000</td>\n",
              "      <td>19735.000000</td>\n",
              "      <td>19735.000000</td>\n",
              "      <td>19735.000000</td>\n",
              "      <td>19735.000000</td>\n",
              "      <td>19735.000000</td>\n",
              "      <td>19735.000000</td>\n",
              "      <td>19735.000000</td>\n",
              "    </tr>\n",
              "    <tr>\n",
              "      <th>unique</th>\n",
              "      <td>19735</td>\n",
              "      <td>NaN</td>\n",
              "      <td>NaN</td>\n",
              "      <td>NaN</td>\n",
              "      <td>NaN</td>\n",
              "      <td>NaN</td>\n",
              "      <td>NaN</td>\n",
              "      <td>NaN</td>\n",
              "      <td>NaN</td>\n",
              "      <td>NaN</td>\n",
              "      <td>NaN</td>\n",
              "      <td>NaN</td>\n",
              "      <td>NaN</td>\n",
              "      <td>NaN</td>\n",
              "      <td>NaN</td>\n",
              "      <td>NaN</td>\n",
              "      <td>NaN</td>\n",
              "      <td>NaN</td>\n",
              "      <td>NaN</td>\n",
              "      <td>NaN</td>\n",
              "      <td>NaN</td>\n",
              "      <td>NaN</td>\n",
              "      <td>NaN</td>\n",
              "      <td>NaN</td>\n",
              "      <td>NaN</td>\n",
              "      <td>NaN</td>\n",
              "      <td>NaN</td>\n",
              "      <td>NaN</td>\n",
              "      <td>NaN</td>\n",
              "    </tr>\n",
              "    <tr>\n",
              "      <th>top</th>\n",
              "      <td>2016-02-28 03:10:00</td>\n",
              "      <td>NaN</td>\n",
              "      <td>NaN</td>\n",
              "      <td>NaN</td>\n",
              "      <td>NaN</td>\n",
              "      <td>NaN</td>\n",
              "      <td>NaN</td>\n",
              "      <td>NaN</td>\n",
              "      <td>NaN</td>\n",
              "      <td>NaN</td>\n",
              "      <td>NaN</td>\n",
              "      <td>NaN</td>\n",
              "      <td>NaN</td>\n",
              "      <td>NaN</td>\n",
              "      <td>NaN</td>\n",
              "      <td>NaN</td>\n",
              "      <td>NaN</td>\n",
              "      <td>NaN</td>\n",
              "      <td>NaN</td>\n",
              "      <td>NaN</td>\n",
              "      <td>NaN</td>\n",
              "      <td>NaN</td>\n",
              "      <td>NaN</td>\n",
              "      <td>NaN</td>\n",
              "      <td>NaN</td>\n",
              "      <td>NaN</td>\n",
              "      <td>NaN</td>\n",
              "      <td>NaN</td>\n",
              "      <td>NaN</td>\n",
              "    </tr>\n",
              "    <tr>\n",
              "      <th>freq</th>\n",
              "      <td>1</td>\n",
              "      <td>NaN</td>\n",
              "      <td>NaN</td>\n",
              "      <td>NaN</td>\n",
              "      <td>NaN</td>\n",
              "      <td>NaN</td>\n",
              "      <td>NaN</td>\n",
              "      <td>NaN</td>\n",
              "      <td>NaN</td>\n",
              "      <td>NaN</td>\n",
              "      <td>NaN</td>\n",
              "      <td>NaN</td>\n",
              "      <td>NaN</td>\n",
              "      <td>NaN</td>\n",
              "      <td>NaN</td>\n",
              "      <td>NaN</td>\n",
              "      <td>NaN</td>\n",
              "      <td>NaN</td>\n",
              "      <td>NaN</td>\n",
              "      <td>NaN</td>\n",
              "      <td>NaN</td>\n",
              "      <td>NaN</td>\n",
              "      <td>NaN</td>\n",
              "      <td>NaN</td>\n",
              "      <td>NaN</td>\n",
              "      <td>NaN</td>\n",
              "      <td>NaN</td>\n",
              "      <td>NaN</td>\n",
              "      <td>NaN</td>\n",
              "    </tr>\n",
              "    <tr>\n",
              "      <th>mean</th>\n",
              "      <td>NaN</td>\n",
              "      <td>97.694958</td>\n",
              "      <td>3.801875</td>\n",
              "      <td>21.686571</td>\n",
              "      <td>40.259739</td>\n",
              "      <td>20.341219</td>\n",
              "      <td>40.420420</td>\n",
              "      <td>22.267611</td>\n",
              "      <td>39.242500</td>\n",
              "      <td>20.855335</td>\n",
              "      <td>39.026904</td>\n",
              "      <td>19.592106</td>\n",
              "      <td>50.949283</td>\n",
              "      <td>7.910939</td>\n",
              "      <td>54.609083</td>\n",
              "      <td>20.267106</td>\n",
              "      <td>35.388200</td>\n",
              "      <td>22.029107</td>\n",
              "      <td>42.936165</td>\n",
              "      <td>19.485828</td>\n",
              "      <td>41.552401</td>\n",
              "      <td>7.411665</td>\n",
              "      <td>755.522602</td>\n",
              "      <td>79.750418</td>\n",
              "      <td>4.039752</td>\n",
              "      <td>38.330834</td>\n",
              "      <td>3.760707</td>\n",
              "      <td>24.988033</td>\n",
              "      <td>24.988033</td>\n",
              "    </tr>\n",
              "    <tr>\n",
              "      <th>std</th>\n",
              "      <td>NaN</td>\n",
              "      <td>102.524891</td>\n",
              "      <td>7.935988</td>\n",
              "      <td>1.606066</td>\n",
              "      <td>3.979299</td>\n",
              "      <td>2.192974</td>\n",
              "      <td>4.069813</td>\n",
              "      <td>2.006111</td>\n",
              "      <td>3.254576</td>\n",
              "      <td>2.042884</td>\n",
              "      <td>4.341321</td>\n",
              "      <td>1.844623</td>\n",
              "      <td>9.022034</td>\n",
              "      <td>6.090347</td>\n",
              "      <td>31.149806</td>\n",
              "      <td>2.109993</td>\n",
              "      <td>5.114208</td>\n",
              "      <td>1.956162</td>\n",
              "      <td>5.224361</td>\n",
              "      <td>2.014712</td>\n",
              "      <td>4.151497</td>\n",
              "      <td>5.317409</td>\n",
              "      <td>7.399441</td>\n",
              "      <td>14.901088</td>\n",
              "      <td>2.451221</td>\n",
              "      <td>11.794719</td>\n",
              "      <td>4.194648</td>\n",
              "      <td>14.496634</td>\n",
              "      <td>14.496634</td>\n",
              "    </tr>\n",
              "    <tr>\n",
              "      <th>min</th>\n",
              "      <td>NaN</td>\n",
              "      <td>10.000000</td>\n",
              "      <td>0.000000</td>\n",
              "      <td>16.790000</td>\n",
              "      <td>27.023333</td>\n",
              "      <td>16.100000</td>\n",
              "      <td>20.463333</td>\n",
              "      <td>17.200000</td>\n",
              "      <td>28.766667</td>\n",
              "      <td>15.100000</td>\n",
              "      <td>27.660000</td>\n",
              "      <td>15.330000</td>\n",
              "      <td>29.815000</td>\n",
              "      <td>-6.065000</td>\n",
              "      <td>1.000000</td>\n",
              "      <td>15.390000</td>\n",
              "      <td>23.200000</td>\n",
              "      <td>16.306667</td>\n",
              "      <td>29.600000</td>\n",
              "      <td>14.890000</td>\n",
              "      <td>29.166667</td>\n",
              "      <td>-5.000000</td>\n",
              "      <td>729.300000</td>\n",
              "      <td>24.000000</td>\n",
              "      <td>0.000000</td>\n",
              "      <td>1.000000</td>\n",
              "      <td>-6.600000</td>\n",
              "      <td>0.005322</td>\n",
              "      <td>0.005322</td>\n",
              "    </tr>\n",
              "    <tr>\n",
              "      <th>25%</th>\n",
              "      <td>NaN</td>\n",
              "      <td>50.000000</td>\n",
              "      <td>0.000000</td>\n",
              "      <td>20.760000</td>\n",
              "      <td>37.333333</td>\n",
              "      <td>18.790000</td>\n",
              "      <td>37.900000</td>\n",
              "      <td>20.790000</td>\n",
              "      <td>36.900000</td>\n",
              "      <td>19.530000</td>\n",
              "      <td>35.530000</td>\n",
              "      <td>18.277500</td>\n",
              "      <td>45.400000</td>\n",
              "      <td>3.626667</td>\n",
              "      <td>30.025000</td>\n",
              "      <td>18.700000</td>\n",
              "      <td>31.500000</td>\n",
              "      <td>20.790000</td>\n",
              "      <td>39.066667</td>\n",
              "      <td>18.000000</td>\n",
              "      <td>38.500000</td>\n",
              "      <td>3.666667</td>\n",
              "      <td>750.933333</td>\n",
              "      <td>70.333333</td>\n",
              "      <td>2.000000</td>\n",
              "      <td>29.000000</td>\n",
              "      <td>0.900000</td>\n",
              "      <td>12.497889</td>\n",
              "      <td>12.497889</td>\n",
              "    </tr>\n",
              "    <tr>\n",
              "      <th>50%</th>\n",
              "      <td>NaN</td>\n",
              "      <td>60.000000</td>\n",
              "      <td>0.000000</td>\n",
              "      <td>21.600000</td>\n",
              "      <td>39.656667</td>\n",
              "      <td>20.000000</td>\n",
              "      <td>40.500000</td>\n",
              "      <td>22.100000</td>\n",
              "      <td>38.530000</td>\n",
              "      <td>20.666667</td>\n",
              "      <td>38.400000</td>\n",
              "      <td>19.390000</td>\n",
              "      <td>49.090000</td>\n",
              "      <td>7.300000</td>\n",
              "      <td>55.290000</td>\n",
              "      <td>20.033333</td>\n",
              "      <td>34.863333</td>\n",
              "      <td>22.100000</td>\n",
              "      <td>42.375000</td>\n",
              "      <td>19.390000</td>\n",
              "      <td>40.900000</td>\n",
              "      <td>6.916667</td>\n",
              "      <td>756.100000</td>\n",
              "      <td>83.666667</td>\n",
              "      <td>3.666667</td>\n",
              "      <td>40.000000</td>\n",
              "      <td>3.433333</td>\n",
              "      <td>24.897653</td>\n",
              "      <td>24.897653</td>\n",
              "    </tr>\n",
              "    <tr>\n",
              "      <th>75%</th>\n",
              "      <td>NaN</td>\n",
              "      <td>100.000000</td>\n",
              "      <td>0.000000</td>\n",
              "      <td>22.600000</td>\n",
              "      <td>43.066667</td>\n",
              "      <td>21.500000</td>\n",
              "      <td>43.260000</td>\n",
              "      <td>23.290000</td>\n",
              "      <td>41.760000</td>\n",
              "      <td>22.100000</td>\n",
              "      <td>42.156667</td>\n",
              "      <td>20.619643</td>\n",
              "      <td>53.663333</td>\n",
              "      <td>11.256000</td>\n",
              "      <td>83.226667</td>\n",
              "      <td>21.600000</td>\n",
              "      <td>39.000000</td>\n",
              "      <td>23.390000</td>\n",
              "      <td>46.536000</td>\n",
              "      <td>20.600000</td>\n",
              "      <td>44.338095</td>\n",
              "      <td>10.408333</td>\n",
              "      <td>760.933333</td>\n",
              "      <td>91.666667</td>\n",
              "      <td>5.500000</td>\n",
              "      <td>40.000000</td>\n",
              "      <td>6.566667</td>\n",
              "      <td>37.583769</td>\n",
              "      <td>37.583769</td>\n",
              "    </tr>\n",
              "    <tr>\n",
              "      <th>max</th>\n",
              "      <td>NaN</td>\n",
              "      <td>1080.000000</td>\n",
              "      <td>70.000000</td>\n",
              "      <td>26.260000</td>\n",
              "      <td>63.360000</td>\n",
              "      <td>29.856667</td>\n",
              "      <td>56.026667</td>\n",
              "      <td>29.236000</td>\n",
              "      <td>50.163333</td>\n",
              "      <td>26.200000</td>\n",
              "      <td>51.090000</td>\n",
              "      <td>25.795000</td>\n",
              "      <td>96.321667</td>\n",
              "      <td>28.290000</td>\n",
              "      <td>99.900000</td>\n",
              "      <td>26.000000</td>\n",
              "      <td>51.400000</td>\n",
              "      <td>27.230000</td>\n",
              "      <td>58.780000</td>\n",
              "      <td>24.500000</td>\n",
              "      <td>53.326667</td>\n",
              "      <td>26.100000</td>\n",
              "      <td>772.300000</td>\n",
              "      <td>100.000000</td>\n",
              "      <td>14.000000</td>\n",
              "      <td>66.000000</td>\n",
              "      <td>15.500000</td>\n",
              "      <td>49.996530</td>\n",
              "      <td>49.996530</td>\n",
              "    </tr>\n",
              "  </tbody>\n",
              "</table>\n",
              "</div>"
            ],
            "text/plain": [
              "                       date    Appliances        lights            T1  \\\n",
              "count                 19735  19735.000000  19735.000000  19735.000000   \n",
              "unique                19735           NaN           NaN           NaN   \n",
              "top     2016-02-28 03:10:00           NaN           NaN           NaN   \n",
              "freq                      1           NaN           NaN           NaN   \n",
              "mean                    NaN     97.694958      3.801875     21.686571   \n",
              "std                     NaN    102.524891      7.935988      1.606066   \n",
              "min                     NaN     10.000000      0.000000     16.790000   \n",
              "25%                     NaN     50.000000      0.000000     20.760000   \n",
              "50%                     NaN     60.000000      0.000000     21.600000   \n",
              "75%                     NaN    100.000000      0.000000     22.600000   \n",
              "max                     NaN   1080.000000     70.000000     26.260000   \n",
              "\n",
              "                RH_1            T2          RH_2            T3          RH_3  \\\n",
              "count   19735.000000  19735.000000  19735.000000  19735.000000  19735.000000   \n",
              "unique           NaN           NaN           NaN           NaN           NaN   \n",
              "top              NaN           NaN           NaN           NaN           NaN   \n",
              "freq             NaN           NaN           NaN           NaN           NaN   \n",
              "mean       40.259739     20.341219     40.420420     22.267611     39.242500   \n",
              "std         3.979299      2.192974      4.069813      2.006111      3.254576   \n",
              "min        27.023333     16.100000     20.463333     17.200000     28.766667   \n",
              "25%        37.333333     18.790000     37.900000     20.790000     36.900000   \n",
              "50%        39.656667     20.000000     40.500000     22.100000     38.530000   \n",
              "75%        43.066667     21.500000     43.260000     23.290000     41.760000   \n",
              "max        63.360000     29.856667     56.026667     29.236000     50.163333   \n",
              "\n",
              "                  T4          RH_4            T5          RH_5            T6  \\\n",
              "count   19735.000000  19735.000000  19735.000000  19735.000000  19735.000000   \n",
              "unique           NaN           NaN           NaN           NaN           NaN   \n",
              "top              NaN           NaN           NaN           NaN           NaN   \n",
              "freq             NaN           NaN           NaN           NaN           NaN   \n",
              "mean       20.855335     39.026904     19.592106     50.949283      7.910939   \n",
              "std         2.042884      4.341321      1.844623      9.022034      6.090347   \n",
              "min        15.100000     27.660000     15.330000     29.815000     -6.065000   \n",
              "25%        19.530000     35.530000     18.277500     45.400000      3.626667   \n",
              "50%        20.666667     38.400000     19.390000     49.090000      7.300000   \n",
              "75%        22.100000     42.156667     20.619643     53.663333     11.256000   \n",
              "max        26.200000     51.090000     25.795000     96.321667     28.290000   \n",
              "\n",
              "                RH_6            T7          RH_7            T8          RH_8  \\\n",
              "count   19735.000000  19735.000000  19735.000000  19735.000000  19735.000000   \n",
              "unique           NaN           NaN           NaN           NaN           NaN   \n",
              "top              NaN           NaN           NaN           NaN           NaN   \n",
              "freq             NaN           NaN           NaN           NaN           NaN   \n",
              "mean       54.609083     20.267106     35.388200     22.029107     42.936165   \n",
              "std        31.149806      2.109993      5.114208      1.956162      5.224361   \n",
              "min         1.000000     15.390000     23.200000     16.306667     29.600000   \n",
              "25%        30.025000     18.700000     31.500000     20.790000     39.066667   \n",
              "50%        55.290000     20.033333     34.863333     22.100000     42.375000   \n",
              "75%        83.226667     21.600000     39.000000     23.390000     46.536000   \n",
              "max        99.900000     26.000000     51.400000     27.230000     58.780000   \n",
              "\n",
              "                  T9          RH_9         T_out   Press_mm_hg        RH_out  \\\n",
              "count   19735.000000  19735.000000  19735.000000  19735.000000  19735.000000   \n",
              "unique           NaN           NaN           NaN           NaN           NaN   \n",
              "top              NaN           NaN           NaN           NaN           NaN   \n",
              "freq             NaN           NaN           NaN           NaN           NaN   \n",
              "mean       19.485828     41.552401      7.411665    755.522602     79.750418   \n",
              "std         2.014712      4.151497      5.317409      7.399441     14.901088   \n",
              "min        14.890000     29.166667     -5.000000    729.300000     24.000000   \n",
              "25%        18.000000     38.500000      3.666667    750.933333     70.333333   \n",
              "50%        19.390000     40.900000      6.916667    756.100000     83.666667   \n",
              "75%        20.600000     44.338095     10.408333    760.933333     91.666667   \n",
              "max        24.500000     53.326667     26.100000    772.300000    100.000000   \n",
              "\n",
              "           Windspeed    Visibility     Tdewpoint           rv1           rv2  \n",
              "count   19735.000000  19735.000000  19735.000000  19735.000000  19735.000000  \n",
              "unique           NaN           NaN           NaN           NaN           NaN  \n",
              "top              NaN           NaN           NaN           NaN           NaN  \n",
              "freq             NaN           NaN           NaN           NaN           NaN  \n",
              "mean        4.039752     38.330834      3.760707     24.988033     24.988033  \n",
              "std         2.451221     11.794719      4.194648     14.496634     14.496634  \n",
              "min         0.000000      1.000000     -6.600000      0.005322      0.005322  \n",
              "25%         2.000000     29.000000      0.900000     12.497889     12.497889  \n",
              "50%         3.666667     40.000000      3.433333     24.897653     24.897653  \n",
              "75%         5.500000     40.000000      6.566667     37.583769     37.583769  \n",
              "max        14.000000     66.000000     15.500000     49.996530     49.996530  "
            ]
          },
          "metadata": {
            "tags": []
          },
          "execution_count": 19
        }
      ]
    },
    {
      "cell_type": "markdown",
      "metadata": {
        "id": "TOW0qfqizZul",
        "colab_type": "text"
      },
      "source": [
        "The following can be inferred\n",
        "* The date and lights columns will be noises if added to our model\n",
        "* The large deviation of values of pressure columns and temperature will affect our results negatively, the data set will have to be normalised.\n"
      ]
    },
    {
      "cell_type": "code",
      "metadata": {
        "id": "s9cLWdQD2NOO",
        "colab_type": "code",
        "colab": {
          "base_uri": "https://localhost:8080/",
          "height": 0
        },
        "outputId": "0952feb2-26b0-479c-a5f9-ac7a6c6418a4"
      },
      "source": [
        "# lets visualize the histogram of all the features to understand the  distribution\n",
        "dfe.hist(bins=20, figsize=(20,20));"
      ],
      "execution_count": 9,
      "outputs": [
        {
          "output_type": "display_data",
          "data": {
            "image/png": "[encoded data removed]",
            "text/plain": [
              "<Figure size 1440x1440 with 30 Axes>"
            ]
          },
          "metadata": {
            "tags": [],
            "needs_background": "light"
          }
        }
      ]
    },
    {
      "cell_type": "markdown",
      "metadata": {
        "id": "GHwT4NGs2UTU",
        "colab_type": "text"
      },
      "source": [
        "The results show that lights along with dates should be removed. \n",
        "Some features are relatively normally distributed, others skewed...\n",
        "* The random data features that were added seem to be platykurtic(kurtosis greater than -1)\n"
      ]
    },
    {
      "cell_type": "markdown",
      "metadata": {
        "id": "7IEo4tOz3q79",
        "colab_type": "text"
      },
      "source": [
        "###The Modelling"
      ]
    },
    {
      "cell_type": "code",
      "metadata": {
        "id": "WS9M0WQy4O6I",
        "colab_type": "code",
        "colab": {
          "base_uri": "https://localhost:8080/",
          "height": 34
        },
        "outputId": "b72e3556-55f1-4929-bdb3-9fc8dd9b1e9e"
      },
      "source": [
        "# dropping the lights column\n",
        "dfe.drop(['lights'], axis=1,inplace=True)\n",
        "# dropping the date column \n",
        "dfe.drop(['date'], axis=1, inplace=True)\n",
        "dfe.shape"
      ],
      "execution_count": 20,
      "outputs": [
        {
          "output_type": "execute_result",
          "data": {
            "text/plain": [
              "(19735, 27)"
            ]
          },
          "metadata": {
            "tags": []
          },
          "execution_count": 20
        }
      ]
    },
    {
      "cell_type": "code",
      "metadata": {
        "id": "amtuC0R411cR",
        "colab_type": "code",
        "colab": {}
      },
      "source": [
        "#Normalising our dataset to a common scale using the min max scaler\n",
        "\n",
        "from sklearn.preprocessing import MinMaxScaler\n",
        "scaler = MinMaxScaler()\n",
        "normalised_dfe = pd.DataFrame(scaler.fit_transform(dfe), columns=dfe.columns)\n",
        "#PREDICTORS\n",
        "features_dfe = normalised_dfe.drop(columns=['Appliances'])\n",
        "#TARGET\n",
        "target_dfe = normalised_dfe['Appliances']\n"
      ],
      "execution_count": 21,
      "outputs": []
    },
    {
      "cell_type": "code",
      "metadata": {
        "id": "QJjj1NpI6zN9",
        "colab_type": "code",
        "colab": {
          "base_uri": "https://localhost:8080/",
          "height": 123
        },
        "outputId": "016554fc-9e59-41fd-98d0-e40aa2413217"
      },
      "source": [
        "#to check the features columnns\n",
        "features_dfe.head(2)"
      ],
      "execution_count": 22,
      "outputs": [
        {
          "output_type": "execute_result",
          "data": {
            "text/html": [
              "<div>\n",
              "<style scoped>\n",
              "    .dataframe tbody tr th:only-of-type {\n",
              "        vertical-align: middle;\n",
              "    }\n",
              "\n",
              "    .dataframe tbody tr th {\n",
              "        vertical-align: top;\n",
              "    }\n",
              "\n",
              "    .dataframe thead th {\n",
              "        text-align: right;\n",
              "    }\n",
              "</style>\n",
              "<table border=\"1\" class=\"dataframe\">\n",
              "  <thead>\n",
              "    <tr style=\"text-align: right;\">\n",
              "      <th></th>\n",
              "      <th>T1</th>\n",
              "      <th>RH_1</th>\n",
              "      <th>T2</th>\n",
              "      <th>RH_2</th>\n",
              "      <th>T3</th>\n",
              "      <th>RH_3</th>\n",
              "      <th>T4</th>\n",
              "      <th>RH_4</th>\n",
              "      <th>T5</th>\n",
              "      <th>RH_5</th>\n",
              "      <th>T6</th>\n",
              "      <th>RH_6</th>\n",
              "      <th>T7</th>\n",
              "      <th>RH_7</th>\n",
              "      <th>T8</th>\n",
              "      <th>RH_8</th>\n",
              "      <th>T9</th>\n",
              "      <th>RH_9</th>\n",
              "      <th>T_out</th>\n",
              "      <th>Press_mm_hg</th>\n",
              "      <th>RH_out</th>\n",
              "      <th>Windspeed</th>\n",
              "      <th>Visibility</th>\n",
              "      <th>Tdewpoint</th>\n",
              "      <th>rv1</th>\n",
              "      <th>rv2</th>\n",
              "    </tr>\n",
              "  </thead>\n",
              "  <tbody>\n",
              "    <tr>\n",
              "      <th>0</th>\n",
              "      <td>0.32735</td>\n",
              "      <td>0.566187</td>\n",
              "      <td>0.225345</td>\n",
              "      <td>0.684038</td>\n",
              "      <td>0.215188</td>\n",
              "      <td>0.746066</td>\n",
              "      <td>0.351351</td>\n",
              "      <td>0.764262</td>\n",
              "      <td>0.175506</td>\n",
              "      <td>0.381691</td>\n",
              "      <td>0.381070</td>\n",
              "      <td>0.841827</td>\n",
              "      <td>0.170594</td>\n",
              "      <td>0.653428</td>\n",
              "      <td>0.173329</td>\n",
              "      <td>0.661412</td>\n",
              "      <td>0.223032</td>\n",
              "      <td>0.677290</td>\n",
              "      <td>0.372990</td>\n",
              "      <td>0.097674</td>\n",
              "      <td>0.894737</td>\n",
              "      <td>0.50000</td>\n",
              "      <td>0.953846</td>\n",
              "      <td>0.538462</td>\n",
              "      <td>0.265449</td>\n",
              "      <td>0.265449</td>\n",
              "    </tr>\n",
              "    <tr>\n",
              "      <th>1</th>\n",
              "      <td>0.32735</td>\n",
              "      <td>0.541326</td>\n",
              "      <td>0.225345</td>\n",
              "      <td>0.682140</td>\n",
              "      <td>0.215188</td>\n",
              "      <td>0.748871</td>\n",
              "      <td>0.351351</td>\n",
              "      <td>0.782437</td>\n",
              "      <td>0.175506</td>\n",
              "      <td>0.381691</td>\n",
              "      <td>0.375443</td>\n",
              "      <td>0.839872</td>\n",
              "      <td>0.170594</td>\n",
              "      <td>0.651064</td>\n",
              "      <td>0.173329</td>\n",
              "      <td>0.660155</td>\n",
              "      <td>0.226500</td>\n",
              "      <td>0.678532</td>\n",
              "      <td>0.369239</td>\n",
              "      <td>0.100000</td>\n",
              "      <td>0.894737</td>\n",
              "      <td>0.47619</td>\n",
              "      <td>0.894872</td>\n",
              "      <td>0.533937</td>\n",
              "      <td>0.372083</td>\n",
              "      <td>0.372083</td>\n",
              "    </tr>\n",
              "  </tbody>\n",
              "</table>\n",
              "</div>"
            ],
            "text/plain": [
              "        T1      RH_1        T2      RH_2        T3      RH_3        T4  \\\n",
              "0  0.32735  0.566187  0.225345  0.684038  0.215188  0.746066  0.351351   \n",
              "1  0.32735  0.541326  0.225345  0.682140  0.215188  0.748871  0.351351   \n",
              "\n",
              "       RH_4        T5      RH_5        T6      RH_6        T7      RH_7  \\\n",
              "0  0.764262  0.175506  0.381691  0.381070  0.841827  0.170594  0.653428   \n",
              "1  0.782437  0.175506  0.381691  0.375443  0.839872  0.170594  0.651064   \n",
              "\n",
              "         T8      RH_8        T9      RH_9     T_out  Press_mm_hg    RH_out  \\\n",
              "0  0.173329  0.661412  0.223032  0.677290  0.372990     0.097674  0.894737   \n",
              "1  0.173329  0.660155  0.226500  0.678532  0.369239     0.100000  0.894737   \n",
              "\n",
              "   Windspeed  Visibility  Tdewpoint       rv1       rv2  \n",
              "0    0.50000    0.953846   0.538462  0.265449  0.265449  \n",
              "1    0.47619    0.894872   0.533937  0.372083  0.372083  "
            ]
          },
          "metadata": {
            "tags": []
          },
          "execution_count": 22
        }
      ]
    },
    {
      "cell_type": "code",
      "metadata": {
        "id": "zw6eXPHC6_wS",
        "colab_type": "code",
        "colab": {
          "base_uri": "https://localhost:8080/",
          "height": 871
        },
        "outputId": "b7254ddf-4fe5-4ab0-883c-98c6809b4352"
      },
      "source": [
        "f ,ax = plt.subplots(figsize = (15,14))\n",
        "sns.heatmap(features_dfe.corr(), annot = True, linewidth= 0.8, fmt = '.2f', ax = ax);"
      ],
      "execution_count": 23,
      "outputs": [
        {
          "output_type": "display_data",
          "data": {
            "image/png": "[encoded data removed]",
            "text/plain": [
              "<Figure size 1080x1008 with 2 Axes>"
            ]
          },
          "metadata": {
            "tags": [],
            "needs_background": "light"
          }
        }
      ]
    },
    {
      "cell_type": "code",
      "metadata": {
        "id": "C_2tpPOT7ZxY",
        "colab_type": "code",
        "colab": {}
      },
      "source": [
        "# splitting data into training and testing set\n",
        "\n",
        "from sklearn.model_selection import train_test_split\n",
        "\n",
        "x_train, x_test, y_train, y_test = train_test_split(features_dfe, target_dfe, test_size = 0.3, random_state = 42)"
      ],
      "execution_count": 24,
      "outputs": []
    },
    {
      "cell_type": "code",
      "metadata": {
        "id": "WWO84VfO-BNR",
        "colab_type": "code",
        "colab": {}
      },
      "source": [
        "from sklearn.linear_model import LinearRegression\n",
        "from sklearn import linear_model\n",
        "linear_model = LinearRegression()\n",
        "\n",
        "#fit the model to the training dataset\n",
        "linear_model.fit(x_train, y_train)\n",
        "\n",
        "#obtain predictions\n",
        "predicted_values = linear_model.predict(x_test)"
      ],
      "execution_count": 25,
      "outputs": []
    },
    {
      "cell_type": "code",
      "metadata": {
        "id": "wpF-ltGv-9OT",
        "colab_type": "code",
        "colab": {
          "base_uri": "https://localhost:8080/",
          "height": 142
        },
        "outputId": "6a8e7d5d-c26a-4bc3-a442-46d5c419176e"
      },
      "source": [
        "#checking few results\n",
        "r_sq = linear_model.score(x_train,y_train)\n",
        "print('coefficient of determination:', r_sq)\n",
        "print(linear_model.intercept_)\n",
        "print(linear_model.coef_)"
      ],
      "execution_count": 26,
      "outputs": [
        {
          "output_type": "stream",
          "text": [
            "coefficient of determination: 0.14471942308518737\n",
            "0.1529029588225302\n",
            "[-0.00328105  0.5535466  -0.23617792 -0.45669795  0.29062714  0.09604827\n",
            "  0.028981    0.02638578 -0.01565684  0.01600579  0.23642491  0.03804865\n",
            "  0.01031878 -0.04461364  0.10199505 -0.15759548 -0.18994077 -0.03980032\n",
            " -0.32185967  0.00683933 -0.07767065  0.02918313  0.01230661  0.11775773\n",
            "  0.0007701   0.0007701 ]\n"
          ],
          "name": "stdout"
        }
      ]
    },
    {
      "cell_type": "code",
      "metadata": {
        "id": "goq3tYEF_dtk",
        "colab_type": "code",
        "colab": {
          "base_uri": "https://localhost:8080/",
          "height": 34
        },
        "outputId": "d7eb45a9-27a9-47a9-d114-a54add8f4bee"
      },
      "source": [
        "#MAE\n",
        "from sklearn.metrics import mean_absolute_error\n",
        "mae = mean_absolute_error(y_test, predicted_values)\n",
        "round(mae, 3) "
      ],
      "execution_count": 27,
      "outputs": [
        {
          "output_type": "execute_result",
          "data": {
            "text/plain": [
              "0.05"
            ]
          },
          "metadata": {
            "tags": []
          },
          "execution_count": 27
        }
      ]
    },
    {
      "cell_type": "code",
      "metadata": {
        "id": "AyrvHrzl_jp7",
        "colab_type": "code",
        "colab": {
          "base_uri": "https://localhost:8080/",
          "height": 34
        },
        "outputId": "8a514574-ff11-4c7c-b8fa-d204b471471c"
      },
      "source": [
        "#for RSS\n",
        "from sklearn.metrics import r2_score\n",
        "r2_score = r2_score(y_test, predicted_values)\n",
        "round(r2_score, 3)"
      ],
      "execution_count": 28,
      "outputs": [
        {
          "output_type": "execute_result",
          "data": {
            "text/plain": [
              "0.149"
            ]
          },
          "metadata": {
            "tags": []
          },
          "execution_count": 28
        }
      ]
    },
    {
      "cell_type": "code",
      "metadata": {
        "id": "LgkEl_DX_pTy",
        "colab_type": "code",
        "colab": {
          "base_uri": "https://localhost:8080/",
          "height": 34
        },
        "outputId": "b55f39a5-c9da-4804-c8cf-caf8ef6fd230"
      },
      "source": [
        "#For the RMSE\n",
        "import numpy as np\n",
        "rss = np.sum(np.square(y_test - predicted_values))\n",
        "round(rss, 3)\t   "
      ],
      "execution_count": 29,
      "outputs": [
        {
          "output_type": "execute_result",
          "data": {
            "text/plain": [
              "45.348"
            ]
          },
          "metadata": {
            "tags": []
          },
          "execution_count": 29
        }
      ]
    },
    {
      "cell_type": "code",
      "metadata": {
        "id": "TSJqzQXh_vqj",
        "colab_type": "code",
        "colab": {
          "base_uri": "https://localhost:8080/",
          "height": 34
        },
        "outputId": "1a935db4-5f89-4289-fede-e77974c03605"
      },
      "source": [
        "#For the R-Squared\n",
        "\n",
        "from sklearn.metrics import  mean_squared_error\n",
        "rmse = np.sqrt(mean_squared_error(y_test, predicted_values))\n",
        "round(rmse, 3)"
      ],
      "execution_count": 30,
      "outputs": [
        {
          "output_type": "execute_result",
          "data": {
            "text/plain": [
              "0.088"
            ]
          },
          "metadata": {
            "tags": []
          },
          "execution_count": 30
        }
      ]
    },
    {
      "cell_type": "code",
      "metadata": {
        "id": "MKXUXP81_3Eb",
        "colab_type": "code",
        "colab": {}
      },
      "source": [
        "#Lasso regression\n",
        "from sklearn.linear_model import Lasso\n",
        "lasso_reg = Lasso(alpha=0.001)\n",
        "lasso_reg.fit(x_train, y_train);"
      ],
      "execution_count": 31,
      "outputs": []
    },
    {
      "cell_type": "code",
      "metadata": {
        "id": "eig6EvgN1WIx",
        "colab_type": "code",
        "colab": {}
      },
      "source": [
        "#Question 20\n",
        "#obtain predictions\n",
        "\n",
        "#obtain predictions\n",
        "predicted_values_lasso = lasso_reg.predict(x_test)"
      ],
      "execution_count": 77,
      "outputs": []
    },
    {
      "cell_type": "code",
      "metadata": {
        "id": "SDIGmBEi1lx_",
        "colab_type": "code",
        "colab": {
          "base_uri": "https://localhost:8080/",
          "height": 34
        },
        "outputId": "4b3e963e-62ed-4ec2-be5b-51296cfddca7"
      },
      "source": [
        "#For the RMSE\n",
        "import numpy as np\n",
        "rss = np.sum(np.square(y_test - predicted_values_lasso))\n",
        "round(rss, 3)\t"
      ],
      "execution_count": 78,
      "outputs": [
        {
          "output_type": "execute_result",
          "data": {
            "text/plain": [
              "51.853"
            ]
          },
          "metadata": {
            "tags": []
          },
          "execution_count": 78
        }
      ]
    },
    {
      "cell_type": "code",
      "metadata": {
        "id": "NTImUJXHM4Pm",
        "colab_type": "code",
        "colab": {}
      },
      "source": [
        "#Ridge Regression\n",
        "from sklearn.linear_model import Ridge\n",
        "ridge_reg = Ridge(alpha=0.5)\n",
        "ridge_reg.fit(x_train, y_train);"
      ],
      "execution_count": 32,
      "outputs": []
    },
    {
      "cell_type": "code",
      "metadata": {
        "id": "7lZQIzZRytmB",
        "colab_type": "code",
        "colab": {}
      },
      "source": [
        "#Quiz Question 18\n",
        "#Ridge Regression\n",
        "from sklearn.linear_model import Ridge\n",
        "ridge_reg = Ridge(alpha=0.4)\n",
        "ridge_reg.fit(x_train, y_train);\n",
        "\n",
        "#obtain predictions\n",
        "predicted_values_ridge = ridge_reg.predict(x_test)"
      ],
      "execution_count": 73,
      "outputs": []
    },
    {
      "cell_type": "code",
      "metadata": {
        "id": "lznHSzyEy6R7",
        "colab_type": "code",
        "colab": {
          "base_uri": "https://localhost:8080/",
          "height": 34
        },
        "outputId": "49dc1323-c82c-4008-b52a-eba2eaa347b6"
      },
      "source": [
        "#For the RMSE\n",
        "import numpy as np\n",
        "rss = np.sum(np.square(y_test - predicted_values_ridge))\n",
        "round(rss, 3)\t"
      ],
      "execution_count": 74,
      "outputs": [
        {
          "output_type": "execute_result",
          "data": {
            "text/plain": [
              "45.368"
            ]
          },
          "metadata": {
            "tags": []
          },
          "execution_count": 74
        }
      ]
    },
    {
      "cell_type": "code",
      "metadata": {
        "id": "zRA2UlqWNEkK",
        "colab_type": "code",
        "colab": {}
      },
      "source": [
        "#comparing the effects of regularisation\n",
        "def get_weights_df(model, feat, col_name):\n",
        "  #this function returns the weight of every feature\n",
        "  weights = pd.Series(model.coef_, feat.columns).sort_values()\n",
        "  weights_df = pd.DataFrame(weights).reset_index()\n",
        "  weights_df.columns = ['Features', col_name]\n",
        "  weights_df[col_name].round(3)\n",
        "  return weights_df"
      ],
      "execution_count": 33,
      "outputs": []
    },
    {
      "cell_type": "code",
      "metadata": {
        "id": "1yOqohnkNKni",
        "colab_type": "code",
        "colab": {}
      },
      "source": [
        "#linear model\n",
        "linear_model_weights = get_weights_df(linear_model, x_train, 'Linear_Model_Weight')"
      ],
      "execution_count": 34,
      "outputs": []
    },
    {
      "cell_type": "code",
      "metadata": {
        "id": "7155SBKqNfFj",
        "colab_type": "code",
        "colab": {}
      },
      "source": [
        "#Ridge and Lasso weights\n",
        "ridge_weights_df = get_weights_df(ridge_reg, x_train, 'Ridge_Weight')\n",
        "lasso_weights_df = get_weights_df(lasso_reg, x_train, 'Lasso_weight')"
      ],
      "execution_count": 35,
      "outputs": []
    },
    {
      "cell_type": "code",
      "metadata": {
        "id": "3x-wMoMZNp_4",
        "colab_type": "code",
        "colab": {
          "base_uri": "https://localhost:8080/",
          "height": 787
        },
        "outputId": "e1c39286-2493-4f6c-b79d-ca804918b573"
      },
      "source": [
        "final_weights = pd.merge(linear_model_weights, ridge_weights_df, on='Features')\n",
        "final_weights = pd.merge(final_weights, lasso_weights_df, on='Features')\n",
        "final_weights"
      ],
      "execution_count": 36,
      "outputs": [
        {
          "output_type": "execute_result",
          "data": {
            "text/html": [
              "<div>\n",
              "<style scoped>\n",
              "    .dataframe tbody tr th:only-of-type {\n",
              "        vertical-align: middle;\n",
              "    }\n",
              "\n",
              "    .dataframe tbody tr th {\n",
              "        vertical-align: top;\n",
              "    }\n",
              "\n",
              "    .dataframe thead th {\n",
              "        text-align: right;\n",
              "    }\n",
              "</style>\n",
              "<table border=\"1\" class=\"dataframe\">\n",
              "  <thead>\n",
              "    <tr style=\"text-align: right;\">\n",
              "      <th></th>\n",
              "      <th>Features</th>\n",
              "      <th>Linear_Model_Weight</th>\n",
              "      <th>Ridge_Weight</th>\n",
              "      <th>Lasso_weight</th>\n",
              "    </tr>\n",
              "  </thead>\n",
              "  <tbody>\n",
              "    <tr>\n",
              "      <th>0</th>\n",
              "      <td>RH_2</td>\n",
              "      <td>-0.456698</td>\n",
              "      <td>-0.401134</td>\n",
              "      <td>-0.000000</td>\n",
              "    </tr>\n",
              "    <tr>\n",
              "      <th>1</th>\n",
              "      <td>T_out</td>\n",
              "      <td>-0.321860</td>\n",
              "      <td>-0.250765</td>\n",
              "      <td>0.000000</td>\n",
              "    </tr>\n",
              "    <tr>\n",
              "      <th>2</th>\n",
              "      <td>T2</td>\n",
              "      <td>-0.236178</td>\n",
              "      <td>-0.193880</td>\n",
              "      <td>0.000000</td>\n",
              "    </tr>\n",
              "    <tr>\n",
              "      <th>3</th>\n",
              "      <td>T9</td>\n",
              "      <td>-0.189941</td>\n",
              "      <td>-0.188584</td>\n",
              "      <td>-0.000000</td>\n",
              "    </tr>\n",
              "    <tr>\n",
              "      <th>4</th>\n",
              "      <td>RH_8</td>\n",
              "      <td>-0.157595</td>\n",
              "      <td>-0.156596</td>\n",
              "      <td>-0.000110</td>\n",
              "    </tr>\n",
              "    <tr>\n",
              "      <th>5</th>\n",
              "      <td>RH_out</td>\n",
              "      <td>-0.077671</td>\n",
              "      <td>-0.050541</td>\n",
              "      <td>-0.049557</td>\n",
              "    </tr>\n",
              "    <tr>\n",
              "      <th>6</th>\n",
              "      <td>RH_7</td>\n",
              "      <td>-0.044614</td>\n",
              "      <td>-0.046291</td>\n",
              "      <td>-0.000000</td>\n",
              "    </tr>\n",
              "    <tr>\n",
              "      <th>7</th>\n",
              "      <td>RH_9</td>\n",
              "      <td>-0.039800</td>\n",
              "      <td>-0.041701</td>\n",
              "      <td>-0.000000</td>\n",
              "    </tr>\n",
              "    <tr>\n",
              "      <th>8</th>\n",
              "      <td>T5</td>\n",
              "      <td>-0.015657</td>\n",
              "      <td>-0.020727</td>\n",
              "      <td>-0.000000</td>\n",
              "    </tr>\n",
              "    <tr>\n",
              "      <th>9</th>\n",
              "      <td>T1</td>\n",
              "      <td>-0.003281</td>\n",
              "      <td>-0.021549</td>\n",
              "      <td>0.000000</td>\n",
              "    </tr>\n",
              "    <tr>\n",
              "      <th>10</th>\n",
              "      <td>rv1</td>\n",
              "      <td>0.000770</td>\n",
              "      <td>0.000743</td>\n",
              "      <td>-0.000000</td>\n",
              "    </tr>\n",
              "    <tr>\n",
              "      <th>11</th>\n",
              "      <td>rv2</td>\n",
              "      <td>0.000770</td>\n",
              "      <td>0.000743</td>\n",
              "      <td>-0.000000</td>\n",
              "    </tr>\n",
              "    <tr>\n",
              "      <th>12</th>\n",
              "      <td>Press_mm_hg</td>\n",
              "      <td>0.006839</td>\n",
              "      <td>0.006516</td>\n",
              "      <td>-0.000000</td>\n",
              "    </tr>\n",
              "    <tr>\n",
              "      <th>13</th>\n",
              "      <td>T7</td>\n",
              "      <td>0.010319</td>\n",
              "      <td>0.010021</td>\n",
              "      <td>-0.000000</td>\n",
              "    </tr>\n",
              "    <tr>\n",
              "      <th>14</th>\n",
              "      <td>Visibility</td>\n",
              "      <td>0.012307</td>\n",
              "      <td>0.012032</td>\n",
              "      <td>0.000000</td>\n",
              "    </tr>\n",
              "    <tr>\n",
              "      <th>15</th>\n",
              "      <td>RH_5</td>\n",
              "      <td>0.016006</td>\n",
              "      <td>0.016176</td>\n",
              "      <td>0.000000</td>\n",
              "    </tr>\n",
              "    <tr>\n",
              "      <th>16</th>\n",
              "      <td>RH_4</td>\n",
              "      <td>0.026386</td>\n",
              "      <td>0.024168</td>\n",
              "      <td>0.000000</td>\n",
              "    </tr>\n",
              "    <tr>\n",
              "      <th>17</th>\n",
              "      <td>T4</td>\n",
              "      <td>0.028981</td>\n",
              "      <td>0.027006</td>\n",
              "      <td>-0.000000</td>\n",
              "    </tr>\n",
              "    <tr>\n",
              "      <th>18</th>\n",
              "      <td>Windspeed</td>\n",
              "      <td>0.029183</td>\n",
              "      <td>0.030463</td>\n",
              "      <td>0.002912</td>\n",
              "    </tr>\n",
              "    <tr>\n",
              "      <th>19</th>\n",
              "      <td>RH_6</td>\n",
              "      <td>0.038049</td>\n",
              "      <td>0.035023</td>\n",
              "      <td>-0.000000</td>\n",
              "    </tr>\n",
              "    <tr>\n",
              "      <th>20</th>\n",
              "      <td>RH_3</td>\n",
              "      <td>0.096048</td>\n",
              "      <td>0.094976</td>\n",
              "      <td>0.000000</td>\n",
              "    </tr>\n",
              "    <tr>\n",
              "      <th>21</th>\n",
              "      <td>T8</td>\n",
              "      <td>0.101995</td>\n",
              "      <td>0.100754</td>\n",
              "      <td>0.000000</td>\n",
              "    </tr>\n",
              "    <tr>\n",
              "      <th>22</th>\n",
              "      <td>Tdewpoint</td>\n",
              "      <td>0.117758</td>\n",
              "      <td>0.076668</td>\n",
              "      <td>0.000000</td>\n",
              "    </tr>\n",
              "    <tr>\n",
              "      <th>23</th>\n",
              "      <td>T6</td>\n",
              "      <td>0.236425</td>\n",
              "      <td>0.213316</td>\n",
              "      <td>0.000000</td>\n",
              "    </tr>\n",
              "    <tr>\n",
              "      <th>24</th>\n",
              "      <td>T3</td>\n",
              "      <td>0.290627</td>\n",
              "      <td>0.287408</td>\n",
              "      <td>0.000000</td>\n",
              "    </tr>\n",
              "    <tr>\n",
              "      <th>25</th>\n",
              "      <td>RH_1</td>\n",
              "      <td>0.553547</td>\n",
              "      <td>0.511932</td>\n",
              "      <td>0.017880</td>\n",
              "    </tr>\n",
              "  </tbody>\n",
              "</table>\n",
              "</div>"
            ],
            "text/plain": [
              "       Features  Linear_Model_Weight  Ridge_Weight  Lasso_weight\n",
              "0          RH_2            -0.456698     -0.401134     -0.000000\n",
              "1         T_out            -0.321860     -0.250765      0.000000\n",
              "2            T2            -0.236178     -0.193880      0.000000\n",
              "3            T9            -0.189941     -0.188584     -0.000000\n",
              "4          RH_8            -0.157595     -0.156596     -0.000110\n",
              "5        RH_out            -0.077671     -0.050541     -0.049557\n",
              "6          RH_7            -0.044614     -0.046291     -0.000000\n",
              "7          RH_9            -0.039800     -0.041701     -0.000000\n",
              "8            T5            -0.015657     -0.020727     -0.000000\n",
              "9            T1            -0.003281     -0.021549      0.000000\n",
              "10          rv1             0.000770      0.000743     -0.000000\n",
              "11          rv2             0.000770      0.000743     -0.000000\n",
              "12  Press_mm_hg             0.006839      0.006516     -0.000000\n",
              "13           T7             0.010319      0.010021     -0.000000\n",
              "14   Visibility             0.012307      0.012032      0.000000\n",
              "15         RH_5             0.016006      0.016176      0.000000\n",
              "16         RH_4             0.026386      0.024168      0.000000\n",
              "17           T4             0.028981      0.027006     -0.000000\n",
              "18    Windspeed             0.029183      0.030463      0.002912\n",
              "19         RH_6             0.038049      0.035023     -0.000000\n",
              "20         RH_3             0.096048      0.094976      0.000000\n",
              "21           T8             0.101995      0.100754      0.000000\n",
              "22    Tdewpoint             0.117758      0.076668      0.000000\n",
              "23           T6             0.236425      0.213316      0.000000\n",
              "24           T3             0.290627      0.287408      0.000000\n",
              "25         RH_1             0.553547      0.511932      0.017880"
            ]
          },
          "metadata": {
            "tags": []
          },
          "execution_count": 36
        }
      ]
    },
    {
      "cell_type": "markdown",
      "metadata": {
        "id": "T7fc0ncEPI7g",
        "colab_type": "text"
      },
      "source": [
        "###Alternatively"
      ]
    },
    {
      "cell_type": "code",
      "metadata": {
        "id": "yNZoPeZ2PMcw",
        "colab_type": "code",
        "colab": {}
      },
      "source": [
        "# importing the necessary algorithms\n",
        "from sklearn.linear_model import Ridge, Lasso, LinearRegression, ElasticNet\n",
        "from sklearn.ensemble import RandomForestRegressor, ExtraTreesRegressor, GradientBoostingRegressor\n",
        "from sklearn.tree import DecisionTreeRegressor\n",
        "from sklearn.neighbors import KNeighborsRegressor\n",
        "\n",
        "# import the evaluation metrics\n",
        "from sklearn.metrics import mean_absolute_error, mean_squared_error, r2_score\n",
        "\n",
        "# create a dictionary of the different algorithms \n",
        "models = {'Ridge': Ridge(),'Lasso': Lasso(),'ElasticNet':ElasticNet(),'LinearRegression':LinearRegression(),'KNeighborsRegressor':KNeighborsRegressor(),'RandomForestRegressor':RandomForestRegressor(),'ExtraTreesRegressor':ExtraTreesRegressor(),'GradientBoostingRegressor':GradientBoostingRegressor(),'DecisionTreeRegressor':DecisionTreeRegressor()}"
      ],
      "execution_count": 37,
      "outputs": []
    },
    {
      "cell_type": "code",
      "metadata": {
        "id": "zHWLqtWIQECV",
        "colab_type": "code",
        "colab": {}
      },
      "source": [
        "# funtion to compute the scores, evaluation metrics on the training and testing set\n",
        "\n",
        "def pipeline(models, x_train, x_test, y_train, y_test):\n",
        "    \"\"\"\n",
        "    This function iteratively goes through all the models defined in the dictionary and \n",
        "    computes the Train_score, Test_score, MSE, MAE and RMSE.\n",
        "    \n",
        "    Parameters: model, training set(x_train), test_set(x_test), train_labels(y_train), and test_labels(y_test).\n",
        "    \n",
        "    Returns: This funtion returns a dataFrame containing calculations of each models and also plots bar\n",
        "            chart showing how each models performs.\n",
        "            (courtesy of a fellow intern:Samuel)\n",
        "    \"\"\"\n",
        "    \n",
        "    # store properties of each model\n",
        "    prop_dfe = []\n",
        "    \n",
        "    # loop through the dictionary of models\n",
        "    for reg_name, regressor in models.items():\n",
        "        # empty dict for storing properties of each models\n",
        "        reg_dict = {}\n",
        "        # store the name of each model\n",
        "        reg_dict['Name'] = reg_name\n",
        "        # fit the regressor model\n",
        "        regressor.fit(x_train, y_train)\n",
        "        # compute the Train_score\n",
        "        reg_dict['Train_score'] = regressor.score(x_train, y_train)\n",
        "        # compute the test scores\n",
        "        reg_dict['Test_score'] = regressor.score(x_test, y_test)\n",
        "        # compute the mean_absolute_error\n",
        "        reg_dict['MAE'] = mean_absolute_error(y_test, regressor.predict(x_test))\n",
        "        #compute the mean_squared_error\n",
        "        reg_dict['MSE'] = mean_squared_error(y_test, regressor.predict(x_test))\n",
        "        # compute the RMSE\n",
        "        reg_dict['RMSE'] = np.sqrt(mean_squared_error(y_test, regressor.predict(x_test)))\n",
        "        # append the properties of a single regressor to the prop list\n",
        "        prop_dfe.append(reg_dict)\n",
        "     \n",
        "    # create a dataframe with a list of all the model properties\n",
        "    summary_df = pd.DataFrame(prop_dfe)\n",
        "    \n",
        "    # plot a bar chart to visualize the performance of each model\n",
        "    summary_df.plot(x='Name', y=['Train_score', 'Test_score', 'MAE', 'MSE', 'RMSE'], kind='bar', figsize=(15,10),\n",
        "               title='Performance scores of different models')\n",
        "        \n",
        "        \n",
        "    return summary_df"
      ],
      "execution_count": 38,
      "outputs": []
    },
    {
      "cell_type": "code",
      "metadata": {
        "id": "9NFJrEKOSLCI",
        "colab_type": "code",
        "colab": {
          "base_uri": "https://localhost:8080/",
          "height": 0
        },
        "outputId": "1b2bc86e-7212-453e-a937-9b9729f4112f"
      },
      "source": [
        "# execute the function\n",
        "pipeline(models, x_train, x_test, y_train, y_test)"
      ],
      "execution_count": 39,
      "outputs": [
        {
          "output_type": "execute_result",
          "data": {
            "text/html": [
              "<div>\n",
              "<style scoped>\n",
              "    .dataframe tbody tr th:only-of-type {\n",
              "        vertical-align: middle;\n",
              "    }\n",
              "\n",
              "    .dataframe tbody tr th {\n",
              "        vertical-align: top;\n",
              "    }\n",
              "\n",
              "    .dataframe thead th {\n",
              "        text-align: right;\n",
              "    }\n",
              "</style>\n",
              "<table border=\"1\" class=\"dataframe\">\n",
              "  <thead>\n",
              "    <tr style=\"text-align: right;\">\n",
              "      <th></th>\n",
              "      <th>Name</th>\n",
              "      <th>Train_score</th>\n",
              "      <th>Test_score</th>\n",
              "      <th>MAE</th>\n",
              "      <th>MSE</th>\n",
              "      <th>RMSE</th>\n",
              "    </tr>\n",
              "  </thead>\n",
              "  <tbody>\n",
              "    <tr>\n",
              "      <th>0</th>\n",
              "      <td>Ridge</td>\n",
              "      <td>0.143766</td>\n",
              "      <td>0.147535</td>\n",
              "      <td>0.050069</td>\n",
              "      <td>0.007671</td>\n",
              "      <td>0.087585</td>\n",
              "    </tr>\n",
              "    <tr>\n",
              "      <th>1</th>\n",
              "      <td>Lasso</td>\n",
              "      <td>0.000000</td>\n",
              "      <td>-0.000001</td>\n",
              "      <td>0.056523</td>\n",
              "      <td>0.008999</td>\n",
              "      <td>0.094862</td>\n",
              "    </tr>\n",
              "    <tr>\n",
              "      <th>2</th>\n",
              "      <td>ElasticNet</td>\n",
              "      <td>0.000000</td>\n",
              "      <td>-0.000001</td>\n",
              "      <td>0.056523</td>\n",
              "      <td>0.008999</td>\n",
              "      <td>0.094862</td>\n",
              "    </tr>\n",
              "    <tr>\n",
              "      <th>3</th>\n",
              "      <td>LinearRegression</td>\n",
              "      <td>0.144719</td>\n",
              "      <td>0.148902</td>\n",
              "      <td>0.050134</td>\n",
              "      <td>0.007659</td>\n",
              "      <td>0.087514</td>\n",
              "    </tr>\n",
              "    <tr>\n",
              "      <th>4</th>\n",
              "      <td>KNeighborsRegressor</td>\n",
              "      <td>0.544932</td>\n",
              "      <td>0.271799</td>\n",
              "      <td>0.040243</td>\n",
              "      <td>0.006553</td>\n",
              "      <td>0.080950</td>\n",
              "    </tr>\n",
              "    <tr>\n",
              "      <th>5</th>\n",
              "      <td>RandomForestRegressor</td>\n",
              "      <td>0.935958</td>\n",
              "      <td>0.558504</td>\n",
              "      <td>0.030233</td>\n",
              "      <td>0.003973</td>\n",
              "      <td>0.063031</td>\n",
              "    </tr>\n",
              "    <tr>\n",
              "      <th>6</th>\n",
              "      <td>ExtraTreesRegressor</td>\n",
              "      <td>1.000000</td>\n",
              "      <td>0.620370</td>\n",
              "      <td>0.027159</td>\n",
              "      <td>0.003416</td>\n",
              "      <td>0.058448</td>\n",
              "    </tr>\n",
              "    <tr>\n",
              "      <th>7</th>\n",
              "      <td>GradientBoostingRegressor</td>\n",
              "      <td>0.337396</td>\n",
              "      <td>0.243112</td>\n",
              "      <td>0.045398</td>\n",
              "      <td>0.006811</td>\n",
              "      <td>0.082529</td>\n",
              "    </tr>\n",
              "    <tr>\n",
              "      <th>8</th>\n",
              "      <td>DecisionTreeRegressor</td>\n",
              "      <td>1.000000</td>\n",
              "      <td>0.171866</td>\n",
              "      <td>0.036599</td>\n",
              "      <td>0.007452</td>\n",
              "      <td>0.086326</td>\n",
              "    </tr>\n",
              "  </tbody>\n",
              "</table>\n",
              "</div>"
            ],
            "text/plain": [
              "                        Name  Train_score  Test_score       MAE       MSE  \\\n",
              "0                      Ridge     0.143766    0.147535  0.050069  0.007671   \n",
              "1                      Lasso     0.000000   -0.000001  0.056523  0.008999   \n",
              "2                 ElasticNet     0.000000   -0.000001  0.056523  0.008999   \n",
              "3           LinearRegression     0.144719    0.148902  0.050134  0.007659   \n",
              "4        KNeighborsRegressor     0.544932    0.271799  0.040243  0.006553   \n",
              "5      RandomForestRegressor     0.935958    0.558504  0.030233  0.003973   \n",
              "6        ExtraTreesRegressor     1.000000    0.620370  0.027159  0.003416   \n",
              "7  GradientBoostingRegressor     0.337396    0.243112  0.045398  0.006811   \n",
              "8      DecisionTreeRegressor     1.000000    0.171866  0.036599  0.007452   \n",
              "\n",
              "       RMSE  \n",
              "0  0.087585  \n",
              "1  0.094862  \n",
              "2  0.094862  \n",
              "3  0.087514  \n",
              "4  0.080950  \n",
              "5  0.063031  \n",
              "6  0.058448  \n",
              "7  0.082529  \n",
              "8  0.086326  "
            ]
          },
          "metadata": {
            "tags": []
          },
          "execution_count": 39
        },
        {
          "output_type": "display_data",
          "data": {
            "image/png": "[encoded data removed]",
            "text/plain": [
              "<Figure size 1080x720 with 1 Axes>"
            ]
          },
          "metadata": {
            "tags": [],
            "needs_background": "light"
          }
        }
      ]
    },
    {
      "cell_type": "markdown",
      "metadata": {
        "id": "9jozm5U9ShoV",
        "colab_type": "text"
      },
      "source": [
        "The other recommended methods: Model Tuning and choosing parameters\n",
        "Random Search &Grid Search"
      ]
    },
    {
      "cell_type": "code",
      "metadata": {
        "id": "eWTxLE1cT6pm",
        "colab_type": "code",
        "colab": {
          "base_uri": "https://localhost:8080/",
          "height": 0
        },
        "outputId": "4d677d20-337e-4c56-8cfa-13f22c63ce28"
      },
      "source": [
        "from sklearn.model_selection import GridSearchCV, RandomizedSearchCV\n",
        "\n",
        "# define the param grid\n",
        "param_grid = [{\n",
        "              'max_depth': [80, 150, 200,250],\n",
        "              'n_estimators' : [10, 50, 100, 200, 250],\n",
        "              'max_features': [\"auto\", \"sqrt\", \"log2\"]\n",
        "            }]\n",
        "\n",
        "reg = ExtraTreesRegressor(random_state=42)\n",
        "\n",
        "# Instantiate the grid search model\n",
        "grid_search = RandomizedSearchCV(reg, param_grid, cv = 6, n_jobs = -1 , scoring='r2' , verbose=2)\n",
        "\n",
        "# fit the gridserch model\n",
        "grid_search.fit(x_train, y_train)"
      ],
      "execution_count": 40,
      "outputs": [
        {
          "output_type": "stream",
          "text": [
            "Fitting 6 folds for each of 10 candidates, totalling 60 fits\n"
          ],
          "name": "stdout"
        },
        {
          "output_type": "stream",
          "text": [
            "[Parallel(n_jobs=-1)]: Using backend LokyBackend with 2 concurrent workers.\n",
            "[Parallel(n_jobs=-1)]: Done  37 tasks      | elapsed:  3.0min\n",
            "[Parallel(n_jobs=-1)]: Done  60 out of  60 | elapsed:  3.3min finished\n"
          ],
          "name": "stderr"
        },
        {
          "output_type": "execute_result",
          "data": {
            "text/plain": [
              "RandomizedSearchCV(cv=6, error_score=nan,\n",
              "                   estimator=ExtraTreesRegressor(bootstrap=False, ccp_alpha=0.0,\n",
              "                                                 criterion='mse',\n",
              "                                                 max_depth=None,\n",
              "                                                 max_features='auto',\n",
              "                                                 max_leaf_nodes=None,\n",
              "                                                 max_samples=None,\n",
              "                                                 min_impurity_decrease=0.0,\n",
              "                                                 min_impurity_split=None,\n",
              "                                                 min_samples_leaf=1,\n",
              "                                                 min_samples_split=2,\n",
              "                                                 min_weight_fraction_leaf=0.0,\n",
              "                                                 n_estimators=100, n_jobs=None,\n",
              "                                                 oob_score=False,\n",
              "                                                 random_state=42, verbose=0,\n",
              "                                                 warm_start=False),\n",
              "                   iid='deprecated', n_iter=10, n_jobs=-1,\n",
              "                   param_distributions=[{'max_depth': [80, 150, 200, 250],\n",
              "                                         'max_features': ['auto', 'sqrt',\n",
              "                                                          'log2'],\n",
              "                                         'n_estimators': [10, 50, 100, 200,\n",
              "                                                          250]}],\n",
              "                   pre_dispatch='2*n_jobs', random_state=None, refit=True,\n",
              "                   return_train_score=False, scoring='r2', verbose=2)"
            ]
          },
          "metadata": {
            "tags": []
          },
          "execution_count": 40
        }
      ]
    },
    {
      "cell_type": "code",
      "metadata": {
        "id": "MTLEHtyOUYnY",
        "colab_type": "code",
        "colab": {
          "base_uri": "https://localhost:8080/",
          "height": 0
        },
        "outputId": "de15aa39-7568-4689-d4df-d0f9a393b97f"
      },
      "source": [
        "# check for the best param fot the ExtraTreeReggressor\n",
        "\n",
        "print(f'best param of the ExtraTreeRegressor is: {grid_search.best_params_}')"
      ],
      "execution_count": 41,
      "outputs": [
        {
          "output_type": "stream",
          "text": [
            "best param of the ExtraTreeRegressor is: {'n_estimators': 250, 'max_features': 'sqrt', 'max_depth': 80}\n"
          ],
          "name": "stdout"
        }
      ]
    },
    {
      "cell_type": "code",
      "metadata": {
        "id": "gsvSFJ4ZUnGj",
        "colab_type": "code",
        "colab": {
          "base_uri": "https://localhost:8080/",
          "height": 0
        },
        "outputId": "bd2ab060-5f81-49c4-8517-985ef7a19538"
      },
      "source": [
        "# Best possible estimator for ExtraTreesRegressor\n",
        "\n",
        "best_model = grid_search.best_estimator_\n",
        "\n",
        "print(f'print R2_score on training_set with tuned parameters: {best_model.score(x_train, y_train)}')\n",
        "print(f'print R2_score on testing_set with tuned parameters: {round(best_model.score(x_test, y_test), 3)}')\n",
        "print(f'print MSE_score on testing_set with tuned parameters: {round(mean_squared_error(y_test, best_model.predict(x_test)), 3)}')\n",
        "print(f'print RMSE_score on testing_set with tuned parameters: {round(np.sqrt(mean_squared_error(y_test, best_model.predict(x_test))), 3)}')"
      ],
      "execution_count": 42,
      "outputs": [
        {
          "output_type": "stream",
          "text": [
            "print R2_score on training_set with tuned parameters: 1.0\n",
            "print R2_score on testing_set with tuned parameters: 0.627\n",
            "print MSE_score on testing_set with tuned parameters: 0.003\n",
            "print RMSE_score on testing_set with tuned parameters: 0.058\n"
          ],
          "name": "stdout"
        }
      ]
    },
    {
      "cell_type": "code",
      "metadata": {
        "id": "CGXXkQxrUyLz",
        "colab_type": "code",
        "colab": {
          "base_uri": "https://localhost:8080/",
          "height": 0
        },
        "outputId": "c695af2b-2717-48a0-cefd-47cd9397a44f"
      },
      "source": [
        "# instantiate the Grid params\n",
        "param_grid = [\n",
        " {'n_estimators': [3, 10, 30, 50], 'max_features': [2, 4, 6, 8, 10],\n",
        "  'max_depth':[10, 15]},\n",
        " {'bootstrap': [False], 'n_estimators': [1, 3, 10], 'max_features': [2, 3, 4]},\n",
        " ]\n",
        "\n",
        "# instantiate the random forest regressor\n",
        "forest_reg = RandomForestRegressor()\n",
        "\n",
        "# instantiate the grid serch\n",
        "grid_search = GridSearchCV(forest_reg, param_grid, cv=6, scoring='r2')\n",
        "\n",
        "# fit the grid search on training data\n",
        "grid_search.fit(x_train, y_train)"
      ],
      "execution_count": 43,
      "outputs": [
        {
          "output_type": "execute_result",
          "data": {
            "text/plain": [
              "GridSearchCV(cv=6, error_score=nan,\n",
              "             estimator=RandomForestRegressor(bootstrap=True, ccp_alpha=0.0,\n",
              "                                             criterion='mse', max_depth=None,\n",
              "                                             max_features='auto',\n",
              "                                             max_leaf_nodes=None,\n",
              "                                             max_samples=None,\n",
              "                                             min_impurity_decrease=0.0,\n",
              "                                             min_impurity_split=None,\n",
              "                                             min_samples_leaf=1,\n",
              "                                             min_samples_split=2,\n",
              "                                             min_weight_fraction_leaf=0.0,\n",
              "                                             n_estimators=100, n_jobs=None,\n",
              "                                             oob_score=False, random_state=None,\n",
              "                                             verbose=0, warm_start=False),\n",
              "             iid='deprecated', n_jobs=None,\n",
              "             param_grid=[{'max_depth': [10, 15],\n",
              "                          'max_features': [2, 4, 6, 8, 10],\n",
              "                          'n_estimators': [3, 10, 30, 50]},\n",
              "                         {'bootstrap': [False], 'max_features': [2, 3, 4],\n",
              "                          'n_estimators': [1, 3, 10]}],\n",
              "             pre_dispatch='2*n_jobs', refit=True, return_train_score=False,\n",
              "             scoring='r2', verbose=0)"
            ]
          },
          "metadata": {
            "tags": []
          },
          "execution_count": 43
        }
      ]
    },
    {
      "cell_type": "code",
      "metadata": {
        "id": "NZUiAWXzaB0Q",
        "colab_type": "code",
        "colab": {
          "base_uri": "https://localhost:8080/",
          "height": 0
        },
        "outputId": "9140bc6d-cf11-4f51-dc59-8fc35204781d"
      },
      "source": [
        "# get best params\n",
        "grid_search.best_params_"
      ],
      "execution_count": 44,
      "outputs": [
        {
          "output_type": "execute_result",
          "data": {
            "text/plain": [
              "{'bootstrap': False, 'max_features': 2, 'n_estimators': 10}"
            ]
          },
          "metadata": {
            "tags": []
          },
          "execution_count": 44
        }
      ]
    },
    {
      "cell_type": "code",
      "metadata": {
        "id": "N_ahmFULZ1e1",
        "colab_type": "code",
        "colab": {}
      },
      "source": [
        "# get best model\n",
        "model = grid_search.best_estimator_"
      ],
      "execution_count": 45,
      "outputs": []
    },
    {
      "cell_type": "code",
      "metadata": {
        "id": "ed4MN9a_aJ9E",
        "colab_type": "code",
        "colab": {
          "base_uri": "https://localhost:8080/",
          "height": 0
        },
        "outputId": "2d08e5c2-895a-486a-8773-c4d4e13abdf9"
      },
      "source": [
        "print(f'print R2_score on training_set with tuned parameters: {model.score(x_train, y_train)}')\n",
        "print(f'print R2_score on testing_set with tuned parameters: {round(model.score(x_test, y_test), 3)}')\n",
        "print(f'print MSE_score on testing_set with tuned parameters: {round(mean_squared_error(y_test, model.predict(x_test)), 3)}')\n",
        "print(f'print RMSE_score on testing_set with tuned parameters: {round(np.sqrt(mean_squared_error(y_test, model.predict(x_test))), 3)}')"
      ],
      "execution_count": 46,
      "outputs": [
        {
          "output_type": "stream",
          "text": [
            "print R2_score on training_set with tuned parameters: 1.0\n",
            "print R2_score on testing_set with tuned parameters: 0.572\n",
            "print MSE_score on testing_set with tuned parameters: 0.004\n",
            "print RMSE_score on testing_set with tuned parameters: 0.062\n"
          ],
          "name": "stdout"
        }
      ]
    },
    {
      "cell_type": "code",
      "metadata": {
        "id": "7ZgB8kJqaUZJ",
        "colab_type": "code",
        "colab": {}
      },
      "source": [
        "# Get sorted list of features in order of importance\n",
        "feature_indices = np.argsort(grid_search.best_estimator_.feature_importances_)"
      ],
      "execution_count": 47,
      "outputs": []
    },
    {
      "cell_type": "code",
      "metadata": {
        "id": "7yAC_6vQal6c",
        "colab_type": "code",
        "colab": {
          "base_uri": "https://localhost:8080/",
          "height": 0
        },
        "outputId": "4bde064b-5867-4657-eae4-c70ebd1c0a73"
      },
      "source": [
        "feature_importances = grid_search.best_estimator_.feature_importances_\n",
        "indices = np.argsort(feature_importances)[::-1]\n",
        "names_features = [x_train.columns[i] for i in indices]\n",
        "# Create plot\n",
        "plt.figure(figsize=(15, 10))\n",
        "\n",
        "# Create plot title\n",
        "plt.title(\"Feature Importance\")\n",
        "\n",
        "# Add bars\n",
        "plt.bar(range(x_train.shape[1]), feature_importances[indices])\n",
        "\n",
        "# Add feature names as x-axis labels\n",
        "plt.xticks(range(x_train.shape[1]), names_features, rotation=90)\n",
        "\n",
        "# Show plot\n",
        "plt.show()"
      ],
      "execution_count": 48,
      "outputs": [
        {
          "output_type": "display_data",
          "data": {
            "image/png": "[encoded data removed]",
            "text/plain": [
              "<Figure size 1080x720 with 1 Axes>"
            ]
          },
          "metadata": {
            "tags": [],
            "needs_background": "light"
          }
        }
      ]
    },
    {
      "cell_type": "code",
      "metadata": {
        "id": "BiBijsd3a7o0",
        "colab_type": "code",
        "colab": {}
      },
      "source": [
        "# Get top 10 most important feature \n",
        "names_features[0:10]"
      ],
      "execution_count": null,
      "outputs": []
    },
    {
      "cell_type": "code",
      "metadata": {
        "id": "cIsFgsuSUyBf",
        "colab_type": "code",
        "colab": {
          "base_uri": "https://localhost:8080/",
          "height": 0
        },
        "outputId": "6b65fe61-efe8-466b-cba1-7bdcf39a1b42"
      },
      "source": [
        "# calculating the percentage of appliance enegry consumption less than 200 wh\n",
        "\n",
        "print(f\" Percentage of the appliance energy consumption less than 200 Wh is: {round((dfe[dfe['Appliances'] <= 200]['Appliances'].count()) / len(dfe['Appliances']) * 100, 2)}%\")"
      ],
      "execution_count": 50,
      "outputs": [
        {
          "output_type": "stream",
          "text": [
            " Percentage of the appliance energy consumption less than 200 Wh is: 90.29%\n"
          ],
          "name": "stdout"
        }
      ]
    },
    {
      "cell_type": "code",
      "metadata": {
        "id": "64rBMKELak1K",
        "colab_type": "code",
        "colab": {}
      },
      "source": [
        ""
      ],
      "execution_count": null,
      "outputs": []
    },
    {
      "cell_type": "markdown",
      "metadata": {
        "id": "sG-OpknUPciv",
        "colab_type": "text"
      },
      "source": [
        "##Stage B QUIZ"
      ]
    },
    {
      "cell_type": "code",
      "metadata": {
        "id": "42V5LqfPPYbT",
        "colab_type": "code",
        "colab": {
          "base_uri": "https://localhost:8080/",
          "height": 34
        },
        "outputId": "de57ebae-6eb2-4a0b-a780-bcaeaf83a666"
      },
      "source": [
        "print('I am ready')"
      ],
      "execution_count": 51,
      "outputs": [
        {
          "output_type": "stream",
          "text": [
            "I am ready\n"
          ],
          "name": "stdout"
        }
      ]
    },
    {
      "cell_type": "code",
      "metadata": {
        "id": "ECYOx8Iwkmt-",
        "colab_type": "code",
        "colab": {
          "base_uri": "https://localhost:8080/",
          "height": 34
        },
        "outputId": "bb8e6171-0869-49db-d82f-f1607cce0042"
      },
      "source": [
        "xx = pd.DataFrame(features_dfe['T2'])\n",
        "xx.shape"
      ],
      "execution_count": 57,
      "outputs": [
        {
          "output_type": "execute_result",
          "data": {
            "text/plain": [
              "(19735, 1)"
            ]
          },
          "metadata": {
            "tags": []
          },
          "execution_count": 57
        }
      ]
    },
    {
      "cell_type": "code",
      "metadata": {
        "id": "bmZVwFI9sHD_",
        "colab_type": "code",
        "colab": {
          "base_uri": "https://localhost:8080/",
          "height": 34
        },
        "outputId": "259acf3b-242b-4166-dcc8-0c320bdbaf4d"
      },
      "source": [
        "yy = pd.Series(features_dfe['T6'])\n",
        "yy.shape"
      ],
      "execution_count": 58,
      "outputs": [
        {
          "output_type": "execute_result",
          "data": {
            "text/plain": [
              "(19735,)"
            ]
          },
          "metadata": {
            "tags": []
          },
          "execution_count": 58
        }
      ]
    },
    {
      "cell_type": "code",
      "metadata": {
        "id": "sSqDBCnJsjW7",
        "colab_type": "code",
        "colab": {
          "base_uri": "https://localhost:8080/",
          "height": 34
        },
        "outputId": "41779dab-d448-40a1-efcc-10aa5f0b98bb"
      },
      "source": [
        "from sklearn.linear_model import LinearRegression\n",
        "from sklearn import linear_model\n",
        "linear_model = LinearRegression()\n",
        "\n",
        "#fit the model to the training dataset\n",
        "linear_model.fit(xx, yy)\n"
      ],
      "execution_count": 56,
      "outputs": [
        {
          "output_type": "execute_result",
          "data": {
            "text/plain": [
              "LinearRegression(copy_X=True, fit_intercept=True, n_jobs=None, normalize=False)"
            ]
          },
          "metadata": {
            "tags": []
          },
          "execution_count": 56
        }
      ]
    },
    {
      "cell_type": "code",
      "metadata": {
        "id": "-BJdIHgUvgqZ",
        "colab_type": "code",
        "colab": {}
      },
      "source": [
        "# splitting data into training and testing set\n",
        "\n",
        "from sklearn.model_selection import train_test_split\n",
        "\n",
        "xx_train, xx_test, yy_train, yy_test = train_test_split(xx, yy, test_size = 0.3, random_state = 42)"
      ],
      "execution_count": 59,
      "outputs": []
    },
    {
      "cell_type": "code",
      "metadata": {
        "id": "x5liXDn_wB3Y",
        "colab_type": "code",
        "colab": {}
      },
      "source": [
        "\n",
        "#obtain predictions\n",
        "predicted_values = linear_model.predict(xx_test)"
      ],
      "execution_count": 60,
      "outputs": []
    },
    {
      "cell_type": "code",
      "metadata": {
        "id": "tnVuzAszvyNs",
        "colab_type": "code",
        "colab": {
          "base_uri": "https://localhost:8080/",
          "height": 34
        },
        "outputId": "460fc7de-98db-42b7-a4f3-6506aa39cb3d"
      },
      "source": [
        "#For the R-Squared\n",
        "\n",
        "from sklearn.metrics import  mean_squared_error\n",
        "rmse = np.sqrt(mean_squared_error(yy_test, predicted_values))\n",
        "round(rmse, 2)"
      ],
      "execution_count": 61,
      "outputs": [
        {
          "output_type": "execute_result",
          "data": {
            "text/plain": [
              "37.07"
            ]
          },
          "metadata": {
            "tags": []
          },
          "execution_count": 61
        }
      ]
    },
    {
      "cell_type": "code",
      "metadata": {
        "id": "kd1wiwaJwYy1",
        "colab_type": "code",
        "colab": {
          "base_uri": "https://localhost:8080/",
          "height": 34
        },
        "outputId": "32c4cdee-f424-4ce7-c73d-5602ec1069c0"
      },
      "source": [
        "#MAE\n",
        "from sklearn.metrics import mean_absolute_error\n",
        "mae = mean_absolute_error(yy_test, predicted_values)\n",
        "round(mae, 2) "
      ],
      "execution_count": 62,
      "outputs": [
        {
          "output_type": "execute_result",
          "data": {
            "text/plain": [
              "37.07"
            ]
          },
          "metadata": {
            "tags": []
          },
          "execution_count": 62
        }
      ]
    },
    {
      "cell_type": "code",
      "metadata": {
        "id": "q4aiZnCgwlvy",
        "colab_type": "code",
        "colab": {
          "base_uri": "https://localhost:8080/",
          "height": 34
        },
        "outputId": "5c812824-e807-4bb4-b756-ad1cc9e22bfe"
      },
      "source": [
        "#for RSS\n",
        "from sklearn.metrics import r2_score\n",
        "r2_score = r2_score(yy_test, predicted_values)\n",
        "round(r2_score, 2)"
      ],
      "execution_count": 64,
      "outputs": [
        {
          "output_type": "execute_result",
          "data": {
            "text/plain": [
              "-43964.62"
            ]
          },
          "metadata": {
            "tags": []
          },
          "execution_count": 64
        }
      ]
    },
    {
      "cell_type": "code",
      "metadata": {
        "id": "wmL3vyhiwwdT",
        "colab_type": "code",
        "colab": {
          "base_uri": "https://localhost:8080/",
          "height": 34
        },
        "outputId": "29908b91-9ea1-4088-cf5e-3f01e091f1cf"
      },
      "source": [
        "#For the RMSE\n",
        "import numpy as np\n",
        "rss = np.sum(np.square(yy_test - predicted_values))\n",
        "round(rss, 3)\t   "
      ],
      "execution_count": 65,
      "outputs": [
        {
          "output_type": "execute_result",
          "data": {
            "text/plain": [
              "8137292.799"
            ]
          },
          "metadata": {
            "tags": []
          },
          "execution_count": 65
        }
      ]
    },
    {
      "cell_type": "code",
      "metadata": {
        "id": "eMd19E6aw9r0",
        "colab_type": "code",
        "colab": {
          "base_uri": "https://localhost:8080/",
          "height": 34
        },
        "outputId": "91c2a512-19f8-4541-d95e-930f560d3d04"
      },
      "source": [
        "r_sq = linear_model.score(xx_train,yy_train)\n",
        "print('coefficient of determination:', round(r_sq,3))"
      ],
      "execution_count": 67,
      "outputs": [
        {
          "output_type": "stream",
          "text": [
            "coefficient of determination: -43630.749\n"
          ],
          "name": "stdout"
        }
      ]
    },
    {
      "cell_type": "code",
      "metadata": {
        "id": "hDNUiXsHzyfr",
        "colab_type": "code",
        "colab": {}
      },
      "source": [
        "#Quiz Question 18\n",
        "#Ridge Regression\n",
        "from sklearn.linear_model import Ridge\n",
        "ridge_reg_xy = Ridge(alpha=0.4)\n",
        "ridge_reg_xy.fit(xx_train, yy_train);\n",
        "\n",
        "#obtain predictions\n",
        "predicted_values_ridge_xy = ridge_reg_xy.predict(xx_test)"
      ],
      "execution_count": 75,
      "outputs": []
    },
    {
      "cell_type": "code",
      "metadata": {
        "id": "mV7ddyu8z4GL",
        "colab_type": "code",
        "colab": {
          "base_uri": "https://localhost:8080/",
          "height": 34
        },
        "outputId": "e65265e3-e8bc-4680-815c-2e9041d11e78"
      },
      "source": [
        "#For the RMSE\n",
        "import numpy as np\n",
        "rss = np.sum(np.square(yy_test - predicted_values_ridge_xy))\n",
        "round(rss, 3)\t"
      ],
      "execution_count": 76,
      "outputs": [
        {
          "output_type": "execute_result",
          "data": {
            "text/plain": [
              "66.116"
            ]
          },
          "metadata": {
            "tags": []
          },
          "execution_count": 76
        }
      ]
    }
  ]
}