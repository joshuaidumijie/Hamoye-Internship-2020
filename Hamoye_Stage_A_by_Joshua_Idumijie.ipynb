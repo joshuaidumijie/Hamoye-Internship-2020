{
  "nbformat": 4,
  "nbformat_minor": 0,
  "metadata": {
    "colab": {
      "name": "Hamoye Stage A by Joshua Idumijie.ipynb",
      "provenance": [],
      "collapsed_sections": [],
      "authorship_tag": "ABX9TyOGmTipxDcjcZMZMYFZteX8",
      "include_colab_link": true
    },
    "kernelspec": {
      "name": "python3",
      "display_name": "Python 3"
    }
  },
  "cells": [
    {
      "cell_type": "markdown",
      "metadata": {
        "id": "view-in-github",
        "colab_type": "text"
      },
      "source": [
        "<a href=\"https://colab.research.google.com/github/joshuaidumijie/Hamoye-Internship-2020/blob/master/Hamoye_Stage_A_by_Joshua_Idumijie.ipynb\" target=\"_parent\"><img src=\"https://colab.research.google.com/assets/colab-badge.svg\" alt=\"Open In Colab\"/></a>"
      ]
    },
    {
      "cell_type": "markdown",
      "metadata": {
        "id": "E0CuXgrReJ1B"
      },
      "source": [
        "# The Quiz's Code are towards the end part of the code with the appropriate heading to identify it.\n",
        "\n",
        "##Stage A Assignment by Joshua Idumijie\n",
        "###The Objective of this Project is to determine:\n",
        "+ Explore the Operating Cost of the Individual Power Plant\n",
        "+ Investigate the impact of fuel cost on the viability of the different generation source\n",
        "+ Highlight the competitiveness of Renewable Electricity and\n",
        "+ Visualise the generation mix of different utilities eveloved over time."
      ]
    },
    {
      "cell_type": "markdown",
      "metadata": {
        "id": "Yp2Gb4jigHRr"
      },
      "source": [
        "## Some Background Information.\n",
        "### From exploring the data manually and doing some research into the Energy field, I came up with the following milestones to achieve the aforementioned goals.\n",
        "\n",
        "\n",
        "*   To confirm the operating cost, the the data set of all the costs from the dataset((fuel_cost_per_unit_burned,Fuel_cost_per_unit_delivered, fuel_cost_per_mmbtu all vs plant_name_ferc1))  and then compared to to each firm(over 2000 of them, not sure how to go ahead with this yet).\n",
        "*   The costs vs the type of fuel will help determine the impact of fuel type on cost of operation. (fuel_cost_per_unit_burned,Fuel_cost_per_unit_delivered, fuel_cost_per_mmbtu all vs Fuel_type_code_pudl) \n",
        "\n",
        "*   The Renewable fuel type will be highlighted to confirmed if it is competitive, if it generates relatively more electricity for less cost ( a lower cost to energy ratio - $/mmbtu) : the renewable fuel is nuclear since it is technically replenished by geologic processes. \n",
        "* Using a time series plot to visualise fuel type over time : **Fuel_type_code_pudl** vs **Report_year**\n",
        "\n"
      ]
    },
    {
      "cell_type": "markdown",
      "metadata": {
        "id": "85RklE7znif8"
      },
      "source": [
        "###**The Data is first imported, then cleaned, statistically explored, analysed, visualised and insights drawn to achieve the set goals.**"
      ]
    },
    {
      "cell_type": "code",
      "metadata": {
        "id": "cIZPTHwMnZeE",
        "colab": {
          "base_uri": "https://localhost:8080/",
          "height": 51
        },
        "outputId": "f60a7dfc-1061-403a-9d4b-60cd01ed84cf"
      },
      "source": [
        "#Importing all necessary libraries \n",
        "import numpy as np\n",
        "import pandas as pd\n",
        "import seaborn as sns\n",
        "import matplotlib.pyplot as plt\n"
      ],
      "execution_count": null,
      "outputs": [
        {
          "output_type": "stream",
          "text": [
            "/usr/local/lib/python3.6/dist-packages/statsmodels/tools/_testing.py:19: FutureWarning: pandas.util.testing is deprecated. Use the functions in the public API at pandas.testing instead.\n",
            "  import pandas.util.testing as tm\n"
          ],
          "name": "stderr"
        }
      ]
    },
    {
      "cell_type": "code",
      "metadata": {
        "id": "EYWTw4ICovQJ"
      },
      "source": [
        "#Import the the data set\n",
        "url = 'https://raw.githubusercontent.com/WalePhenomenon/climate_change/master/fuel_ferc1.csv'\n",
        "\n",
        "fuel_data = pd.read_csv(url, error_bad_lines = False)"
      ],
      "execution_count": null,
      "outputs": []
    },
    {
      "cell_type": "markdown",
      "metadata": {
        "id": "vvBFPMENpKkw"
      },
      "source": [
        "### Data Cleaning. This will involve:\n",
        "\n",
        "*   Check for missed data in the data set and filling them if possible, else, drop them.\n",
        "*   Check for Duplicates.\n",
        "*   Check to confirm that each entry in a column is of the right data type.\n",
        "\n",
        "\n"
      ]
    },
    {
      "cell_type": "code",
      "metadata": {
        "id": "lqsViI1qpFlp",
        "colab": {
          "base_uri": "https://localhost:8080/",
          "height": 221
        },
        "outputId": "36f2c7ba-d42e-4a77-c938-223c82ef6a89"
      },
      "source": [
        "#Confirming if any of the columns contain missing values\n",
        "fuel_data.isnull().sum()\n",
        "\n",
        "#result shows that fuel type column contains 180 missing data.b"
      ],
      "execution_count": null,
      "outputs": [
        {
          "output_type": "execute_result",
          "data": {
            "text/plain": [
              "record_id                         0\n",
              "utility_id_ferc1                  0\n",
              "report_year                       0\n",
              "plant_name_ferc1                  0\n",
              "fuel_type_code_pudl               0\n",
              "fuel_unit                       180\n",
              "fuel_qty_burned                   0\n",
              "fuel_mmbtu_per_unit               0\n",
              "fuel_cost_per_unit_burned         0\n",
              "fuel_cost_per_unit_delivered      0\n",
              "fuel_cost_per_mmbtu               0\n",
              "dtype: int64"
            ]
          },
          "metadata": {
            "tags": []
          },
          "execution_count": 3
        }
      ]
    },
    {
      "cell_type": "code",
      "metadata": {
        "id": "Xa98hVuzMjUT",
        "colab": {
          "base_uri": "https://localhost:8080/",
          "height": 323
        },
        "outputId": "6af14f7a-7969-4190-e5ab-d4a4c43d000c"
      },
      "source": [
        "#To check what type of data each column is, especially the fuel_data column to understand what to do with the NA\n",
        "fuel_data.info()"
      ],
      "execution_count": null,
      "outputs": [
        {
          "output_type": "stream",
          "text": [
            "<class 'pandas.core.frame.DataFrame'>\n",
            "RangeIndex: 29523 entries, 0 to 29522\n",
            "Data columns (total 11 columns):\n",
            " #   Column                        Non-Null Count  Dtype  \n",
            "---  ------                        --------------  -----  \n",
            " 0   record_id                     29523 non-null  object \n",
            " 1   utility_id_ferc1              29523 non-null  int64  \n",
            " 2   report_year                   29523 non-null  int64  \n",
            " 3   plant_name_ferc1              29523 non-null  object \n",
            " 4   fuel_type_code_pudl           29523 non-null  object \n",
            " 5   fuel_unit                     29343 non-null  object \n",
            " 6   fuel_qty_burned               29523 non-null  float64\n",
            " 7   fuel_mmbtu_per_unit           29523 non-null  float64\n",
            " 8   fuel_cost_per_unit_burned     29523 non-null  float64\n",
            " 9   fuel_cost_per_unit_delivered  29523 non-null  float64\n",
            " 10  fuel_cost_per_mmbtu           29523 non-null  float64\n",
            "dtypes: float64(5), int64(2), object(4)\n",
            "memory usage: 2.5+ MB\n"
          ],
          "name": "stdout"
        }
      ]
    },
    {
      "cell_type": "code",
      "metadata": {
        "id": "w-wlF5YGqjBL",
        "colab": {
          "base_uri": "https://localhost:8080/",
          "height": 390
        },
        "outputId": "d62c221b-f5d0-4d8d-e654-9246c57ff7fc"
      },
      "source": [
        "# I will use the mode of the fuel_data column to fill the missing values, other methods were stated in the further readings...\n",
        "\n",
        "fuel_data.describe( include = 'all')\n",
        "\n",
        " \n"
      ],
      "execution_count": null,
      "outputs": [
        {
          "output_type": "execute_result",
          "data": {
            "text/html": [
              "<div>\n",
              "<style scoped>\n",
              "    .dataframe tbody tr th:only-of-type {\n",
              "        vertical-align: middle;\n",
              "    }\n",
              "\n",
              "    .dataframe tbody tr th {\n",
              "        vertical-align: top;\n",
              "    }\n",
              "\n",
              "    .dataframe thead th {\n",
              "        text-align: right;\n",
              "    }\n",
              "</style>\n",
              "<table border=\"1\" class=\"dataframe\">\n",
              "  <thead>\n",
              "    <tr style=\"text-align: right;\">\n",
              "      <th></th>\n",
              "      <th>record_id</th>\n",
              "      <th>utility_id_ferc1</th>\n",
              "      <th>report_year</th>\n",
              "      <th>plant_name_ferc1</th>\n",
              "      <th>fuel_type_code_pudl</th>\n",
              "      <th>fuel_unit</th>\n",
              "      <th>fuel_qty_burned</th>\n",
              "      <th>fuel_mmbtu_per_unit</th>\n",
              "      <th>fuel_cost_per_unit_burned</th>\n",
              "      <th>fuel_cost_per_unit_delivered</th>\n",
              "      <th>fuel_cost_per_mmbtu</th>\n",
              "    </tr>\n",
              "  </thead>\n",
              "  <tbody>\n",
              "    <tr>\n",
              "      <th>count</th>\n",
              "      <td>29523</td>\n",
              "      <td>29523.000000</td>\n",
              "      <td>29523.000000</td>\n",
              "      <td>29523</td>\n",
              "      <td>29523</td>\n",
              "      <td>29343</td>\n",
              "      <td>2.952300e+04</td>\n",
              "      <td>29523.000000</td>\n",
              "      <td>29523.000000</td>\n",
              "      <td>2.952300e+04</td>\n",
              "      <td>29523.000000</td>\n",
              "    </tr>\n",
              "    <tr>\n",
              "      <th>unique</th>\n",
              "      <td>29523</td>\n",
              "      <td>NaN</td>\n",
              "      <td>NaN</td>\n",
              "      <td>2315</td>\n",
              "      <td>6</td>\n",
              "      <td>9</td>\n",
              "      <td>NaN</td>\n",
              "      <td>NaN</td>\n",
              "      <td>NaN</td>\n",
              "      <td>NaN</td>\n",
              "      <td>NaN</td>\n",
              "    </tr>\n",
              "    <tr>\n",
              "      <th>top</th>\n",
              "      <td>f1_fuel_2003_12_164_0_13</td>\n",
              "      <td>NaN</td>\n",
              "      <td>NaN</td>\n",
              "      <td>big stone</td>\n",
              "      <td>gas</td>\n",
              "      <td>mcf</td>\n",
              "      <td>NaN</td>\n",
              "      <td>NaN</td>\n",
              "      <td>NaN</td>\n",
              "      <td>NaN</td>\n",
              "      <td>NaN</td>\n",
              "    </tr>\n",
              "    <tr>\n",
              "      <th>freq</th>\n",
              "      <td>1</td>\n",
              "      <td>NaN</td>\n",
              "      <td>NaN</td>\n",
              "      <td>156</td>\n",
              "      <td>11486</td>\n",
              "      <td>11354</td>\n",
              "      <td>NaN</td>\n",
              "      <td>NaN</td>\n",
              "      <td>NaN</td>\n",
              "      <td>NaN</td>\n",
              "      <td>NaN</td>\n",
              "    </tr>\n",
              "    <tr>\n",
              "      <th>mean</th>\n",
              "      <td>NaN</td>\n",
              "      <td>118.601836</td>\n",
              "      <td>2005.806050</td>\n",
              "      <td>NaN</td>\n",
              "      <td>NaN</td>\n",
              "      <td>NaN</td>\n",
              "      <td>2.622119e+06</td>\n",
              "      <td>8.492111</td>\n",
              "      <td>208.649031</td>\n",
              "      <td>9.175704e+02</td>\n",
              "      <td>19.304354</td>\n",
              "    </tr>\n",
              "    <tr>\n",
              "      <th>std</th>\n",
              "      <td>NaN</td>\n",
              "      <td>74.178353</td>\n",
              "      <td>7.025483</td>\n",
              "      <td>NaN</td>\n",
              "      <td>NaN</td>\n",
              "      <td>NaN</td>\n",
              "      <td>9.118004e+06</td>\n",
              "      <td>10.600220</td>\n",
              "      <td>2854.490090</td>\n",
              "      <td>6.877593e+04</td>\n",
              "      <td>2091.540939</td>\n",
              "    </tr>\n",
              "    <tr>\n",
              "      <th>min</th>\n",
              "      <td>NaN</td>\n",
              "      <td>1.000000</td>\n",
              "      <td>1994.000000</td>\n",
              "      <td>NaN</td>\n",
              "      <td>NaN</td>\n",
              "      <td>NaN</td>\n",
              "      <td>1.000000e+00</td>\n",
              "      <td>0.000001</td>\n",
              "      <td>-276.080000</td>\n",
              "      <td>-8.749370e+02</td>\n",
              "      <td>-41.501000</td>\n",
              "    </tr>\n",
              "    <tr>\n",
              "      <th>25%</th>\n",
              "      <td>NaN</td>\n",
              "      <td>55.000000</td>\n",
              "      <td>2000.000000</td>\n",
              "      <td>NaN</td>\n",
              "      <td>NaN</td>\n",
              "      <td>NaN</td>\n",
              "      <td>1.381700e+04</td>\n",
              "      <td>1.024000</td>\n",
              "      <td>5.207000</td>\n",
              "      <td>3.778500e+00</td>\n",
              "      <td>1.940000</td>\n",
              "    </tr>\n",
              "    <tr>\n",
              "      <th>50%</th>\n",
              "      <td>NaN</td>\n",
              "      <td>122.000000</td>\n",
              "      <td>2006.000000</td>\n",
              "      <td>NaN</td>\n",
              "      <td>NaN</td>\n",
              "      <td>NaN</td>\n",
              "      <td>2.533220e+05</td>\n",
              "      <td>5.762694</td>\n",
              "      <td>26.000000</td>\n",
              "      <td>1.737100e+01</td>\n",
              "      <td>4.127000</td>\n",
              "    </tr>\n",
              "    <tr>\n",
              "      <th>75%</th>\n",
              "      <td>NaN</td>\n",
              "      <td>176.000000</td>\n",
              "      <td>2012.000000</td>\n",
              "      <td>NaN</td>\n",
              "      <td>NaN</td>\n",
              "      <td>NaN</td>\n",
              "      <td>1.424034e+06</td>\n",
              "      <td>17.006000</td>\n",
              "      <td>47.113000</td>\n",
              "      <td>4.213700e+01</td>\n",
              "      <td>7.745000</td>\n",
              "    </tr>\n",
              "    <tr>\n",
              "      <th>max</th>\n",
              "      <td>NaN</td>\n",
              "      <td>514.000000</td>\n",
              "      <td>2018.000000</td>\n",
              "      <td>NaN</td>\n",
              "      <td>NaN</td>\n",
              "      <td>NaN</td>\n",
              "      <td>5.558942e+08</td>\n",
              "      <td>341.260000</td>\n",
              "      <td>139358.000000</td>\n",
              "      <td>7.964521e+06</td>\n",
              "      <td>359278.000000</td>\n",
              "    </tr>\n",
              "  </tbody>\n",
              "</table>\n",
              "</div>"
            ],
            "text/plain": [
              "                       record_id  ...  fuel_cost_per_mmbtu\n",
              "count                      29523  ...         29523.000000\n",
              "unique                     29523  ...                  NaN\n",
              "top     f1_fuel_2003_12_164_0_13  ...                  NaN\n",
              "freq                           1  ...                  NaN\n",
              "mean                         NaN  ...            19.304354\n",
              "std                          NaN  ...          2091.540939\n",
              "min                          NaN  ...           -41.501000\n",
              "25%                          NaN  ...             1.940000\n",
              "50%                          NaN  ...             4.127000\n",
              "75%                          NaN  ...             7.745000\n",
              "max                          NaN  ...        359278.000000\n",
              "\n",
              "[11 rows x 11 columns]"
            ]
          },
          "metadata": {
            "tags": []
          },
          "execution_count": 5
        }
      ]
    },
    {
      "cell_type": "markdown",
      "metadata": {
        "id": "gK2X3hEDP2BA"
      },
      "source": [
        "## Remarks on the statistical description\n",
        "* The record ID is unique to each entry. The utility ID has a range of 1 to 514.\n",
        "* The year covers from 1994 to 2018. Since median(50%) is true then that column is correct.\n",
        "* It appears most of the data was collected from big stone.\n",
        "* Gas was used the most(11486).  It has 6 unique entry my love.\n",
        "* The fuel unit has 9 entries with mcf with highest entry.\n",
        "* The fuel_qty_burned has a minimum value of 1.\n",
        "* The fuel_mmbtu_per_unit has a minimum value of 0.000001.\n",
        "* The other costs have a minimum negative value, this could suggest that no cost was incurred or maybe it was an error. \n",
        "\n",
        "#### From the last insights I will look up that row."
      ]
    },
    {
      "cell_type": "code",
      "metadata": {
        "id": "MVQyTQfhV3rI",
        "colab": {
          "base_uri": "https://localhost:8080/",
          "height": 80
        },
        "outputId": "412e314f-4942-4533-d50a-df259449213d"
      },
      "source": [
        "fuel_data[fuel_data['fuel_cost_per_unit_burned'] == -276.080000\t]\n",
        "\n",
        "#From the results, I am not to sure let me look up another"
      ],
      "execution_count": null,
      "outputs": [
        {
          "output_type": "execute_result",
          "data": {
            "text/html": [
              "<div>\n",
              "<style scoped>\n",
              "    .dataframe tbody tr th:only-of-type {\n",
              "        vertical-align: middle;\n",
              "    }\n",
              "\n",
              "    .dataframe tbody tr th {\n",
              "        vertical-align: top;\n",
              "    }\n",
              "\n",
              "    .dataframe thead th {\n",
              "        text-align: right;\n",
              "    }\n",
              "</style>\n",
              "<table border=\"1\" class=\"dataframe\">\n",
              "  <thead>\n",
              "    <tr style=\"text-align: right;\">\n",
              "      <th></th>\n",
              "      <th>record_id</th>\n",
              "      <th>utility_id_ferc1</th>\n",
              "      <th>report_year</th>\n",
              "      <th>plant_name_ferc1</th>\n",
              "      <th>fuel_type_code_pudl</th>\n",
              "      <th>fuel_unit</th>\n",
              "      <th>fuel_qty_burned</th>\n",
              "      <th>fuel_mmbtu_per_unit</th>\n",
              "      <th>fuel_cost_per_unit_burned</th>\n",
              "      <th>fuel_cost_per_unit_delivered</th>\n",
              "      <th>fuel_cost_per_mmbtu</th>\n",
              "    </tr>\n",
              "  </thead>\n",
              "  <tbody>\n",
              "    <tr>\n",
              "      <th>7733</th>\n",
              "      <td>f1_fuel_2000_12_194_3_3</td>\n",
              "      <td>194</td>\n",
              "      <td>2000</td>\n",
              "      <td>nelson dewey unit 2</td>\n",
              "      <td>waste</td>\n",
              "      <td>ton</td>\n",
              "      <td>39.0</td>\n",
              "      <td>0.0155</td>\n",
              "      <td>-276.08</td>\n",
              "      <td>-174.67</td>\n",
              "      <td>-8.906</td>\n",
              "    </tr>\n",
              "  </tbody>\n",
              "</table>\n",
              "</div>"
            ],
            "text/plain": [
              "                    record_id  ...  fuel_cost_per_mmbtu\n",
              "7733  f1_fuel_2000_12_194_3_3  ...               -8.906\n",
              "\n",
              "[1 rows x 11 columns]"
            ]
          },
          "metadata": {
            "tags": []
          },
          "execution_count": 6
        }
      ]
    },
    {
      "cell_type": "code",
      "metadata": {
        "id": "-JPg1WHmWo4-",
        "colab": {
          "base_uri": "https://localhost:8080/",
          "height": 80
        },
        "outputId": "cf74fd92-b18c-4c37-fb5a-46f9fc90f709"
      },
      "source": [
        "fuel_data[fuel_data['fuel_cost_per_unit_delivered'] == -8.749370e+02\t\t]"
      ],
      "execution_count": null,
      "outputs": [
        {
          "output_type": "execute_result",
          "data": {
            "text/html": [
              "<div>\n",
              "<style scoped>\n",
              "    .dataframe tbody tr th:only-of-type {\n",
              "        vertical-align: middle;\n",
              "    }\n",
              "\n",
              "    .dataframe tbody tr th {\n",
              "        vertical-align: top;\n",
              "    }\n",
              "\n",
              "    .dataframe thead th {\n",
              "        text-align: right;\n",
              "    }\n",
              "</style>\n",
              "<table border=\"1\" class=\"dataframe\">\n",
              "  <thead>\n",
              "    <tr style=\"text-align: right;\">\n",
              "      <th></th>\n",
              "      <th>record_id</th>\n",
              "      <th>utility_id_ferc1</th>\n",
              "      <th>report_year</th>\n",
              "      <th>plant_name_ferc1</th>\n",
              "      <th>fuel_type_code_pudl</th>\n",
              "      <th>fuel_unit</th>\n",
              "      <th>fuel_qty_burned</th>\n",
              "      <th>fuel_mmbtu_per_unit</th>\n",
              "      <th>fuel_cost_per_unit_burned</th>\n",
              "      <th>fuel_cost_per_unit_delivered</th>\n",
              "      <th>fuel_cost_per_mmbtu</th>\n",
              "    </tr>\n",
              "  </thead>\n",
              "  <tbody>\n",
              "    <tr>\n",
              "      <th>17525</th>\n",
              "      <td>f1_fuel_2008_12_177_1_1</td>\n",
              "      <td>177</td>\n",
              "      <td>2008</td>\n",
              "      <td>mexico c.t.</td>\n",
              "      <td>oil</td>\n",
              "      <td>bbl</td>\n",
              "      <td>811.0</td>\n",
              "      <td>5.754</td>\n",
              "      <td>86.628</td>\n",
              "      <td>-874.937</td>\n",
              "      <td>15.055</td>\n",
              "    </tr>\n",
              "  </tbody>\n",
              "</table>\n",
              "</div>"
            ],
            "text/plain": [
              "                     record_id  ...  fuel_cost_per_mmbtu\n",
              "17525  f1_fuel_2008_12_177_1_1  ...               15.055\n",
              "\n",
              "[1 rows x 11 columns]"
            ]
          },
          "metadata": {
            "tags": []
          },
          "execution_count": 7
        }
      ]
    },
    {
      "cell_type": "markdown",
      "metadata": {
        "id": "2r9a8PI6XTBA"
      },
      "source": [
        "#### At this point I will consult with an energy expert to understand the implication of the negative cost."
      ]
    },
    {
      "cell_type": "code",
      "metadata": {
        "id": "EyseLyVWrfBc",
        "colab": {
          "base_uri": "https://localhost:8080/",
          "height": 51
        },
        "outputId": "c09d13b5-a55e-48a3-f553-1bcd935de7e2"
      },
      "source": [
        "#to find out the mode\n",
        "fuel_data['fuel_unit'].mode()\n",
        "\n"
      ],
      "execution_count": null,
      "outputs": [
        {
          "output_type": "execute_result",
          "data": {
            "text/plain": [
              "0    mcf\n",
              "dtype: object"
            ]
          },
          "metadata": {
            "tags": []
          },
          "execution_count": 8
        }
      ]
    },
    {
      "cell_type": "code",
      "metadata": {
        "id": "Zl06KC1QOKH0",
        "colab": {
          "base_uri": "https://localhost:8080/",
          "height": 204
        },
        "outputId": "9e9c0ca8-2d88-4706-c14f-31a390f7c37e"
      },
      "source": [
        "#mcf has the highest mode, hence we will fill the missing values With the mode\n",
        "fuel_data[['fuel_unit']] = fuel_data[['fuel_unit']].fillna(value='mcf')\n",
        "fuel_data.groupby('fuel_unit')['fuel_unit'].count()"
      ],
      "execution_count": null,
      "outputs": [
        {
          "output_type": "execute_result",
          "data": {
            "text/plain": [
              "fuel_unit\n",
              "bbl        7998\n",
              "gal          84\n",
              "gramsU      464\n",
              "kgU         110\n",
              "mcf       11534\n",
              "mmbtu       180\n",
              "mwdth        95\n",
              "mwhth       100\n",
              "ton        8958\n",
              "Name: fuel_unit, dtype: int64"
            ]
          },
          "metadata": {
            "tags": []
          },
          "execution_count": 9
        }
      ]
    },
    {
      "cell_type": "code",
      "metadata": {
        "id": "3S-CzdQesK3j",
        "colab": {
          "base_uri": "https://localhost:8080/",
          "height": 221
        },
        "outputId": "8cca57e2-51fb-4fc1-b3b7-0a0e8e40e5de"
      },
      "source": [
        "#to confirm no missing value exist\n",
        "fuel_data.isnull().sum()"
      ],
      "execution_count": null,
      "outputs": [
        {
          "output_type": "execute_result",
          "data": {
            "text/plain": [
              "record_id                       0\n",
              "utility_id_ferc1                0\n",
              "report_year                     0\n",
              "plant_name_ferc1                0\n",
              "fuel_type_code_pudl             0\n",
              "fuel_unit                       0\n",
              "fuel_qty_burned                 0\n",
              "fuel_mmbtu_per_unit             0\n",
              "fuel_cost_per_unit_burned       0\n",
              "fuel_cost_per_unit_delivered    0\n",
              "fuel_cost_per_mmbtu             0\n",
              "dtype: int64"
            ]
          },
          "metadata": {
            "tags": []
          },
          "execution_count": 10
        }
      ]
    },
    {
      "cell_type": "code",
      "metadata": {
        "id": "1FK390p_J8-g",
        "colab": {
          "base_uri": "https://localhost:8080/",
          "height": 34
        },
        "outputId": "1c1f4ed8-bac7-49a9-a367-0b292983afdb"
      },
      "source": [
        "#checking for duplicates\n",
        "\n",
        "fuel_data.duplicated().any()"
      ],
      "execution_count": null,
      "outputs": [
        {
          "output_type": "execute_result",
          "data": {
            "text/plain": [
              "False"
            ]
          },
          "metadata": {
            "tags": []
          },
          "execution_count": 11
        }
      ]
    },
    {
      "cell_type": "code",
      "metadata": {
        "id": "BHXopdjYsTAd"
      },
      "source": [
        "# commonly used form of a missing entry can be ? or - we will confirm if the data set doesn't contain this\n",
        "\n"
      ],
      "execution_count": null,
      "outputs": []
    },
    {
      "cell_type": "markdown",
      "metadata": {
        "id": "_b0sCMw70_3j"
      },
      "source": [
        "###**Since the Data set is now cleaned, we will carry out some exploratory statistics and the visualise our data and draw our insights from the results**\n",
        "\n",
        "### The Data will have to be broken further to make sense of them.\n",
        "### I will break them up based on the years "
      ]
    },
    {
      "cell_type": "code",
      "metadata": {
        "id": "fVZ_6XHKrpjr",
        "colab": {
          "base_uri": "https://localhost:8080/",
          "height": 459
        },
        "outputId": "38f02c6c-5ca2-496b-95dc-6ce364fd80e3"
      },
      "source": [
        "#to confirm the frequencies of the years in the dataset\n",
        "fuel_data['report_year'].value_counts()"
      ],
      "execution_count": null,
      "outputs": [
        {
          "output_type": "execute_result",
          "data": {
            "text/plain": [
              "2000    1373\n",
              "2001    1356\n",
              "2005    1269\n",
              "2007    1264\n",
              "2010    1261\n",
              "2006    1243\n",
              "2012    1243\n",
              "2011    1240\n",
              "1994    1235\n",
              "2008    1228\n",
              "2009    1222\n",
              "2003    1211\n",
              "2002    1205\n",
              "1995    1201\n",
              "2013    1199\n",
              "2004    1192\n",
              "2014    1171\n",
              "1998    1107\n",
              "1997    1094\n",
              "2015    1093\n",
              "1996    1088\n",
              "1999    1050\n",
              "2016    1034\n",
              "2017     993\n",
              "2018     951\n",
              "Name: report_year, dtype: int64"
            ]
          },
          "metadata": {
            "tags": []
          },
          "execution_count": 13
        }
      ]
    },
    {
      "cell_type": "code",
      "metadata": {
        "id": "F-50jSqmr1BP",
        "colab": {
          "base_uri": "https://localhost:8080/",
          "height": 51
        },
        "outputId": "07893868-9633-46e3-ae38-a0072f4f69ef"
      },
      "source": [
        "#I started with iloc slicing method then came across conditional slicing the used that for the rest.\n",
        "Year_1994 = fuel_data[fuel_data.report_year == 1994]\n",
        "Year_1994['report_year'].value_counts()"
      ],
      "execution_count": null,
      "outputs": [
        {
          "output_type": "execute_result",
          "data": {
            "text/plain": [
              "1994    1235\n",
              "Name: report_year, dtype: int64"
            ]
          },
          "metadata": {
            "tags": []
          },
          "execution_count": 14
        }
      ]
    },
    {
      "cell_type": "code",
      "metadata": {
        "id": "uk_87UezsK78",
        "colab": {
          "base_uri": "https://localhost:8080/",
          "height": 51
        },
        "outputId": "0c03e8de-9961-448f-8f70-988b8cb4ec05"
      },
      "source": [
        "Year_1995 = fuel_data[fuel_data.report_year == 1995]\n",
        "Year_1995['report_year'].value_counts()"
      ],
      "execution_count": null,
      "outputs": [
        {
          "output_type": "execute_result",
          "data": {
            "text/plain": [
              "1995    1201\n",
              "Name: report_year, dtype: int64"
            ]
          },
          "metadata": {
            "tags": []
          },
          "execution_count": 15
        }
      ]
    },
    {
      "cell_type": "code",
      "metadata": {
        "id": "xghu4zMssQ_G",
        "colab": {
          "base_uri": "https://localhost:8080/",
          "height": 51
        },
        "outputId": "15d6b9fb-bc6f-4f73-c42a-45490998fa31"
      },
      "source": [
        "Year_1996 = fuel_data[fuel_data.report_year == 1996]\n",
        "Year_1996['report_year'].value_counts()"
      ],
      "execution_count": null,
      "outputs": [
        {
          "output_type": "execute_result",
          "data": {
            "text/plain": [
              "1996    1088\n",
              "Name: report_year, dtype: int64"
            ]
          },
          "metadata": {
            "tags": []
          },
          "execution_count": 16
        }
      ]
    },
    {
      "cell_type": "code",
      "metadata": {
        "id": "AajKjxPBs0TW"
      },
      "source": [
        "Year_1997 = fuel_data[fuel_data.report_year == 1997]\n",
        "Year_1998 = fuel_data[fuel_data.report_year == 1998]\n",
        "Year_1999 = fuel_data[fuel_data.report_year == 1999]\n",
        "Year_2000 = fuel_data[fuel_data.report_year == 2000]\n",
        "Year_2001 = fuel_data[fuel_data.report_year == 2001]\n",
        "Year_2002 = fuel_data[fuel_data.report_year == 2002]\n",
        "Year_2003 = fuel_data[fuel_data.report_year == 2003]\n",
        "Year_2004 = fuel_data[fuel_data.report_year == 2004]\n",
        "Year_2005 = fuel_data[fuel_data.report_year == 2005]\n",
        "Year_2006 = fuel_data[fuel_data.report_year == 2006]\n",
        "Year_2007 = fuel_data[fuel_data.report_year == 2007]\n",
        "Year_2008 = fuel_data[fuel_data.report_year == 2008]\n",
        "Year_2009 = fuel_data[fuel_data.report_year == 2009]\n",
        "Year_2010 = fuel_data[fuel_data.report_year == 2010]\n",
        "Year_2011 = fuel_data[fuel_data.report_year == 2011]\n",
        "Year_2012 = fuel_data[fuel_data.report_year == 2012]\n",
        "Year_2013 = fuel_data[fuel_data.report_year == 2013]\n",
        "Year_2014 = fuel_data[fuel_data.report_year == 2014]\n",
        "Year_2015 = fuel_data[fuel_data.report_year == 2015]\n",
        "Year_2016 = fuel_data[fuel_data.report_year == 2016]\n",
        "Year_2017 = fuel_data[fuel_data.report_year == 2017]\n",
        "Year_2018 = fuel_data[fuel_data.report_year == 2018]\n",
        "\n",
        "#repeating all the codes since prior to this cell it has been correct \n",
        "\n",
        "\n",
        "#To get the the counts of fuel type in each year and then visualise this\n",
        "\n",
        "\n"
      ],
      "execution_count": null,
      "outputs": []
    },
    {
      "cell_type": "code",
      "metadata": {
        "id": "wPbr5eJ2Oite",
        "colab": {
          "base_uri": "https://localhost:8080/",
          "height": 1000
        },
        "outputId": "974bec14-fce6-4e24-a5b2-4d1fc6698202"
      },
      "source": [
        "print(Year_1994['fuel_type_code_pudl'].value_counts())\n",
        "print(Year_1995['fuel_type_code_pudl'].value_counts())\n",
        "print(Year_1996['fuel_type_code_pudl'].value_counts())\n",
        "print(Year_1997['fuel_type_code_pudl'].value_counts())\n",
        "print(Year_1998['fuel_type_code_pudl'].value_counts())\n",
        "print(Year_1999['fuel_type_code_pudl'].value_counts())\n",
        "print(Year_2000['fuel_type_code_pudl'].value_counts())\n",
        "print(Year_2001['fuel_type_code_pudl'].value_counts())\n",
        "print(Year_2002['fuel_type_code_pudl'].value_counts())\n",
        "print(Year_2003['fuel_type_code_pudl'].value_counts())\n",
        "print(Year_2004['fuel_type_code_pudl'].value_counts())\n",
        "print(Year_2005['fuel_type_code_pudl'].value_counts())\n",
        "print(Year_2006['fuel_type_code_pudl'].value_counts())\n",
        "print(Year_2007['fuel_type_code_pudl'].value_counts())\n",
        "print(Year_2008['fuel_type_code_pudl'].value_counts())\n",
        "print(Year_2009['fuel_type_code_pudl'].value_counts())\n",
        "print(Year_2010['fuel_type_code_pudl'].value_counts())\n",
        "print(Year_2011['fuel_type_code_pudl'].value_counts())\n",
        "print(Year_2012['fuel_type_code_pudl'].value_counts())\n",
        "print(Year_2013['fuel_type_code_pudl'].value_counts())\n",
        "print(Year_2014['fuel_type_code_pudl'].value_counts())\n",
        "print(Year_2015['fuel_type_code_pudl'].value_counts())\n",
        "print(Year_2016['fuel_type_code_pudl'].value_counts())\n",
        "print(Year_2017['fuel_type_code_pudl'].value_counts())\n",
        "print(Year_2018['fuel_type_code_pudl'].value_counts())"
      ],
      "execution_count": null,
      "outputs": [
        {
          "output_type": "stream",
          "text": [
            "gas        487\n",
            "coal       475\n",
            "oil        166\n",
            "nuclear     71\n",
            "waste       24\n",
            "other       12\n",
            "Name: fuel_type_code_pudl, dtype: int64\n",
            "gas        503\n",
            "coal       475\n",
            "oil        113\n",
            "nuclear     73\n",
            "waste       22\n",
            "other       15\n",
            "Name: fuel_type_code_pudl, dtype: int64\n",
            "coal       431\n",
            "gas        426\n",
            "oil        160\n",
            "nuclear     41\n",
            "waste       22\n",
            "other        8\n",
            "Name: fuel_type_code_pudl, dtype: int64\n",
            "gas        448\n",
            "coal       417\n",
            "oil        163\n",
            "nuclear     31\n",
            "waste       23\n",
            "other       12\n",
            "Name: fuel_type_code_pudl, dtype: int64\n",
            "gas        515\n",
            "coal       431\n",
            "oil         68\n",
            "nuclear     57\n",
            "waste       20\n",
            "other       16\n",
            "Name: fuel_type_code_pudl, dtype: int64\n",
            "gas        493\n",
            "coal       425\n",
            "nuclear     57\n",
            "oil         48\n",
            "waste       14\n",
            "other       13\n",
            "Name: fuel_type_code_pudl, dtype: int64\n",
            "gas        474\n",
            "oil        416\n",
            "coal       403\n",
            "nuclear     56\n",
            "waste       14\n",
            "other       10\n",
            "Name: fuel_type_code_pudl, dtype: int64\n",
            "oil        474\n",
            "gas        454\n",
            "coal       363\n",
            "nuclear     44\n",
            "waste       15\n",
            "other        6\n",
            "Name: fuel_type_code_pudl, dtype: int64\n",
            "gas        443\n",
            "oil        374\n",
            "coal       332\n",
            "nuclear     34\n",
            "waste       15\n",
            "other        7\n",
            "Name: fuel_type_code_pudl, dtype: int64\n",
            "oil        431\n",
            "gas        403\n",
            "coal       329\n",
            "nuclear     30\n",
            "waste       12\n",
            "other        6\n",
            "Name: fuel_type_code_pudl, dtype: int64\n",
            "oil        430\n",
            "gas        391\n",
            "coal       322\n",
            "nuclear     26\n",
            "waste       15\n",
            "other        8\n",
            "Name: fuel_type_code_pudl, dtype: int64\n",
            "oil        468\n",
            "gas        427\n",
            "coal       324\n",
            "nuclear     30\n",
            "waste       14\n",
            "other        6\n",
            "Name: fuel_type_code_pudl, dtype: int64\n",
            "oil        438\n",
            "gas        429\n",
            "coal       327\n",
            "nuclear     24\n",
            "waste       18\n",
            "other        7\n",
            "Name: fuel_type_code_pudl, dtype: int64\n",
            "gas        446\n",
            "oil        444\n",
            "coal       330\n",
            "nuclear     20\n",
            "waste       17\n",
            "other        7\n",
            "Name: fuel_type_code_pudl, dtype: int64\n",
            "gas        455\n",
            "oil        408\n",
            "coal       322\n",
            "nuclear     20\n",
            "waste       16\n",
            "other        7\n",
            "Name: fuel_type_code_pudl, dtype: int64\n",
            "gas        455\n",
            "oil        399\n",
            "coal       319\n",
            "waste       21\n",
            "nuclear     20\n",
            "other        8\n",
            "Name: fuel_type_code_pudl, dtype: int64\n",
            "gas        494\n",
            "oil        406\n",
            "coal       316\n",
            "nuclear     20\n",
            "waste       19\n",
            "other        6\n",
            "Name: fuel_type_code_pudl, dtype: int64\n",
            "gas        489\n",
            "oil        385\n",
            "coal       323\n",
            "nuclear     22\n",
            "waste       18\n",
            "other        3\n",
            "Name: fuel_type_code_pudl, dtype: int64\n",
            "gas        482\n",
            "oil        392\n",
            "coal       327\n",
            "nuclear     21\n",
            "waste       17\n",
            "other        4\n",
            "Name: fuel_type_code_pudl, dtype: int64\n",
            "gas        469\n",
            "oil        366\n",
            "coal       320\n",
            "waste       21\n",
            "nuclear     20\n",
            "other        3\n",
            "Name: fuel_type_code_pudl, dtype: int64\n",
            "gas        468\n",
            "oil        369\n",
            "coal       295\n",
            "nuclear     20\n",
            "waste       18\n",
            "other        1\n",
            "Name: fuel_type_code_pudl, dtype: int64\n",
            "gas        468\n",
            "oil        317\n",
            "coal       268\n",
            "nuclear     21\n",
            "waste       18\n",
            "other        1\n",
            "Name: fuel_type_code_pudl, dtype: int64\n",
            "gas        468\n",
            "oil        289\n",
            "coal       239\n",
            "nuclear     20\n",
            "waste       17\n",
            "other        1\n",
            "Name: fuel_type_code_pudl, dtype: int64\n",
            "gas        449\n",
            "oil        286\n",
            "coal       223\n",
            "nuclear     20\n",
            "waste       15\n",
            "Name: fuel_type_code_pudl, dtype: int64\n",
            "gas        450\n",
            "oil        254\n",
            "coal       211\n",
            "nuclear     20\n",
            "waste       16\n",
            "Name: fuel_type_code_pudl, dtype: int64\n"
          ],
          "name": "stdout"
        }
      ]
    },
    {
      "cell_type": "code",
      "metadata": {
        "id": "I2sfE0VptrZE",
        "colab": {
          "base_uri": "https://localhost:8080/",
          "height": 419
        },
        "outputId": "0792f136-c085-4933-bb4f-4be4cf9b3946"
      },
      "source": [
        "# To answer the first objective, I will be using using the fuel cost and comparing it to the plants.\n",
        "\n",
        "fuel_data[fuel_data.plant_name_ferc1 == 'big stone']\n",
        "\n",
        "# Checking the relationship for 2315 individual plants not so feasible based on my present knowledge \n",
        "\n",
        "# I will just used big stone as a case study"
      ],
      "execution_count": null,
      "outputs": [
        {
          "output_type": "execute_result",
          "data": {
            "text/html": [
              "<div>\n",
              "<style scoped>\n",
              "    .dataframe tbody tr th:only-of-type {\n",
              "        vertical-align: middle;\n",
              "    }\n",
              "\n",
              "    .dataframe tbody tr th {\n",
              "        vertical-align: top;\n",
              "    }\n",
              "\n",
              "    .dataframe thead th {\n",
              "        text-align: right;\n",
              "    }\n",
              "</style>\n",
              "<table border=\"1\" class=\"dataframe\">\n",
              "  <thead>\n",
              "    <tr style=\"text-align: right;\">\n",
              "      <th></th>\n",
              "      <th>record_id</th>\n",
              "      <th>utility_id_ferc1</th>\n",
              "      <th>report_year</th>\n",
              "      <th>plant_name_ferc1</th>\n",
              "      <th>fuel_type_code_pudl</th>\n",
              "      <th>fuel_unit</th>\n",
              "      <th>fuel_qty_burned</th>\n",
              "      <th>fuel_mmbtu_per_unit</th>\n",
              "      <th>fuel_cost_per_unit_burned</th>\n",
              "      <th>fuel_cost_per_unit_delivered</th>\n",
              "      <th>fuel_cost_per_mmbtu</th>\n",
              "    </tr>\n",
              "  </thead>\n",
              "  <tbody>\n",
              "    <tr>\n",
              "      <th>553</th>\n",
              "      <td>f1_fuel_1994_12_132_0_4</td>\n",
              "      <td>132</td>\n",
              "      <td>1994</td>\n",
              "      <td>big stone</td>\n",
              "      <td>coal</td>\n",
              "      <td>bbl</td>\n",
              "      <td>1290598.0</td>\n",
              "      <td>12.098000</td>\n",
              "      <td>13.290</td>\n",
              "      <td>13.220</td>\n",
              "      <td>1.099</td>\n",
              "    </tr>\n",
              "    <tr>\n",
              "      <th>554</th>\n",
              "      <td>f1_fuel_1994_12_132_0_6</td>\n",
              "      <td>132</td>\n",
              "      <td>1994</td>\n",
              "      <td>big stone</td>\n",
              "      <td>other</td>\n",
              "      <td>ton</td>\n",
              "      <td>19361.0</td>\n",
              "      <td>0.013535</td>\n",
              "      <td>18.980</td>\n",
              "      <td>18.980</td>\n",
              "      <td>0.701</td>\n",
              "    </tr>\n",
              "    <tr>\n",
              "      <th>555</th>\n",
              "      <td>f1_fuel_1994_12_132_0_7</td>\n",
              "      <td>132</td>\n",
              "      <td>1994</td>\n",
              "      <td>big stone</td>\n",
              "      <td>waste</td>\n",
              "      <td>ton</td>\n",
              "      <td>3632.0</td>\n",
              "      <td>0.006990</td>\n",
              "      <td>7.220</td>\n",
              "      <td>7.220</td>\n",
              "      <td>0.516</td>\n",
              "    </tr>\n",
              "    <tr>\n",
              "      <th>963</th>\n",
              "      <td>f1_fuel_1994_12_95_0_10</td>\n",
              "      <td>95</td>\n",
              "      <td>1994</td>\n",
              "      <td>big stone</td>\n",
              "      <td>coal</td>\n",
              "      <td>ton</td>\n",
              "      <td>520261.0</td>\n",
              "      <td>12.098000</td>\n",
              "      <td>13.140</td>\n",
              "      <td>12.940</td>\n",
              "      <td>1.090</td>\n",
              "    </tr>\n",
              "    <tr>\n",
              "      <th>964</th>\n",
              "      <td>f1_fuel_1994_12_95_0_12</td>\n",
              "      <td>95</td>\n",
              "      <td>1994</td>\n",
              "      <td>big stone</td>\n",
              "      <td>waste</td>\n",
              "      <td>ton</td>\n",
              "      <td>8148.0</td>\n",
              "      <td>0.013615</td>\n",
              "      <td>19.000</td>\n",
              "      <td>18.990</td>\n",
              "      <td>0.700</td>\n",
              "    </tr>\n",
              "    <tr>\n",
              "      <th>...</th>\n",
              "      <td>...</td>\n",
              "      <td>...</td>\n",
              "      <td>...</td>\n",
              "      <td>...</td>\n",
              "      <td>...</td>\n",
              "      <td>...</td>\n",
              "      <td>...</td>\n",
              "      <td>...</td>\n",
              "      <td>...</td>\n",
              "      <td>...</td>\n",
              "      <td>...</td>\n",
              "    </tr>\n",
              "    <tr>\n",
              "      <th>28572</th>\n",
              "      <td>f1_fuel_2018_12_122_0_2</td>\n",
              "      <td>122</td>\n",
              "      <td>2018</td>\n",
              "      <td>big stone</td>\n",
              "      <td>oil</td>\n",
              "      <td>bbl</td>\n",
              "      <td>2344.0</td>\n",
              "      <td>5.880000</td>\n",
              "      <td>63.123</td>\n",
              "      <td>63.123</td>\n",
              "      <td>10.735</td>\n",
              "    </tr>\n",
              "    <tr>\n",
              "      <th>28766</th>\n",
              "      <td>f1_fuel_2018_12_95_0_10</td>\n",
              "      <td>95</td>\n",
              "      <td>2018</td>\n",
              "      <td>big stone</td>\n",
              "      <td>coal</td>\n",
              "      <td>ton</td>\n",
              "      <td>327876.0</td>\n",
              "      <td>16.476000</td>\n",
              "      <td>31.968</td>\n",
              "      <td>30.771</td>\n",
              "      <td>1.940</td>\n",
              "    </tr>\n",
              "    <tr>\n",
              "      <th>28767</th>\n",
              "      <td>f1_fuel_2018_12_95_0_11</td>\n",
              "      <td>95</td>\n",
              "      <td>2018</td>\n",
              "      <td>big stone</td>\n",
              "      <td>oil</td>\n",
              "      <td>bbl</td>\n",
              "      <td>66109.0</td>\n",
              "      <td>5.880000</td>\n",
              "      <td>91.209</td>\n",
              "      <td>103.022</td>\n",
              "      <td>15.512</td>\n",
              "    </tr>\n",
              "    <tr>\n",
              "      <th>29043</th>\n",
              "      <td>f1_fuel_2018_12_132_0_4</td>\n",
              "      <td>132</td>\n",
              "      <td>2018</td>\n",
              "      <td>big stone</td>\n",
              "      <td>coal</td>\n",
              "      <td>ton</td>\n",
              "      <td>850025.0</td>\n",
              "      <td>16.476000</td>\n",
              "      <td>31.968</td>\n",
              "      <td>30.771</td>\n",
              "      <td>1.940</td>\n",
              "    </tr>\n",
              "    <tr>\n",
              "      <th>29044</th>\n",
              "      <td>f1_fuel_2018_12_132_0_5</td>\n",
              "      <td>132</td>\n",
              "      <td>2018</td>\n",
              "      <td>big stone</td>\n",
              "      <td>oil</td>\n",
              "      <td>bbl</td>\n",
              "      <td>3747.0</td>\n",
              "      <td>5.880000</td>\n",
              "      <td>91.220</td>\n",
              "      <td>103.030</td>\n",
              "      <td>15.514</td>\n",
              "    </tr>\n",
              "  </tbody>\n",
              "</table>\n",
              "<p>156 rows × 11 columns</p>\n",
              "</div>"
            ],
            "text/plain": [
              "                     record_id  ...  fuel_cost_per_mmbtu\n",
              "553    f1_fuel_1994_12_132_0_4  ...                1.099\n",
              "554    f1_fuel_1994_12_132_0_6  ...                0.701\n",
              "555    f1_fuel_1994_12_132_0_7  ...                0.516\n",
              "963    f1_fuel_1994_12_95_0_10  ...                1.090\n",
              "964    f1_fuel_1994_12_95_0_12  ...                0.700\n",
              "...                        ...  ...                  ...\n",
              "28572  f1_fuel_2018_12_122_0_2  ...               10.735\n",
              "28766  f1_fuel_2018_12_95_0_10  ...                1.940\n",
              "28767  f1_fuel_2018_12_95_0_11  ...               15.512\n",
              "29043  f1_fuel_2018_12_132_0_4  ...                1.940\n",
              "29044  f1_fuel_2018_12_132_0_5  ...               15.514\n",
              "\n",
              "[156 rows x 11 columns]"
            ]
          },
          "metadata": {
            "tags": []
          },
          "execution_count": 19
        }
      ]
    },
    {
      "cell_type": "code",
      "metadata": {
        "id": "OvEbVDvKzieX",
        "colab": {
          "base_uri": "https://localhost:8080/",
          "height": 34
        },
        "outputId": "fadc5069-e36c-4841-b64f-4f7fcad1be5b"
      },
      "source": [
        "#for big stone\n",
        "\n",
        "data_bigstone_plant = fuel_data[fuel_data.plant_name_ferc1 == 'big stone']\n",
        "fuelcost_bigstone_burned = data_bigstone_plant['fuel_cost_per_unit_burned']\n",
        "fuelcost_bigstone_burned.sum()\n",
        "\n",
        "#this is the fuel cost spent for burning the kind of fuel used by big stone from 1994-2018 \n"
      ],
      "execution_count": null,
      "outputs": [
        {
          "output_type": "execute_result",
          "data": {
            "text/plain": [
              "6357.478"
            ]
          },
          "metadata": {
            "tags": []
          },
          "execution_count": 20
        }
      ]
    },
    {
      "cell_type": "code",
      "metadata": {
        "id": "gwps6pcG2wYi",
        "colab": {
          "base_uri": "https://localhost:8080/",
          "height": 34
        },
        "outputId": "0c9d1c6f-c1d8-4475-b5ab-0afd4cbc29d8"
      },
      "source": [
        "#But if we wanted to investigate how much was spent by Big Stone to burn oil from 2000 - 2010\n",
        "\n",
        "fuelcost_bigstone_burned_oil = data_bigstone_plant[data_bigstone_plant.fuel_type_code_pudl == 'oil']\n",
        "fuelcost_bigstone_burned_oil_2000_2010 = fuelcost_bigstone_burned_oil[(fuelcost_bigstone_burned_oil.report_year >= 2000) & (fuelcost_bigstone_burned_oil.report_year <= 2010) ]\n",
        "fuelcost_bigstone_burned_oil_2000_2010['fuel_cost_per_unit_burned'].sum()"
      ],
      "execution_count": null,
      "outputs": [
        {
          "output_type": "execute_result",
          "data": {
            "text/plain": [
              "1526.6759999999997"
            ]
          },
          "metadata": {
            "tags": []
          },
          "execution_count": 21
        }
      ]
    },
    {
      "cell_type": "code",
      "metadata": {
        "id": "B8E1mewg4gth"
      },
      "source": [
        "#To investigate the fuel_types and how they influence cost \n",
        "#We all insolate the datasets for each of the fuel types and then sum each cost and visualise each\n",
        "\n",
        "fueldata_gas = fuel_data[fuel_data.fuel_type_code_pudl == 'gas']\n",
        "fueldata_coal = fuel_data[fuel_data.fuel_type_code_pudl == 'coal']\n",
        "fueldata_oil = fuel_data[fuel_data.fuel_type_code_pudl == 'oil']\n",
        "fueldata_nuclear = fuel_data[fuel_data.fuel_type_code_pudl == 'nuclear']\n",
        "fueldata_waste = fuel_data[fuel_data.fuel_type_code_pudl == 'waste']\n",
        "fueldata_other = fuel_data[fuel_data.fuel_type_code_pudl == 'other']\n"
      ],
      "execution_count": null,
      "outputs": []
    },
    {
      "cell_type": "code",
      "metadata": {
        "id": "JulYKlp48R9W",
        "colab": {
          "base_uri": "https://localhost:8080/",
          "height": 85
        },
        "outputId": "ae4eef07-9122-4ad9-9f68-afe21015a054"
      },
      "source": [
        "#for the gas\n",
        "gb = fueldata_gas['fuel_cost_per_unit_burned'].sum()   # total cost of burning gas\n",
        "gd = fueldata_gas['fuel_cost_per_unit_delivered'].sum() # total cost of burning gas \n",
        "gm = fueldata_gas['fuel_cost_per_mmbtu'].sum()            # total cost of energy generated\n",
        "gascosts = pd.Series([gb,gd,gm])\n",
        "gascosts"
      ],
      "execution_count": null,
      "outputs": [
        {
          "output_type": "execute_result",
          "data": {
            "text/plain": [
              "0    156891.82900\n",
              "1    138925.15000\n",
              "2     62126.34574\n",
              "dtype: float64"
            ]
          },
          "metadata": {
            "tags": []
          },
          "execution_count": 23
        }
      ]
    },
    {
      "cell_type": "code",
      "metadata": {
        "id": "LEOTa71v9HTT"
      },
      "source": [
        "#for the coal \n",
        "cb = fueldata_coal['fuel_cost_per_unit_burned'].sum()   # total cost of burning\n",
        "cd = fueldata_coal['fuel_cost_per_unit_delivered'].sum() # total cost of burning\n",
        "cm = fueldata_coal['fuel_cost_per_mmbtu'].sum()            # total cost of energy generated\n",
        "coalcosts = pd.Series([cb,cd,cm])\n",
        "\n",
        "#for the oil \n",
        "ob = fueldata_oil['fuel_cost_per_unit_burned'].sum()   # total cost of burning\n",
        "od = fueldata_oil['fuel_cost_per_unit_delivered'].sum() # total cost of burning\n",
        "om = fueldata_oil['fuel_cost_per_mmbtu'].sum()            # total cost of energy generated\n",
        "oilcosts = pd.Series([ob,od,om])\n",
        "\n",
        "#for the nuclear\n",
        "nb = fueldata_nuclear['fuel_cost_per_unit_burned'].sum()   # total cost of burning\n",
        "nd = fueldata_nuclear['fuel_cost_per_unit_delivered'].sum() # total cost of burning\n",
        "nm = fueldata_nuclear['fuel_cost_per_mmbtu'].sum()            # total cost of energy generated\n",
        "nuclearcosts = pd.DataFrame([nb,nd,nm])\n",
        "\n",
        "#for the waste \n",
        "wb = fueldata_waste['fuel_cost_per_unit_burned'].sum()   # total cost of burning\n",
        "wd = fueldata_waste['fuel_cost_per_unit_delivered'].sum() # total cost of burning\n",
        "wm = fueldata_waste['fuel_cost_per_mmbtu'].sum()            # total cost of energy generated\n",
        "wastecosts = pd.Series([wb,wd,wm])\n",
        "\n",
        "#for the others \n",
        "otb = fueldata_other['fuel_cost_per_unit_burned'].sum()   # total cost of burning\n",
        "otd = fueldata_other['fuel_cost_per_unit_delivered'].sum() # total cost of burning\n",
        "otm = fueldata_other['fuel_cost_per_mmbtu'].sum()            # total cost of energy generated\n",
        "otherscosts = pd.Series([otb,otd,otm])\n"
      ],
      "execution_count": null,
      "outputs": []
    },
    {
      "cell_type": "markdown",
      "metadata": {
        "id": "p6kWLeKK1XG-"
      },
      "source": [
        "###**Data Visualization**\n",
        "\n",
        "\n",
        "\n"
      ]
    },
    {
      "cell_type": "code",
      "metadata": {
        "id": "2ZwJaS_D0x7A"
      },
      "source": [
        "#all necassary libraries have been imported.So we can see the plots in the workbook directly\n",
        " %matplotlib inline\n",
        "\n",
        " \n",
        "\n"
      ],
      "execution_count": null,
      "outputs": []
    },
    {
      "cell_type": "markdown",
      "metadata": {
        "id": "8ftDhIKAh5Jf"
      },
      "source": [
        "# The Stage A Quiz\n"
      ]
    },
    {
      "cell_type": "code",
      "metadata": {
        "id": "qmv5ydQ2h88G",
        "colab": {
          "base_uri": "https://localhost:8080/",
          "height": 419
        },
        "outputId": "ac9ae6ac-02a6-4fa8-dbfd-9806dd0cde63"
      },
      "source": [
        "# Prior to the Quiz the Data has been cleaned: checked for null values and replaced, checked for duplicates and statistically explored the data.\n",
        "# The Headings above explained each step\n",
        "\n",
        "fuel_data"
      ],
      "execution_count": null,
      "outputs": [
        {
          "output_type": "execute_result",
          "data": {
            "text/html": [
              "<div>\n",
              "<style scoped>\n",
              "    .dataframe tbody tr th:only-of-type {\n",
              "        vertical-align: middle;\n",
              "    }\n",
              "\n",
              "    .dataframe tbody tr th {\n",
              "        vertical-align: top;\n",
              "    }\n",
              "\n",
              "    .dataframe thead th {\n",
              "        text-align: right;\n",
              "    }\n",
              "</style>\n",
              "<table border=\"1\" class=\"dataframe\">\n",
              "  <thead>\n",
              "    <tr style=\"text-align: right;\">\n",
              "      <th></th>\n",
              "      <th>record_id</th>\n",
              "      <th>utility_id_ferc1</th>\n",
              "      <th>report_year</th>\n",
              "      <th>plant_name_ferc1</th>\n",
              "      <th>fuel_type_code_pudl</th>\n",
              "      <th>fuel_unit</th>\n",
              "      <th>fuel_qty_burned</th>\n",
              "      <th>fuel_mmbtu_per_unit</th>\n",
              "      <th>fuel_cost_per_unit_burned</th>\n",
              "      <th>fuel_cost_per_unit_delivered</th>\n",
              "      <th>fuel_cost_per_mmbtu</th>\n",
              "    </tr>\n",
              "  </thead>\n",
              "  <tbody>\n",
              "    <tr>\n",
              "      <th>0</th>\n",
              "      <td>f1_fuel_1994_12_1_0_7</td>\n",
              "      <td>1</td>\n",
              "      <td>1994</td>\n",
              "      <td>rockport</td>\n",
              "      <td>coal</td>\n",
              "      <td>ton</td>\n",
              "      <td>5377489.0</td>\n",
              "      <td>16.590</td>\n",
              "      <td>18.59</td>\n",
              "      <td>18.53</td>\n",
              "      <td>1.121</td>\n",
              "    </tr>\n",
              "    <tr>\n",
              "      <th>1</th>\n",
              "      <td>f1_fuel_1994_12_1_0_10</td>\n",
              "      <td>1</td>\n",
              "      <td>1994</td>\n",
              "      <td>rockport total plant</td>\n",
              "      <td>coal</td>\n",
              "      <td>ton</td>\n",
              "      <td>10486945.0</td>\n",
              "      <td>16.592</td>\n",
              "      <td>18.58</td>\n",
              "      <td>18.53</td>\n",
              "      <td>1.120</td>\n",
              "    </tr>\n",
              "    <tr>\n",
              "      <th>2</th>\n",
              "      <td>f1_fuel_1994_12_2_0_1</td>\n",
              "      <td>2</td>\n",
              "      <td>1994</td>\n",
              "      <td>gorgas</td>\n",
              "      <td>coal</td>\n",
              "      <td>ton</td>\n",
              "      <td>2978683.0</td>\n",
              "      <td>24.130</td>\n",
              "      <td>39.72</td>\n",
              "      <td>38.12</td>\n",
              "      <td>1.650</td>\n",
              "    </tr>\n",
              "    <tr>\n",
              "      <th>3</th>\n",
              "      <td>f1_fuel_1994_12_2_0_7</td>\n",
              "      <td>2</td>\n",
              "      <td>1994</td>\n",
              "      <td>barry</td>\n",
              "      <td>coal</td>\n",
              "      <td>ton</td>\n",
              "      <td>3739484.0</td>\n",
              "      <td>23.950</td>\n",
              "      <td>47.21</td>\n",
              "      <td>45.99</td>\n",
              "      <td>1.970</td>\n",
              "    </tr>\n",
              "    <tr>\n",
              "      <th>4</th>\n",
              "      <td>f1_fuel_1994_12_2_0_10</td>\n",
              "      <td>2</td>\n",
              "      <td>1994</td>\n",
              "      <td>chickasaw</td>\n",
              "      <td>gas</td>\n",
              "      <td>mcf</td>\n",
              "      <td>40533.0</td>\n",
              "      <td>1.000</td>\n",
              "      <td>2.77</td>\n",
              "      <td>2.77</td>\n",
              "      <td>2.570</td>\n",
              "    </tr>\n",
              "    <tr>\n",
              "      <th>...</th>\n",
              "      <td>...</td>\n",
              "      <td>...</td>\n",
              "      <td>...</td>\n",
              "      <td>...</td>\n",
              "      <td>...</td>\n",
              "      <td>...</td>\n",
              "      <td>...</td>\n",
              "      <td>...</td>\n",
              "      <td>...</td>\n",
              "      <td>...</td>\n",
              "      <td>...</td>\n",
              "    </tr>\n",
              "    <tr>\n",
              "      <th>29518</th>\n",
              "      <td>f1_fuel_2018_12_12_0_13</td>\n",
              "      <td>12</td>\n",
              "      <td>2018</td>\n",
              "      <td>neil simpson ct #1</td>\n",
              "      <td>gas</td>\n",
              "      <td>mcf</td>\n",
              "      <td>18799.0</td>\n",
              "      <td>1.059</td>\n",
              "      <td>4.78</td>\n",
              "      <td>4.78</td>\n",
              "      <td>9.030</td>\n",
              "    </tr>\n",
              "    <tr>\n",
              "      <th>29519</th>\n",
              "      <td>f1_fuel_2018_12_12_1_1</td>\n",
              "      <td>12</td>\n",
              "      <td>2018</td>\n",
              "      <td>cheyenne prairie 58%</td>\n",
              "      <td>gas</td>\n",
              "      <td>mcf</td>\n",
              "      <td>806730.0</td>\n",
              "      <td>1.050</td>\n",
              "      <td>3.65</td>\n",
              "      <td>3.65</td>\n",
              "      <td>6.950</td>\n",
              "    </tr>\n",
              "    <tr>\n",
              "      <th>29520</th>\n",
              "      <td>f1_fuel_2018_12_12_1_10</td>\n",
              "      <td>12</td>\n",
              "      <td>2018</td>\n",
              "      <td>lange ct facility</td>\n",
              "      <td>gas</td>\n",
              "      <td>mcf</td>\n",
              "      <td>104554.0</td>\n",
              "      <td>1.060</td>\n",
              "      <td>4.77</td>\n",
              "      <td>4.77</td>\n",
              "      <td>8.990</td>\n",
              "    </tr>\n",
              "    <tr>\n",
              "      <th>29521</th>\n",
              "      <td>f1_fuel_2018_12_12_1_13</td>\n",
              "      <td>12</td>\n",
              "      <td>2018</td>\n",
              "      <td>wygen 3 bhp 52%</td>\n",
              "      <td>coal</td>\n",
              "      <td>ton</td>\n",
              "      <td>315945.0</td>\n",
              "      <td>16.108</td>\n",
              "      <td>3.06</td>\n",
              "      <td>14.76</td>\n",
              "      <td>1.110</td>\n",
              "    </tr>\n",
              "    <tr>\n",
              "      <th>29522</th>\n",
              "      <td>f1_fuel_2018_12_12_1_14</td>\n",
              "      <td>12</td>\n",
              "      <td>2018</td>\n",
              "      <td>wygen 3 bhp 52%</td>\n",
              "      <td>gas</td>\n",
              "      <td>mcf</td>\n",
              "      <td>17853.0</td>\n",
              "      <td>1.059</td>\n",
              "      <td>0.00</td>\n",
              "      <td>0.00</td>\n",
              "      <td>11.680</td>\n",
              "    </tr>\n",
              "  </tbody>\n",
              "</table>\n",
              "<p>29523 rows × 11 columns</p>\n",
              "</div>"
            ],
            "text/plain": [
              "                     record_id  ...  fuel_cost_per_mmbtu\n",
              "0        f1_fuel_1994_12_1_0_7  ...                1.121\n",
              "1       f1_fuel_1994_12_1_0_10  ...                1.120\n",
              "2        f1_fuel_1994_12_2_0_1  ...                1.650\n",
              "3        f1_fuel_1994_12_2_0_7  ...                1.970\n",
              "4       f1_fuel_1994_12_2_0_10  ...                2.570\n",
              "...                        ...  ...                  ...\n",
              "29518  f1_fuel_2018_12_12_0_13  ...                9.030\n",
              "29519   f1_fuel_2018_12_12_1_1  ...                6.950\n",
              "29520  f1_fuel_2018_12_12_1_10  ...                8.990\n",
              "29521  f1_fuel_2018_12_12_1_13  ...                1.110\n",
              "29522  f1_fuel_2018_12_12_1_14  ...               11.680\n",
              "\n",
              "[29523 rows x 11 columns]"
            ]
          },
          "metadata": {
            "tags": []
          },
          "execution_count": 26
        }
      ]
    },
    {
      "cell_type": "code",
      "metadata": {
        "id": "3xl2aNzxuhf4",
        "colab": {
          "base_uri": "https://localhost:8080/",
          "height": 34
        },
        "outputId": "d34ee1b8-3319-4ac2-f8fe-44f19ba3d34a"
      },
      "source": [
        "#confirming we have no null values and duplicates\n",
        "\n",
        "fuel_data.isnull().sum()\n",
        "\n",
        "#None exists\n",
        "\n",
        "fuel_data.duplicated().any()\n",
        "\n",
        "#none exists"
      ],
      "execution_count": null,
      "outputs": [
        {
          "output_type": "execute_result",
          "data": {
            "text/plain": [
              "False"
            ]
          },
          "metadata": {
            "tags": []
          },
          "execution_count": 28
        }
      ]
    },
    {
      "cell_type": "markdown",
      "metadata": {
        "id": "nzEl-HO3u2kx"
      },
      "source": [
        "#QUIZ'S CODES "
      ]
    },
    {
      "cell_type": "code",
      "metadata": {
        "id": "haPe6cUlu7Qd",
        "colab": {
          "base_uri": "https://localhost:8080/",
          "height": 153
        },
        "outputId": "40a5cdee-995f-4599-d733-d99e554afd3f"
      },
      "source": [
        "# Question 3\n",
        "\n",
        "fuel_data.groupby('fuel_type_code_pudl').fuel_cost_per_unit_burned.mean()  # group by fuel type and the call up the column of fuel cost per unit burned and find the mean\n",
        "\n",
        "# Answer is gas "
      ],
      "execution_count": null,
      "outputs": [
        {
          "output_type": "execute_result",
          "data": {
            "text/plain": [
              "fuel_type_code_pudl\n",
              "coal         67.421830\n",
              "gas          13.659397\n",
              "nuclear    4955.157002\n",
              "oil         168.877086\n",
              "other        18.253856\n",
              "waste        19.518122\n",
              "Name: fuel_cost_per_unit_burned, dtype: float64"
            ]
          },
          "metadata": {
            "tags": []
          },
          "execution_count": 32
        }
      ]
    },
    {
      "cell_type": "code",
      "metadata": {
        "id": "KSXP-0kfzWFj",
        "colab": {
          "base_uri": "https://localhost:8080/",
          "height": 170
        },
        "outputId": "b9bab5f4-68ed-41d5-e9e8-27ba34897569"
      },
      "source": [
        "# Question 4\n",
        "\n",
        "fuel_data['fuel_mmbtu_per_unit'].describe()      # The describe function contains the STD and percentile. Specifying the column\n",
        "\n",
        "# Answer is std is 10.60 and 75% percentile is  17.01"
      ],
      "execution_count": null,
      "outputs": [
        {
          "output_type": "execute_result",
          "data": {
            "text/plain": [
              "count    29523.000000\n",
              "mean         8.492111\n",
              "std         10.600220\n",
              "min          0.000001\n",
              "25%          1.024000\n",
              "50%          5.762694\n",
              "75%         17.006000\n",
              "max        341.260000\n",
              "Name: fuel_mmbtu_per_unit, dtype: float64"
            ]
          },
          "metadata": {
            "tags": []
          },
          "execution_count": 33
        }
      ]
    },
    {
      "cell_type": "code",
      "metadata": {
        "id": "2W9KDQzm0Phs",
        "colab": {
          "base_uri": "https://localhost:8080/",
          "height": 34
        },
        "outputId": "e1600b02-566d-41cb-baaa-03c3baff5384"
      },
      "source": [
        "# Question 5\n",
        "\n",
        "fuel_data['fuel_qty_burned'].skew()             # skewness for the required column\n",
        "\n",
        "# answer is 15.85\n",
        "\n",
        "\n",
        "fuel_data['fuel_qty_burned'].kurtosis()       #kurtosisi for the required column\n",
        "\n",
        "#answer is 651.37\n"
      ],
      "execution_count": null,
      "outputs": [
        {
          "output_type": "execute_result",
          "data": {
            "text/plain": [
              "651.3694501337732"
            ]
          },
          "metadata": {
            "tags": []
          },
          "execution_count": 36
        }
      ]
    },
    {
      "cell_type": "code",
      "metadata": {
        "id": "niLsTQon1m8K",
        "colab": {
          "base_uri": "https://localhost:8080/",
          "height": 34
        },
        "outputId": "eb5db9f5-4947-4bcd-bccd-eb532559578f"
      },
      "source": [
        "#Question 6 has been addressed in the cleaning part of the code.\n",
        "fuel_data.shape\n",
        "\n",
        "# to calculate the percent \n",
        "\n",
        "(180/29523)*100\n",
        "\n",
        "\n",
        "#answer is 0.610 %"
      ],
      "execution_count": null,
      "outputs": [
        {
          "output_type": "execute_result",
          "data": {
            "text/plain": [
              "0.609694136774718"
            ]
          },
          "metadata": {
            "tags": []
          },
          "execution_count": 38
        }
      ]
    },
    {
      "cell_type": "code",
      "metadata": {
        "id": "PuozI5eI23Jk"
      },
      "source": [
        "#Question 7\n",
        "\n",
        "# the feature is a string and i will use mode manipulation to fill it as i did in the cleaning of the dataset above."
      ],
      "execution_count": null,
      "outputs": []
    },
    {
      "cell_type": "code",
      "metadata": {
        "id": "4BVhflJc3mey",
        "colab": {
          "base_uri": "https://localhost:8080/",
          "height": 425
        },
        "outputId": "6909413a-b534-4260-c59a-df41f8354558"
      },
      "source": [
        "# To check which has the lowest correlation \n",
        "fuel_data['fuel_cost_per_unit_burned'].corr(fuel_data['record_id'])\n",
        "# The error implies they both have to be numeric values."
      ],
      "execution_count": null,
      "outputs": [
        {
          "output_type": "error",
          "ename": "TypeError",
          "evalue": "ignored",
          "traceback": [
            "\u001b[0;31m---------------------------------------------------------------------------\u001b[0m",
            "\u001b[0;31mTypeError\u001b[0m                                 Traceback (most recent call last)",
            "\u001b[0;32m<ipython-input-39-ca823bfd78fe>\u001b[0m in \u001b[0;36m<module>\u001b[0;34m()\u001b[0m\n\u001b[1;32m      1\u001b[0m \u001b[0;31m# To check which has the lowest correlation\u001b[0m\u001b[0;34m\u001b[0m\u001b[0;34m\u001b[0m\u001b[0;34m\u001b[0m\u001b[0m\n\u001b[0;32m----> 2\u001b[0;31m \u001b[0mfuel_data\u001b[0m\u001b[0;34m[\u001b[0m\u001b[0;34m'fuel_cost_per_unit_burned'\u001b[0m\u001b[0;34m]\u001b[0m\u001b[0;34m.\u001b[0m\u001b[0mcorr\u001b[0m\u001b[0;34m(\u001b[0m\u001b[0mfuel_data\u001b[0m\u001b[0;34m[\u001b[0m\u001b[0;34m'record_id'\u001b[0m\u001b[0;34m]\u001b[0m\u001b[0;34m)\u001b[0m\u001b[0;34m\u001b[0m\u001b[0;34m\u001b[0m\u001b[0m\n\u001b[0m",
            "\u001b[0;32m/usr/local/lib/python3.6/dist-packages/pandas/core/series.py\u001b[0m in \u001b[0;36mcorr\u001b[0;34m(self, other, method, min_periods)\u001b[0m\n\u001b[1;32m   2252\u001b[0m         \u001b[0;32mif\u001b[0m \u001b[0mmethod\u001b[0m \u001b[0;32min\u001b[0m \u001b[0;34m[\u001b[0m\u001b[0;34m\"pearson\"\u001b[0m\u001b[0;34m,\u001b[0m \u001b[0;34m\"spearman\"\u001b[0m\u001b[0;34m,\u001b[0m \u001b[0;34m\"kendall\"\u001b[0m\u001b[0;34m]\u001b[0m \u001b[0;32mor\u001b[0m \u001b[0mcallable\u001b[0m\u001b[0;34m(\u001b[0m\u001b[0mmethod\u001b[0m\u001b[0;34m)\u001b[0m\u001b[0;34m:\u001b[0m\u001b[0;34m\u001b[0m\u001b[0;34m\u001b[0m\u001b[0m\n\u001b[1;32m   2253\u001b[0m             return nanops.nancorr(\n\u001b[0;32m-> 2254\u001b[0;31m                 \u001b[0mthis\u001b[0m\u001b[0;34m.\u001b[0m\u001b[0mvalues\u001b[0m\u001b[0;34m,\u001b[0m \u001b[0mother\u001b[0m\u001b[0;34m.\u001b[0m\u001b[0mvalues\u001b[0m\u001b[0;34m,\u001b[0m \u001b[0mmethod\u001b[0m\u001b[0;34m=\u001b[0m\u001b[0mmethod\u001b[0m\u001b[0;34m,\u001b[0m \u001b[0mmin_periods\u001b[0m\u001b[0;34m=\u001b[0m\u001b[0mmin_periods\u001b[0m\u001b[0;34m\u001b[0m\u001b[0;34m\u001b[0m\u001b[0m\n\u001b[0m\u001b[1;32m   2255\u001b[0m             )\n\u001b[1;32m   2256\u001b[0m \u001b[0;34m\u001b[0m\u001b[0m\n",
            "\u001b[0;32m/usr/local/lib/python3.6/dist-packages/pandas/core/nanops.py\u001b[0m in \u001b[0;36m_f\u001b[0;34m(*args, **kwargs)\u001b[0m\n\u001b[1;32m     67\u001b[0m             \u001b[0;32mtry\u001b[0m\u001b[0;34m:\u001b[0m\u001b[0;34m\u001b[0m\u001b[0;34m\u001b[0m\u001b[0m\n\u001b[1;32m     68\u001b[0m                 \u001b[0;32mwith\u001b[0m \u001b[0mnp\u001b[0m\u001b[0;34m.\u001b[0m\u001b[0merrstate\u001b[0m\u001b[0;34m(\u001b[0m\u001b[0minvalid\u001b[0m\u001b[0;34m=\u001b[0m\u001b[0;34m\"ignore\"\u001b[0m\u001b[0;34m)\u001b[0m\u001b[0;34m:\u001b[0m\u001b[0;34m\u001b[0m\u001b[0;34m\u001b[0m\u001b[0m\n\u001b[0;32m---> 69\u001b[0;31m                     \u001b[0;32mreturn\u001b[0m \u001b[0mf\u001b[0m\u001b[0;34m(\u001b[0m\u001b[0;34m*\u001b[0m\u001b[0margs\u001b[0m\u001b[0;34m,\u001b[0m \u001b[0;34m**\u001b[0m\u001b[0mkwargs\u001b[0m\u001b[0;34m)\u001b[0m\u001b[0;34m\u001b[0m\u001b[0;34m\u001b[0m\u001b[0m\n\u001b[0m\u001b[1;32m     70\u001b[0m             \u001b[0;32mexcept\u001b[0m \u001b[0mValueError\u001b[0m \u001b[0;32mas\u001b[0m \u001b[0me\u001b[0m\u001b[0;34m:\u001b[0m\u001b[0;34m\u001b[0m\u001b[0;34m\u001b[0m\u001b[0m\n\u001b[1;32m     71\u001b[0m                 \u001b[0;31m# we want to transform an object array\u001b[0m\u001b[0;34m\u001b[0m\u001b[0;34m\u001b[0m\u001b[0;34m\u001b[0m\u001b[0m\n",
            "\u001b[0;32m/usr/local/lib/python3.6/dist-packages/pandas/core/nanops.py\u001b[0m in \u001b[0;36mnancorr\u001b[0;34m(a, b, method, min_periods)\u001b[0m\n\u001b[1;32m   1238\u001b[0m \u001b[0;34m\u001b[0m\u001b[0m\n\u001b[1;32m   1239\u001b[0m     \u001b[0mf\u001b[0m \u001b[0;34m=\u001b[0m \u001b[0mget_corr_func\u001b[0m\u001b[0;34m(\u001b[0m\u001b[0mmethod\u001b[0m\u001b[0;34m)\u001b[0m\u001b[0;34m\u001b[0m\u001b[0;34m\u001b[0m\u001b[0m\n\u001b[0;32m-> 1240\u001b[0;31m     \u001b[0;32mreturn\u001b[0m \u001b[0mf\u001b[0m\u001b[0;34m(\u001b[0m\u001b[0ma\u001b[0m\u001b[0;34m,\u001b[0m \u001b[0mb\u001b[0m\u001b[0;34m)\u001b[0m\u001b[0;34m\u001b[0m\u001b[0;34m\u001b[0m\u001b[0m\n\u001b[0m\u001b[1;32m   1241\u001b[0m \u001b[0;34m\u001b[0m\u001b[0m\n\u001b[1;32m   1242\u001b[0m \u001b[0;34m\u001b[0m\u001b[0m\n",
            "\u001b[0;32m/usr/local/lib/python3.6/dist-packages/pandas/core/nanops.py\u001b[0m in \u001b[0;36m_pearson\u001b[0;34m(a, b)\u001b[0m\n\u001b[1;32m   1254\u001b[0m \u001b[0;34m\u001b[0m\u001b[0m\n\u001b[1;32m   1255\u001b[0m     \u001b[0;32mdef\u001b[0m \u001b[0m_pearson\u001b[0m\u001b[0;34m(\u001b[0m\u001b[0ma\u001b[0m\u001b[0;34m,\u001b[0m \u001b[0mb\u001b[0m\u001b[0;34m)\u001b[0m\u001b[0;34m:\u001b[0m\u001b[0;34m\u001b[0m\u001b[0;34m\u001b[0m\u001b[0m\n\u001b[0;32m-> 1256\u001b[0;31m         \u001b[0;32mreturn\u001b[0m \u001b[0mnp\u001b[0m\u001b[0;34m.\u001b[0m\u001b[0mcorrcoef\u001b[0m\u001b[0;34m(\u001b[0m\u001b[0ma\u001b[0m\u001b[0;34m,\u001b[0m \u001b[0mb\u001b[0m\u001b[0;34m)\u001b[0m\u001b[0;34m[\u001b[0m\u001b[0;36m0\u001b[0m\u001b[0;34m,\u001b[0m \u001b[0;36m1\u001b[0m\u001b[0;34m]\u001b[0m\u001b[0;34m\u001b[0m\u001b[0;34m\u001b[0m\u001b[0m\n\u001b[0m\u001b[1;32m   1257\u001b[0m \u001b[0;34m\u001b[0m\u001b[0m\n\u001b[1;32m   1258\u001b[0m     \u001b[0;32mdef\u001b[0m \u001b[0m_kendall\u001b[0m\u001b[0;34m(\u001b[0m\u001b[0ma\u001b[0m\u001b[0;34m,\u001b[0m \u001b[0mb\u001b[0m\u001b[0;34m)\u001b[0m\u001b[0;34m:\u001b[0m\u001b[0;34m\u001b[0m\u001b[0;34m\u001b[0m\u001b[0m\n",
            "\u001b[0;32m<__array_function__ internals>\u001b[0m in \u001b[0;36mcorrcoef\u001b[0;34m(*args, **kwargs)\u001b[0m\n",
            "\u001b[0;32m/usr/local/lib/python3.6/dist-packages/numpy/lib/function_base.py\u001b[0m in \u001b[0;36mcorrcoef\u001b[0;34m(x, y, rowvar, bias, ddof)\u001b[0m\n\u001b[1;32m   2524\u001b[0m         warnings.warn('bias and ddof have no effect and are deprecated',\n\u001b[1;32m   2525\u001b[0m                       DeprecationWarning, stacklevel=3)\n\u001b[0;32m-> 2526\u001b[0;31m     \u001b[0mc\u001b[0m \u001b[0;34m=\u001b[0m \u001b[0mcov\u001b[0m\u001b[0;34m(\u001b[0m\u001b[0mx\u001b[0m\u001b[0;34m,\u001b[0m \u001b[0my\u001b[0m\u001b[0;34m,\u001b[0m \u001b[0mrowvar\u001b[0m\u001b[0;34m)\u001b[0m\u001b[0;34m\u001b[0m\u001b[0;34m\u001b[0m\u001b[0m\n\u001b[0m\u001b[1;32m   2527\u001b[0m     \u001b[0;32mtry\u001b[0m\u001b[0;34m:\u001b[0m\u001b[0;34m\u001b[0m\u001b[0;34m\u001b[0m\u001b[0m\n\u001b[1;32m   2528\u001b[0m         \u001b[0md\u001b[0m \u001b[0;34m=\u001b[0m \u001b[0mdiag\u001b[0m\u001b[0;34m(\u001b[0m\u001b[0mc\u001b[0m\u001b[0;34m)\u001b[0m\u001b[0;34m\u001b[0m\u001b[0;34m\u001b[0m\u001b[0m\n",
            "\u001b[0;32m<__array_function__ internals>\u001b[0m in \u001b[0;36mcov\u001b[0;34m(*args, **kwargs)\u001b[0m\n",
            "\u001b[0;32m/usr/local/lib/python3.6/dist-packages/numpy/lib/function_base.py\u001b[0m in \u001b[0;36mcov\u001b[0;34m(m, y, rowvar, bias, ddof, fweights, aweights)\u001b[0m\n\u001b[1;32m   2429\u001b[0m             \u001b[0mw\u001b[0m \u001b[0;34m*=\u001b[0m \u001b[0maweights\u001b[0m\u001b[0;34m\u001b[0m\u001b[0;34m\u001b[0m\u001b[0m\n\u001b[1;32m   2430\u001b[0m \u001b[0;34m\u001b[0m\u001b[0m\n\u001b[0;32m-> 2431\u001b[0;31m     \u001b[0mavg\u001b[0m\u001b[0;34m,\u001b[0m \u001b[0mw_sum\u001b[0m \u001b[0;34m=\u001b[0m \u001b[0maverage\u001b[0m\u001b[0;34m(\u001b[0m\u001b[0mX\u001b[0m\u001b[0;34m,\u001b[0m \u001b[0maxis\u001b[0m\u001b[0;34m=\u001b[0m\u001b[0;36m1\u001b[0m\u001b[0;34m,\u001b[0m \u001b[0mweights\u001b[0m\u001b[0;34m=\u001b[0m\u001b[0mw\u001b[0m\u001b[0;34m,\u001b[0m \u001b[0mreturned\u001b[0m\u001b[0;34m=\u001b[0m\u001b[0;32mTrue\u001b[0m\u001b[0;34m)\u001b[0m\u001b[0;34m\u001b[0m\u001b[0;34m\u001b[0m\u001b[0m\n\u001b[0m\u001b[1;32m   2432\u001b[0m     \u001b[0mw_sum\u001b[0m \u001b[0;34m=\u001b[0m \u001b[0mw_sum\u001b[0m\u001b[0;34m[\u001b[0m\u001b[0;36m0\u001b[0m\u001b[0;34m]\u001b[0m\u001b[0;34m\u001b[0m\u001b[0;34m\u001b[0m\u001b[0m\n\u001b[1;32m   2433\u001b[0m \u001b[0;34m\u001b[0m\u001b[0m\n",
            "\u001b[0;32m<__array_function__ internals>\u001b[0m in \u001b[0;36maverage\u001b[0;34m(*args, **kwargs)\u001b[0m\n",
            "\u001b[0;32m/usr/local/lib/python3.6/dist-packages/numpy/lib/function_base.py\u001b[0m in \u001b[0;36maverage\u001b[0;34m(a, axis, weights, returned)\u001b[0m\n\u001b[1;32m    391\u001b[0m \u001b[0;34m\u001b[0m\u001b[0m\n\u001b[1;32m    392\u001b[0m     \u001b[0;32mif\u001b[0m \u001b[0mweights\u001b[0m \u001b[0;32mis\u001b[0m \u001b[0;32mNone\u001b[0m\u001b[0;34m:\u001b[0m\u001b[0;34m\u001b[0m\u001b[0;34m\u001b[0m\u001b[0m\n\u001b[0;32m--> 393\u001b[0;31m         \u001b[0mavg\u001b[0m \u001b[0;34m=\u001b[0m \u001b[0ma\u001b[0m\u001b[0;34m.\u001b[0m\u001b[0mmean\u001b[0m\u001b[0;34m(\u001b[0m\u001b[0maxis\u001b[0m\u001b[0;34m)\u001b[0m\u001b[0;34m\u001b[0m\u001b[0;34m\u001b[0m\u001b[0m\n\u001b[0m\u001b[1;32m    394\u001b[0m         \u001b[0mscl\u001b[0m \u001b[0;34m=\u001b[0m \u001b[0mavg\u001b[0m\u001b[0;34m.\u001b[0m\u001b[0mdtype\u001b[0m\u001b[0;34m.\u001b[0m\u001b[0mtype\u001b[0m\u001b[0;34m(\u001b[0m\u001b[0ma\u001b[0m\u001b[0;34m.\u001b[0m\u001b[0msize\u001b[0m\u001b[0;34m/\u001b[0m\u001b[0mavg\u001b[0m\u001b[0;34m.\u001b[0m\u001b[0msize\u001b[0m\u001b[0;34m)\u001b[0m\u001b[0;34m\u001b[0m\u001b[0;34m\u001b[0m\u001b[0m\n\u001b[1;32m    395\u001b[0m     \u001b[0;32melse\u001b[0m\u001b[0;34m:\u001b[0m\u001b[0;34m\u001b[0m\u001b[0;34m\u001b[0m\u001b[0m\n",
            "\u001b[0;32m/usr/local/lib/python3.6/dist-packages/numpy/core/_methods.py\u001b[0m in \u001b[0;36m_mean\u001b[0;34m(a, axis, dtype, out, keepdims)\u001b[0m\n\u001b[1;32m    152\u001b[0m     \u001b[0;32mif\u001b[0m \u001b[0misinstance\u001b[0m\u001b[0;34m(\u001b[0m\u001b[0mret\u001b[0m\u001b[0;34m,\u001b[0m \u001b[0mmu\u001b[0m\u001b[0;34m.\u001b[0m\u001b[0mndarray\u001b[0m\u001b[0;34m)\u001b[0m\u001b[0;34m:\u001b[0m\u001b[0;34m\u001b[0m\u001b[0;34m\u001b[0m\u001b[0m\n\u001b[1;32m    153\u001b[0m         ret = um.true_divide(\n\u001b[0;32m--> 154\u001b[0;31m                 ret, rcount, out=ret, casting='unsafe', subok=False)\n\u001b[0m\u001b[1;32m    155\u001b[0m         \u001b[0;32mif\u001b[0m \u001b[0mis_float16_result\u001b[0m \u001b[0;32mand\u001b[0m \u001b[0mout\u001b[0m \u001b[0;32mis\u001b[0m \u001b[0;32mNone\u001b[0m\u001b[0;34m:\u001b[0m\u001b[0;34m\u001b[0m\u001b[0;34m\u001b[0m\u001b[0m\n\u001b[1;32m    156\u001b[0m             \u001b[0mret\u001b[0m \u001b[0;34m=\u001b[0m \u001b[0marr\u001b[0m\u001b[0;34m.\u001b[0m\u001b[0mdtype\u001b[0m\u001b[0;34m.\u001b[0m\u001b[0mtype\u001b[0m\u001b[0;34m(\u001b[0m\u001b[0mret\u001b[0m\u001b[0;34m)\u001b[0m\u001b[0;34m\u001b[0m\u001b[0;34m\u001b[0m\u001b[0m\n",
            "\u001b[0;31mTypeError\u001b[0m: unsupported operand type(s) for /: 'str' and 'int'"
          ]
        }
      ]
    },
    {
      "cell_type": "code",
      "metadata": {
        "id": "lWBrd45D4SKd",
        "colab": {
          "base_uri": "https://localhost:8080/",
          "height": 34
        },
        "outputId": "a68f5923-5282-48ad-dde4-c641366eeb73"
      },
      "source": [
        "fuel_data['fuel_cost_per_unit_burned'].corr(fuel_data['utility_id_ferc1'])"
      ],
      "execution_count": null,
      "outputs": [
        {
          "output_type": "execute_result",
          "data": {
            "text/plain": [
              "-0.0378627075999726"
            ]
          },
          "metadata": {
            "tags": []
          },
          "execution_count": 40
        }
      ]
    },
    {
      "cell_type": "code",
      "metadata": {
        "id": "XHjG1FcZ4aEx",
        "colab": {
          "base_uri": "https://localhost:8080/",
          "height": 34
        },
        "outputId": "86c31d94-843e-4623-8dc2-c05c25c95b46"
      },
      "source": [
        "fuel_data['fuel_cost_per_unit_burned'].corr(fuel_data['report_year'])"
      ],
      "execution_count": null,
      "outputs": [
        {
          "output_type": "execute_result",
          "data": {
            "text/plain": [
              "0.013599134438134116"
            ]
          },
          "metadata": {
            "tags": []
          },
          "execution_count": 41
        }
      ]
    },
    {
      "cell_type": "code",
      "metadata": {
        "id": "1dnOjMdJ4pju",
        "colab": {
          "base_uri": "https://localhost:8080/",
          "height": 34
        },
        "outputId": "c5c1f523-289d-4d0b-8540-a7780fde90dc"
      },
      "source": [
        "fuel_data['fuel_cost_per_unit_burned'].corr(fuel_data['fuel_qty_burned'])\t "
      ],
      "execution_count": null,
      "outputs": [
        {
          "output_type": "execute_result",
          "data": {
            "text/plain": [
              "-0.018535416794825225"
            ]
          },
          "metadata": {
            "tags": []
          },
          "execution_count": 43
        }
      ]
    },
    {
      "cell_type": "code",
      "metadata": {
        "id": "UCYSuTOQ40CQ",
        "colab": {
          "base_uri": "https://localhost:8080/",
          "height": 34
        },
        "outputId": "fd3b7ff1-6ac2-4da0-e0cc-501e09da6df7"
      },
      "source": [
        "fuel_data['fuel_cost_per_unit_burned'].corr(fuel_data['fuel_mmbtu_per_unit'])\t "
      ],
      "execution_count": null,
      "outputs": [
        {
          "output_type": "execute_result",
          "data": {
            "text/plain": [
              "-0.010033808428853071"
            ]
          },
          "metadata": {
            "tags": []
          },
          "execution_count": 44
        }
      ]
    },
    {
      "cell_type": "code",
      "metadata": {
        "id": "zTjD2y4V5AqE",
        "colab": {
          "base_uri": "https://localhost:8080/",
          "height": 34
        },
        "outputId": "8b2075f6-595a-4632-8654-55982021e476"
      },
      "source": [
        "fuel_data['fuel_cost_per_unit_burned'].corr(fuel_data['fuel_cost_per_unit_delivered'])\t "
      ],
      "execution_count": null,
      "outputs": [
        {
          "output_type": "execute_result",
          "data": {
            "text/plain": [
              "0.01100740329916511"
            ]
          },
          "metadata": {
            "tags": []
          },
          "execution_count": 46
        }
      ]
    },
    {
      "cell_type": "code",
      "metadata": {
        "id": "u3hCJaio5TAl",
        "colab": {
          "base_uri": "https://localhost:8080/",
          "height": 34
        },
        "outputId": "9d9812a2-2de4-4f22-c9b3-ba63ec1acc6e"
      },
      "source": [
        "fuel_data['fuel_cost_per_unit_burned'].corr(fuel_data['fuel_cost_per_mmbtu'])\t "
      ],
      "execution_count": null,
      "outputs": [
        {
          "output_type": "execute_result",
          "data": {
            "text/plain": [
              "-0.0004372104439704003"
            ]
          },
          "metadata": {
            "tags": []
          },
          "execution_count": 47
        }
      ]
    },
    {
      "cell_type": "code",
      "metadata": {
        "id": "NzGWlR7w5jjt"
      },
      "source": [
        "a = [-0.0378627075999726, 0.013599134438134116, -0.018535416794825225,0.013599134438134116,-0.010033808428853071, 0.01100740329916511, -0.0004372104439704003 ]\n",
        "#using sort to arrange them"
      ],
      "execution_count": null,
      "outputs": []
    },
    {
      "cell_type": "code",
      "metadata": {
        "id": "3AevXMNS5kMA",
        "colab": {
          "base_uri": "https://localhost:8080/",
          "height": 476
        },
        "outputId": "5d90906d-7f45-435a-9916-bc06e6333ccc"
      },
      "source": [
        "#Question 10\n",
        "fuel_data.groupby('report_year').fuel_cost_per_unit_delivered.mean() # group by year and the call up the column of fuel cost per unit delivered and find the mean and check the max\n",
        "\n",
        "\n",
        "# 1997 I used max function to confirm"
      ],
      "execution_count": null,
      "outputs": [
        {
          "output_type": "execute_result",
          "data": {
            "text/plain": [
              "report_year\n",
              "1994       63.636060\n",
              "1995       32.735269\n",
              "1996     9196.705948\n",
              "1997    11140.197239\n",
              "1998      287.154420\n",
              "1999       25.551627\n",
              "2000      985.362877\n",
              "2001       60.050396\n",
              "2002       47.594361\n",
              "2003       55.663493\n",
              "2004      139.524275\n",
              "2005       41.438184\n",
              "2006       38.657484\n",
              "2007       43.325023\n",
              "2008       58.588197\n",
              "2009      652.694163\n",
              "2010       91.862105\n",
              "2011       59.774667\n",
              "2012       60.994502\n",
              "2013      172.307591\n",
              "2014      192.737183\n",
              "2015      326.535511\n",
              "2016      103.901761\n",
              "2017       46.196861\n",
              "2018      499.269966\n",
              "Name: fuel_cost_per_unit_delivered, dtype: float64"
            ]
          },
          "metadata": {
            "tags": []
          },
          "execution_count": 50
        }
      ]
    },
    {
      "cell_type": "code",
      "metadata": {
        "id": "hM31sj7y7g_B",
        "colab": {
          "base_uri": "https://localhost:8080/",
          "height": 255
        },
        "outputId": "36235f76-bda9-4443-9718-0bd5c0a3eabc"
      },
      "source": [
        "#Question 9\n",
        "\n",
        "df1 = fuel_data.iloc[0:,2]      #The Report Year Column\n",
        "df2 = fuel_data.iloc[0:,4]      #The Fuel Type Column\n",
        "df3 = fuel_data.iloc[0:,6]      # The Fuel Qty Burned\n",
        "\n",
        "Df = pd.concat([df1,df2,df3], axis = 1)       #The Combination of all three columns\n",
        "print(Df)"
      ],
      "execution_count": null,
      "outputs": [
        {
          "output_type": "stream",
          "text": [
            "       report_year fuel_type_code_pudl  fuel_qty_burned\n",
            "0             1994                coal        5377489.0\n",
            "1             1994                coal       10486945.0\n",
            "2             1994                coal        2978683.0\n",
            "3             1994                coal        3739484.0\n",
            "4             1994                 gas          40533.0\n",
            "...            ...                 ...              ...\n",
            "29518         2018                 gas          18799.0\n",
            "29519         2018                 gas         806730.0\n",
            "29520         2018                 gas         104554.0\n",
            "29521         2018                coal         315945.0\n",
            "29522         2018                 gas          17853.0\n",
            "\n",
            "[29523 rows x 3 columns]\n"
          ],
          "name": "stdout"
        }
      ]
    },
    {
      "cell_type": "code",
      "metadata": {
        "id": "pkgqMrp37lmw"
      },
      "source": [
        "Df_1994 = Df[Df.report_year == 1994]        # For the year 1994\n",
        "Df_1998 = Df[Df.report_year == 1998]        # For the year 1998"
      ],
      "execution_count": null,
      "outputs": []
    },
    {
      "cell_type": "code",
      "metadata": {
        "id": "iPbo3fGL7sH-",
        "colab": {
          "base_uri": "https://localhost:8080/",
          "height": 153
        },
        "outputId": "2df7da9a-9f19-4eb2-92c0-ebe80cfe1e1f"
      },
      "source": [
        "Df_1994.groupby('fuel_type_code_pudl').fuel_qty_burned.sum()        #Grouping by fuel type and then summing the fuel burned for each fuel type for 1994\n",
        "\n",
        "\n",
        "#The Value of interest is 7.172082e+08"
      ],
      "execution_count": null,
      "outputs": [
        {
          "output_type": "execute_result",
          "data": {
            "text/plain": [
              "fuel_type_code_pudl\n",
              "coal       7.172082e+08\n",
              "gas        2.432212e+09\n",
              "nuclear    2.069366e+08\n",
              "oil        1.469716e+06\n",
              "other      5.094458e+06\n",
              "waste      1.242241e+06\n",
              "Name: fuel_qty_burned, dtype: float64"
            ]
          },
          "metadata": {
            "tags": []
          },
          "execution_count": 56
        }
      ]
    },
    {
      "cell_type": "code",
      "metadata": {
        "id": "MZ9kcu5h7xMe",
        "colab": {
          "base_uri": "https://localhost:8080/",
          "height": 153
        },
        "outputId": "e3603d17-ae5d-45b7-813d-675417fdeb49"
      },
      "source": [
        "Df_1998.groupby('fuel_type_code_pudl').fuel_qty_burned.sum()         #Grouping by fuel type and then summing the fuel burned for each fuel type for 1994\n",
        "\n",
        "\n",
        "#The value of interest is  8.982095e+08"
      ],
      "execution_count": null,
      "outputs": [
        {
          "output_type": "execute_result",
          "data": {
            "text/plain": [
              "fuel_type_code_pudl\n",
              "coal       8.982095e+08\n",
              "gas        2.554651e+09\n",
              "nuclear    1.504636e+08\n",
              "oil        5.436080e+05\n",
              "other      1.157796e+07\n",
              "waste      1.624599e+06\n",
              "Name: fuel_qty_burned, dtype: float64"
            ]
          },
          "metadata": {
            "tags": []
          },
          "execution_count": 57
        }
      ]
    },
    {
      "cell_type": "code",
      "metadata": {
        "id": "KNJL1FVq7zVX",
        "colab": {
          "base_uri": "https://localhost:8080/",
          "height": 34
        },
        "outputId": "d9e52028-c42b-4b7d-c33c-f3d858c47c3b"
      },
      "source": [
        "a = (((7.172082e+08)-(8.982095e+08))/8.982095e+08) * 100  # using 1998 as original year and 1994 as new year: the formula is (change/initial)*100\n",
        "\n",
        "print(a)\n",
        "#Answer is -20.15% is -20%\n"
      ],
      "execution_count": null,
      "outputs": [
        {
          "output_type": "stream",
          "text": [
            "-20.151345537984177\n"
          ],
          "name": "stdout"
        }
      ]
    },
    {
      "cell_type": "markdown",
      "metadata": {
        "id": "04Iw6g02-i4N"
      },
      "source": [
        "#### I think the format of answer of question of question 6 is not clear and the question 9 was not so correct, as you can use from my calculation it shows the answer is -20%... regardless of this, the quiz was stimulating and very relevant. Thank you so much Team Hamoye."
      ]
    }
  ]
}