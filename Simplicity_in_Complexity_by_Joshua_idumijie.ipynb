{
  "nbformat": 4,
  "nbformat_minor": 0,
  "metadata": {
    "kernelspec": {
      "display_name": "Python 3",
      "language": "python",
      "name": "python3"
    },
    "language_info": {
      "codemirror_mode": {
        "name": "ipython",
        "version": 3
      },
      "file_extension": ".py",
      "mimetype": "text/x-python",
      "name": "python",
      "nbconvert_exporter": "python",
      "pygments_lexer": "ipython3",
      "version": "3.7.6"
    },
    "colab": {
      "name": "Simplicity in Complexity by Joshua idumijie.ipynb",
      "provenance": [],
      "include_colab_link": true
    }
  },
  "cells": [
    {
      "cell_type": "markdown",
      "metadata": {
        "id": "view-in-github",
        "colab_type": "text"
      },
      "source": [
        "<a href=\"https://colab.research.google.com/github/joshuaidumijie/Hamoye-Internship-2020/blob/master/Simplicity_in_Complexity_by_Joshua_idumijie.ipynb\" target=\"_parent\"><img src=\"https://colab.research.google.com/assets/colab-badge.svg\" alt=\"Open In Colab\"/></a>"
      ]
    },
    {
      "cell_type": "markdown",
      "metadata": {
        "id": "iGPfcAN1ZzoA",
        "colab_type": "text"
      },
      "source": [
        "#Simplicity in Complexity"
      ]
    },
    {
      "cell_type": "markdown",
      "metadata": {
        "id": "xhQ1gdj4Z3Nq",
        "colab_type": "text"
      },
      "source": [
        "The Storytelling report is contained in a PDF copy, and although the code implementation is incorporated into this notebook, it is highlighted in the document submitted as well."
      ]
    },
    {
      "cell_type": "markdown",
      "metadata": {
        "id": "2cuCbbcHZ-Ng",
        "colab_type": "text"
      },
      "source": [
        "##Data Collection - Web Scrapping\n"
      ]
    },
    {
      "cell_type": "markdown",
      "metadata": {
        "id": "cqKbsmIdaIc6",
        "colab_type": "text"
      },
      "source": [
        "The data was scrapped from the jumia and konga platform for smartphones. The BeautifulSoup library was used for this."
      ]
    },
    {
      "cell_type": "code",
      "metadata": {
        "id": "n0LGF3p8Y7WY",
        "colab_type": "code",
        "colab": {}
      },
      "source": [
        "import requests as req #web client\n",
        "from bs4 import BeautifulSoup #the used library\n",
        "\n",
        "from requests import get\n",
        "\n",
        "import pandas as pd\n",
        "import numpy as np\n",
        "\n",
        "from time import sleep\n",
        "from random import randint"
      ],
      "execution_count": 1,
      "outputs": []
    },
    {
      "cell_type": "code",
      "metadata": {
        "id": "Daw6WCSXaVz5",
        "colab_type": "code",
        "colab": {}
      },
      "source": [
        "#For jumia url to scrap from \n",
        "url_jumia = \"https://www.jumia.com.ng/smartphones/\"\n",
        "url_konga = \"https://www.konga.com/category/phones-tablets-5294\""
      ],
      "execution_count": 2,
      "outputs": []
    },
    {
      "cell_type": "code",
      "metadata": {
        "id": "JHIS_yvTauMD",
        "colab_type": "code",
        "colab": {}
      },
      "source": [
        "# converting the html to soup and then parsing it\n",
        "\n",
        "soup_jumia = BeautifulSoup(jumia_phone.content)"
      ],
      "execution_count": 4,
      "outputs": []
    },
    {
      "cell_type": "code",
      "metadata": {
        "id": "mEdUx075adYo",
        "colab_type": "code",
        "colab": {}
      },
      "source": [
        "#downloading the html file from the url pages\n",
        "\n",
        "jumia_phone = req.get(url_jumia)\n",
        "print(soup_jumia.prettify())"
      ],
      "execution_count": null,
      "outputs": []
    },
    {
      "cell_type": "markdown",
      "metadata": {
        "id": "BwXWSe0Ra4yR",
        "colab_type": "text"
      },
      "source": [
        "It can be seen that the Konga website is protected from scrapping."
      ]
    },
    {
      "cell_type": "code",
      "metadata": {
        "id": "_nC5V9KaY7Wz",
        "colab_type": "code",
        "colab": {}
      },
      "source": [
        "full_price = []\n",
        "full_details = []\n",
        "full_review = []\n",
        "full_review_total=[]"
      ],
      "execution_count": null,
      "outputs": []
    },
    {
      "cell_type": "code",
      "metadata": {
        "id": "OXGhKd_QY7XG",
        "colab_type": "code",
        "colab": {}
      },
      "source": [
        "#Since the details are in multiple pages\n",
        "\n",
        "#for page 1\n",
        "#https://www.jumia.com.ng/smartphones/?page=1\n",
        "#for page 2\n",
        "#https://www.jumia.com.ng/smartphones/?page=2\n",
        "# and it goes on... this makes it easier to scrap through multiple pages\n",
        "\n",
        "pages = np.arange(1, 11, 1)                             #The range of pages from 1 to 50\n",
        "\n",
        "#the page loop\n",
        "for page in pages:\n",
        "  page = req.get(\"https://www.jumia.com.ng/smartphones/?page=\" + str(page))   #The loop for the 50 pages\n",
        "\n",
        "  soup = BeautifulSoup(page.text, 'html.parser')        #parsing the downloaded website\n",
        "  info_jumia = soup.find_all(\"div\",{\"class\":\"info\"})    #The destination of the required details\n",
        "  sleep(randint(2,4))                                  #so we don't overload the server... scraping responsibly\n",
        "\n",
        "for info in info_jumia:      #The new loop for our scrapping which  we tested in the previous codes\n",
        "  phone_name = info.h3.text   #The full description\n",
        "  full_details.append(phone_name)\n",
        "  \n",
        "  price_phone = info.find('div',class_='prc')   #the\n",
        "  price_phone = (price_phone.text.replace('₦', '').strip().replace(\",\",\"\"))\n",
        "  full_price.append(price_phone)\n",
        "      #for the reviews\n",
        "  reviews =  list(map(float,(info.find('div',class_='rev').text.replace('out of 5',\"\").strip().replace(\"(\",\"\").replace(')',\"\").split()))) if info.find('div',class_='rev') else [0,0] \n",
        "  full_review.append(reviews[0])\n",
        "  full_review_total.append(reviews[1])"
      ],
      "execution_count": null,
      "outputs": []
    },
    {
      "cell_type": "code",
      "metadata": {
        "id": "fy9g1t3SY7YW",
        "colab_type": "code",
        "colab": {},
        "outputId": "c89798fa-e8bc-4d63-f099-f09fc62529df"
      },
      "source": [
        "len(full_price)"
      ],
      "execution_count": null,
      "outputs": [
        {
          "output_type": "execute_result",
          "data": {
            "text/plain": [
              "240"
            ]
          },
          "metadata": {
            "tags": []
          },
          "execution_count": 12
        }
      ]
    },
    {
      "cell_type": "code",
      "metadata": {
        "id": "UH587IJgY7Y1",
        "colab_type": "code",
        "colab": {},
        "outputId": "71450538-d331-4182-9382-6cc9ab806b8d"
      },
      "source": [
        "len(full_details)"
      ],
      "execution_count": null,
      "outputs": [
        {
          "output_type": "execute_result",
          "data": {
            "text/plain": [
              "240"
            ]
          },
          "metadata": {
            "tags": []
          },
          "execution_count": 13
        }
      ]
    },
    {
      "cell_type": "code",
      "metadata": {
        "id": "IXh7IvEbY7ZU",
        "colab_type": "code",
        "colab": {},
        "outputId": "3ad097d7-f1fe-433a-9bf3-4d79af75d830"
      },
      "source": [
        "len(full_review)"
      ],
      "execution_count": null,
      "outputs": [
        {
          "output_type": "execute_result",
          "data": {
            "text/plain": [
              "240"
            ]
          },
          "metadata": {
            "tags": []
          },
          "execution_count": 14
        }
      ]
    },
    {
      "cell_type": "code",
      "metadata": {
        "id": "v9hkHrLdY7Z7",
        "colab_type": "code",
        "colab": {},
        "outputId": "36558cc4-6b6e-423e-a53c-bb0e84f2cf44"
      },
      "source": [
        "len(full_review_total)"
      ],
      "execution_count": null,
      "outputs": [
        {
          "output_type": "execute_result",
          "data": {
            "text/plain": [
              "240"
            ]
          },
          "metadata": {
            "tags": []
          },
          "execution_count": 15
        }
      ]
    },
    {
      "cell_type": "markdown",
      "metadata": {
        "id": "dyeTsF2CberZ",
        "colab_type": "text"
      },
      "source": [
        "## Data Cleaning"
      ]
    },
    {
      "cell_type": "code",
      "metadata": {
        "id": "FPanuTsYY7aS",
        "colab_type": "code",
        "colab": {}
      },
      "source": [
        "#pandas dataframe        \n",
        "phones = pd.DataFrame({\n",
        "'Phone_Name': full_details,\n",
        "'Price': full_price,\n",
        "'Ratings': full_review,\n",
        "'Ratings_by': full_review_total\n",
        "})"
      ],
      "execution_count": null,
      "outputs": []
    },
    {
      "cell_type": "code",
      "metadata": {
        "id": "ICiVS6h7Y7an",
        "colab_type": "code",
        "colab": {},
        "outputId": "9f469d89-ccc9-4d6a-b91a-17086e859a8d"
      },
      "source": [
        "phones.head(3)"
      ],
      "execution_count": null,
      "outputs": [
        {
          "output_type": "execute_result",
          "data": {
            "text/html": [
              "<div>\n",
              "<style scoped>\n",
              "    .dataframe tbody tr th:only-of-type {\n",
              "        vertical-align: middle;\n",
              "    }\n",
              "\n",
              "    .dataframe tbody tr th {\n",
              "        vertical-align: top;\n",
              "    }\n",
              "\n",
              "    .dataframe thead th {\n",
              "        text-align: right;\n",
              "    }\n",
              "</style>\n",
              "<table border=\"1\" class=\"dataframe\">\n",
              "  <thead>\n",
              "    <tr style=\"text-align: right;\">\n",
              "      <th></th>\n",
              "      <th>Phone_Name</th>\n",
              "      <th>Price</th>\n",
              "      <th>Ratings</th>\n",
              "      <th>Ratings_by</th>\n",
              "    </tr>\n",
              "  </thead>\n",
              "  <tbody>\n",
              "    <tr>\n",
              "      <th>0</th>\n",
              "      <td>Samsung Galaxy S20 6.2-Inch (8GB 128GB ROM) An...</td>\n",
              "      <td>330000</td>\n",
              "      <td>0.0</td>\n",
              "      <td>0.0</td>\n",
              "    </tr>\n",
              "    <tr>\n",
              "      <th>1</th>\n",
              "      <td>Samsung Galaxy S20 6.2-Inch (8GB 128GB ROM) An...</td>\n",
              "      <td>330000</td>\n",
              "      <td>5.0</td>\n",
              "      <td>1.0</td>\n",
              "    </tr>\n",
              "    <tr>\n",
              "      <th>2</th>\n",
              "      <td>Apple IPhone 6 Plus 5.5'' 64GB 8MP IOS Smartph...</td>\n",
              "      <td>74005</td>\n",
              "      <td>3.3</td>\n",
              "      <td>17.0</td>\n",
              "    </tr>\n",
              "  </tbody>\n",
              "</table>\n",
              "</div>"
            ],
            "text/plain": [
              "                                          Phone_Name   Price  Ratings  \\\n",
              "0  Samsung Galaxy S20 6.2-Inch (8GB 128GB ROM) An...  330000      0.0   \n",
              "1  Samsung Galaxy S20 6.2-Inch (8GB 128GB ROM) An...  330000      5.0   \n",
              "2  Apple IPhone 6 Plus 5.5'' 64GB 8MP IOS Smartph...   74005      3.3   \n",
              "\n",
              "   Ratings_by  \n",
              "0         0.0  \n",
              "1         1.0  \n",
              "2        17.0  "
            ]
          },
          "metadata": {
            "tags": []
          },
          "execution_count": 18
        }
      ]
    },
    {
      "cell_type": "code",
      "metadata": {
        "id": "s38PZuVyY7a7",
        "colab_type": "code",
        "colab": {},
        "outputId": "cd795b22-2eab-43aa-e803-2bcca0178791"
      },
      "source": [
        "phones.tail(10)"
      ],
      "execution_count": null,
      "outputs": [
        {
          "output_type": "execute_result",
          "data": {
            "text/html": [
              "<div>\n",
              "<style scoped>\n",
              "    .dataframe tbody tr th:only-of-type {\n",
              "        vertical-align: middle;\n",
              "    }\n",
              "\n",
              "    .dataframe tbody tr th {\n",
              "        vertical-align: top;\n",
              "    }\n",
              "\n",
              "    .dataframe thead th {\n",
              "        text-align: right;\n",
              "    }\n",
              "</style>\n",
              "<table border=\"1\" class=\"dataframe\">\n",
              "  <thead>\n",
              "    <tr style=\"text-align: right;\">\n",
              "      <th></th>\n",
              "      <th>Phone_Name</th>\n",
              "      <th>Price</th>\n",
              "      <th>Ratings</th>\n",
              "      <th>Ratings_by</th>\n",
              "    </tr>\n",
              "  </thead>\n",
              "  <tbody>\n",
              "    <tr>\n",
              "      <th>230</th>\n",
              "      <td>Apple IPhone 11 Dual Sim 6.1-Inch Liquid Retin...</td>\n",
              "      <td>309999</td>\n",
              "      <td>0.0</td>\n",
              "      <td>0.0</td>\n",
              "    </tr>\n",
              "    <tr>\n",
              "      <th>231</th>\n",
              "      <td>Oppo Reno 3 Pro-Dual-256GB ROM-8GB RAM-4G LTE-...</td>\n",
              "      <td>280000</td>\n",
              "      <td>0.0</td>\n",
              "      <td>0.0</td>\n",
              "    </tr>\n",
              "    <tr>\n",
              "      <th>232</th>\n",
              "      <td></td>\n",
              "      <td></td>\n",
              "      <td>0.0</td>\n",
              "      <td>0.0</td>\n",
              "    </tr>\n",
              "    <tr>\n",
              "      <th>233</th>\n",
              "      <td></td>\n",
              "      <td></td>\n",
              "      <td>0.0</td>\n",
              "      <td>0.0</td>\n",
              "    </tr>\n",
              "    <tr>\n",
              "      <th>234</th>\n",
              "      <td></td>\n",
              "      <td></td>\n",
              "      <td>0.0</td>\n",
              "      <td>0.0</td>\n",
              "    </tr>\n",
              "    <tr>\n",
              "      <th>235</th>\n",
              "      <td></td>\n",
              "      <td></td>\n",
              "      <td>0.0</td>\n",
              "      <td>0.0</td>\n",
              "    </tr>\n",
              "    <tr>\n",
              "      <th>236</th>\n",
              "      <td></td>\n",
              "      <td></td>\n",
              "      <td>0.0</td>\n",
              "      <td>0.0</td>\n",
              "    </tr>\n",
              "    <tr>\n",
              "      <th>237</th>\n",
              "      <td></td>\n",
              "      <td></td>\n",
              "      <td>0.0</td>\n",
              "      <td>0.0</td>\n",
              "    </tr>\n",
              "    <tr>\n",
              "      <th>238</th>\n",
              "      <td></td>\n",
              "      <td></td>\n",
              "      <td>0.0</td>\n",
              "      <td>0.0</td>\n",
              "    </tr>\n",
              "    <tr>\n",
              "      <th>239</th>\n",
              "      <td></td>\n",
              "      <td></td>\n",
              "      <td>0.0</td>\n",
              "      <td>0.0</td>\n",
              "    </tr>\n",
              "  </tbody>\n",
              "</table>\n",
              "</div>"
            ],
            "text/plain": [
              "                                            Phone_Name   Price  Ratings  \\\n",
              "230  Apple IPhone 11 Dual Sim 6.1-Inch Liquid Retin...  309999      0.0   \n",
              "231  Oppo Reno 3 Pro-Dual-256GB ROM-8GB RAM-4G LTE-...  280000      0.0   \n",
              "232                                                                 0.0   \n",
              "233                                                                 0.0   \n",
              "234                                                                 0.0   \n",
              "235                                                                 0.0   \n",
              "236                                                                 0.0   \n",
              "237                                                                 0.0   \n",
              "238                                                                 0.0   \n",
              "239                                                                 0.0   \n",
              "\n",
              "     Ratings_by  \n",
              "230         0.0  \n",
              "231         0.0  \n",
              "232         0.0  \n",
              "233         0.0  \n",
              "234         0.0  \n",
              "235         0.0  \n",
              "236         0.0  \n",
              "237         0.0  \n",
              "238         0.0  \n",
              "239         0.0  "
            ]
          },
          "metadata": {
            "tags": []
          },
          "execution_count": 20
        }
      ]
    },
    {
      "cell_type": "code",
      "metadata": {
        "id": "-njFg_HmY7bR",
        "colab_type": "code",
        "colab": {}
      },
      "source": [
        "indexNames = phones[ phones['Ratings'] == 0.0 ].index"
      ],
      "execution_count": null,
      "outputs": []
    },
    {
      "cell_type": "code",
      "metadata": {
        "id": "m15AIPDcY7bf",
        "colab_type": "code",
        "colab": {}
      },
      "source": [
        "phones.drop(indexNames , inplace=True)"
      ],
      "execution_count": null,
      "outputs": []
    },
    {
      "cell_type": "code",
      "metadata": {
        "id": "Z8kDUEovY7bv",
        "colab_type": "code",
        "colab": {},
        "outputId": "5e4326f4-f40c-465a-bec7-a900219d8401"
      },
      "source": [
        "len(phones)"
      ],
      "execution_count": null,
      "outputs": [
        {
          "output_type": "execute_result",
          "data": {
            "text/plain": [
              "106"
            ]
          },
          "metadata": {
            "tags": []
          },
          "execution_count": 26
        }
      ]
    },
    {
      "cell_type": "code",
      "metadata": {
        "id": "31-Vo6cWY7b5",
        "colab_type": "code",
        "colab": {},
        "outputId": "38ef8d32-96c4-4a25-f300-2c0812aafa24"
      },
      "source": [
        "phones.head(5)"
      ],
      "execution_count": null,
      "outputs": [
        {
          "output_type": "execute_result",
          "data": {
            "text/html": [
              "<div>\n",
              "<style scoped>\n",
              "    .dataframe tbody tr th:only-of-type {\n",
              "        vertical-align: middle;\n",
              "    }\n",
              "\n",
              "    .dataframe tbody tr th {\n",
              "        vertical-align: top;\n",
              "    }\n",
              "\n",
              "    .dataframe thead th {\n",
              "        text-align: right;\n",
              "    }\n",
              "</style>\n",
              "<table border=\"1\" class=\"dataframe\">\n",
              "  <thead>\n",
              "    <tr style=\"text-align: right;\">\n",
              "      <th></th>\n",
              "      <th>Phone_Name</th>\n",
              "      <th>Price</th>\n",
              "      <th>Ratings</th>\n",
              "      <th>Ratings_by</th>\n",
              "    </tr>\n",
              "  </thead>\n",
              "  <tbody>\n",
              "    <tr>\n",
              "      <th>1</th>\n",
              "      <td>Samsung Galaxy S20 6.2-Inch (8GB 128GB ROM) An...</td>\n",
              "      <td>330000</td>\n",
              "      <td>5.0</td>\n",
              "      <td>1.0</td>\n",
              "    </tr>\n",
              "    <tr>\n",
              "      <th>2</th>\n",
              "      <td>Apple IPhone 6 Plus 5.5'' 64GB 8MP IOS Smartph...</td>\n",
              "      <td>74005</td>\n",
              "      <td>3.3</td>\n",
              "      <td>17.0</td>\n",
              "    </tr>\n",
              "    <tr>\n",
              "      <th>5</th>\n",
              "      <td>Gionee S10 LITE 5.2 Inch 4GB RAM 32GB ROM 16MP...</td>\n",
              "      <td>25900</td>\n",
              "      <td>4.0</td>\n",
              "      <td>1.0</td>\n",
              "    </tr>\n",
              "    <tr>\n",
              "      <th>11</th>\n",
              "      <td>Tecno CAMON 12(CC7)-6.52\" CRYSTAL DOT NOTCH SC...</td>\n",
              "      <td>58000</td>\n",
              "      <td>4.4</td>\n",
              "      <td>72.0</td>\n",
              "    </tr>\n",
              "    <tr>\n",
              "      <th>12</th>\n",
              "      <td>Oukitel C15 Pro 6.1-Inch Android 9.0 Pie(3GB R...</td>\n",
              "      <td>30699</td>\n",
              "      <td>4.2</td>\n",
              "      <td>28.0</td>\n",
              "    </tr>\n",
              "  </tbody>\n",
              "</table>\n",
              "</div>"
            ],
            "text/plain": [
              "                                           Phone_Name   Price  Ratings  \\\n",
              "1   Samsung Galaxy S20 6.2-Inch (8GB 128GB ROM) An...  330000      5.0   \n",
              "2   Apple IPhone 6 Plus 5.5'' 64GB 8MP IOS Smartph...   74005      3.3   \n",
              "5   Gionee S10 LITE 5.2 Inch 4GB RAM 32GB ROM 16MP...   25900      4.0   \n",
              "11  Tecno CAMON 12(CC7)-6.52\" CRYSTAL DOT NOTCH SC...   58000      4.4   \n",
              "12  Oukitel C15 Pro 6.1-Inch Android 9.0 Pie(3GB R...   30699      4.2   \n",
              "\n",
              "    Ratings_by  \n",
              "1          1.0  \n",
              "2         17.0  \n",
              "5          1.0  \n",
              "11        72.0  \n",
              "12        28.0  "
            ]
          },
          "metadata": {
            "tags": []
          },
          "execution_count": 27
        }
      ]
    },
    {
      "cell_type": "code",
      "metadata": {
        "id": "r3u0_QQZY7cH",
        "colab_type": "code",
        "colab": {},
        "outputId": "d4dcfbff-fe60-4d96-fd79-34538cdeefc5"
      },
      "source": [
        "phones.tail(5)"
      ],
      "execution_count": null,
      "outputs": [
        {
          "output_type": "execute_result",
          "data": {
            "text/html": [
              "<div>\n",
              "<style scoped>\n",
              "    .dataframe tbody tr th:only-of-type {\n",
              "        vertical-align: middle;\n",
              "    }\n",
              "\n",
              "    .dataframe tbody tr th {\n",
              "        vertical-align: top;\n",
              "    }\n",
              "\n",
              "    .dataframe thead th {\n",
              "        text-align: right;\n",
              "    }\n",
              "</style>\n",
              "<table border=\"1\" class=\"dataframe\">\n",
              "  <thead>\n",
              "    <tr style=\"text-align: right;\">\n",
              "      <th></th>\n",
              "      <th>Phone_Name</th>\n",
              "      <th>Price</th>\n",
              "      <th>Ratings</th>\n",
              "      <th>Ratings_by</th>\n",
              "    </tr>\n",
              "  </thead>\n",
              "  <tbody>\n",
              "    <tr>\n",
              "      <th>220</th>\n",
              "      <td>Apple IPhone 8 Plus 64GB 5.5 Inch IOS Smartpho...</td>\n",
              "      <td>189900 -  228000</td>\n",
              "      <td>5.0</td>\n",
              "      <td>8.0</td>\n",
              "    </tr>\n",
              "    <tr>\n",
              "      <th>222</th>\n",
              "      <td>Gionee S12 6.517-Inch HD (4GB RAM, 64GB ROM) A...</td>\n",
              "      <td>62060</td>\n",
              "      <td>4.1</td>\n",
              "      <td>11.0</td>\n",
              "    </tr>\n",
              "    <tr>\n",
              "      <th>223</th>\n",
              "      <td>Apple Refurbished IPhone 5C 8GB Green 4G LTE 4...</td>\n",
              "      <td>20300</td>\n",
              "      <td>4.5</td>\n",
              "      <td>2.0</td>\n",
              "    </tr>\n",
              "    <tr>\n",
              "      <th>224</th>\n",
              "      <td>Nokia 5.3 - 6GB/64GB Memory, 6.55\" HD, Dual SI...</td>\n",
              "      <td>80300</td>\n",
              "      <td>4.7</td>\n",
              "      <td>10.0</td>\n",
              "    </tr>\n",
              "    <tr>\n",
              "      <th>225</th>\n",
              "      <td>Samsung Galaxy Tab A 8.0\" (2019, WiFi + Cellul...</td>\n",
              "      <td>67300</td>\n",
              "      <td>4.5</td>\n",
              "      <td>23.0</td>\n",
              "    </tr>\n",
              "  </tbody>\n",
              "</table>\n",
              "</div>"
            ],
            "text/plain": [
              "                                            Phone_Name             Price  \\\n",
              "220  Apple IPhone 8 Plus 64GB 5.5 Inch IOS Smartpho...  189900 -  228000   \n",
              "222  Gionee S12 6.517-Inch HD (4GB RAM, 64GB ROM) A...             62060   \n",
              "223  Apple Refurbished IPhone 5C 8GB Green 4G LTE 4...             20300   \n",
              "224  Nokia 5.3 - 6GB/64GB Memory, 6.55\" HD, Dual SI...             80300   \n",
              "225  Samsung Galaxy Tab A 8.0\" (2019, WiFi + Cellul...             67300   \n",
              "\n",
              "     Ratings  Ratings_by  \n",
              "220      5.0         8.0  \n",
              "222      4.1        11.0  \n",
              "223      4.5         2.0  \n",
              "224      4.7        10.0  \n",
              "225      4.5        23.0  "
            ]
          },
          "metadata": {
            "tags": []
          },
          "execution_count": 28
        }
      ]
    },
    {
      "cell_type": "code",
      "metadata": {
        "id": "Z-lV1JE6Y7cS",
        "colab_type": "code",
        "colab": {}
      },
      "source": [
        "b"
      ],
      "execution_count": null,
      "outputs": []
    },
    {
      "cell_type": "code",
      "metadata": {
        "id": "Lx_AlX-eY7cg",
        "colab_type": "code",
        "colab": {},
        "outputId": "ce3704dc-d3c8-4331-fc4c-928d103ebb7a"
      },
      "source": [
        "top_ratings.reset_index(drop=True)"
      ],
      "execution_count": null,
      "outputs": [
        {
          "output_type": "execute_result",
          "data": {
            "text/html": [
              "<div>\n",
              "<style scoped>\n",
              "    .dataframe tbody tr th:only-of-type {\n",
              "        vertical-align: middle;\n",
              "    }\n",
              "\n",
              "    .dataframe tbody tr th {\n",
              "        vertical-align: top;\n",
              "    }\n",
              "\n",
              "    .dataframe thead th {\n",
              "        text-align: right;\n",
              "    }\n",
              "</style>\n",
              "<table border=\"1\" class=\"dataframe\">\n",
              "  <thead>\n",
              "    <tr style=\"text-align: right;\">\n",
              "      <th></th>\n",
              "      <th>Phone_Name</th>\n",
              "      <th>Price</th>\n",
              "      <th>Ratings</th>\n",
              "      <th>Ratings_by</th>\n",
              "    </tr>\n",
              "  </thead>\n",
              "  <tbody>\n",
              "    <tr>\n",
              "      <th>0</th>\n",
              "      <td>Samsung Galaxy S20 6.2-Inch (8GB 128GB ROM) An...</td>\n",
              "      <td>330000</td>\n",
              "      <td>5.0</td>\n",
              "      <td>1.0</td>\n",
              "    </tr>\n",
              "    <tr>\n",
              "      <th>1</th>\n",
              "      <td>Samsung Galaxy S8 - 5.8\" 4GB RAM + 64GB ROM - ...</td>\n",
              "      <td>97900</td>\n",
              "      <td>5.0</td>\n",
              "      <td>1.0</td>\n",
              "    </tr>\n",
              "    <tr>\n",
              "      <th>2</th>\n",
              "      <td>Tecno POP 2F (B1F) 5.5\" Android 8.1, 16GB ROM ...</td>\n",
              "      <td>23490</td>\n",
              "      <td>5.0</td>\n",
              "      <td>1.0</td>\n",
              "    </tr>\n",
              "    <tr>\n",
              "      <th>3</th>\n",
              "      <td>Apple IPhone 8 Plus 64GB 5.5 Inch IOS Smartpho...</td>\n",
              "      <td>189900 -  228000</td>\n",
              "      <td>5.0</td>\n",
              "      <td>8.0</td>\n",
              "    </tr>\n",
              "    <tr>\n",
              "      <th>4</th>\n",
              "      <td>Apple IPhone 11 Pro Max 6.5'' Super Retina (4G...</td>\n",
              "      <td>549990</td>\n",
              "      <td>5.0</td>\n",
              "      <td>1.0</td>\n",
              "    </tr>\n",
              "    <tr>\n",
              "      <th>5</th>\n",
              "      <td>Apple IPhone XS Max (RAM, 512GB ROM) IOS 12 (1...</td>\n",
              "      <td>530000</td>\n",
              "      <td>5.0</td>\n",
              "      <td>1.0</td>\n",
              "    </tr>\n",
              "    <tr>\n",
              "      <th>6</th>\n",
              "      <td>Apple IPhone 11 Pro Max 6.5-Inch Super Retina ...</td>\n",
              "      <td>590000</td>\n",
              "      <td>5.0</td>\n",
              "      <td>1.0</td>\n",
              "    </tr>\n",
              "    <tr>\n",
              "      <th>7</th>\n",
              "      <td>Samsung Galaxy Note 9 6.4-Inch (6GB RAM, 128GB...</td>\n",
              "      <td>175800</td>\n",
              "      <td>5.0</td>\n",
              "      <td>1.0</td>\n",
              "    </tr>\n",
              "    <tr>\n",
              "      <th>8</th>\n",
              "      <td>Apple IPhone 7 2GB + 32GB 4.7\" Finger Sensor 4...</td>\n",
              "      <td>84459</td>\n",
              "      <td>5.0</td>\n",
              "      <td>3.0</td>\n",
              "    </tr>\n",
              "    <tr>\n",
              "      <th>9</th>\n",
              "      <td>Samsung Galaxy A11 6.4\" 13MP+5MP+2MP Camera, 2...</td>\n",
              "      <td>51990</td>\n",
              "      <td>5.0</td>\n",
              "      <td>2.0</td>\n",
              "    </tr>\n",
              "    <tr>\n",
              "      <th>10</th>\n",
              "      <td>Apple IPhone 4S 3.5 Inches 16GB GSM 8MP WIFI G...</td>\n",
              "      <td>15300</td>\n",
              "      <td>5.0</td>\n",
              "      <td>1.0</td>\n",
              "    </tr>\n",
              "    <tr>\n",
              "      <th>11</th>\n",
              "      <td>Tecno Spark 5 (KD7H) 6.6\" HD+ (32GB, 2GB) 13MP...</td>\n",
              "      <td>52500</td>\n",
              "      <td>5.0</td>\n",
              "      <td>1.0</td>\n",
              "    </tr>\n",
              "    <tr>\n",
              "      <th>12</th>\n",
              "      <td>Apple IPhone XS Max (4GB RAM, 256GB ROM) IOS 1...</td>\n",
              "      <td>385000</td>\n",
              "      <td>5.0</td>\n",
              "      <td>1.0</td>\n",
              "    </tr>\n",
              "    <tr>\n",
              "      <th>13</th>\n",
              "      <td>Apple IPhone 6 Plus 5.5'' 64GB 8MP IOS Smartph...</td>\n",
              "      <td>74050</td>\n",
              "      <td>5.0</td>\n",
              "      <td>2.0</td>\n",
              "    </tr>\n",
              "    <tr>\n",
              "      <th>14</th>\n",
              "      <td>XIAOMI Redmi Note 9 6.53 Inches 3GB RAM 64GB R...</td>\n",
              "      <td>76090</td>\n",
              "      <td>5.0</td>\n",
              "      <td>2.0</td>\n",
              "    </tr>\n",
              "    <tr>\n",
              "      <th>15</th>\n",
              "      <td>Samsung Galaxy S20 Plus (S20+) 6.7'' (8GB 128G...</td>\n",
              "      <td>329900</td>\n",
              "      <td>5.0</td>\n",
              "      <td>1.0</td>\n",
              "    </tr>\n",
              "    <tr>\n",
              "      <th>16</th>\n",
              "      <td>Apple IPhone 5S 16GB Smartphones 4G LTE Finger...</td>\n",
              "      <td>25500</td>\n",
              "      <td>5.0</td>\n",
              "      <td>1.0</td>\n",
              "    </tr>\n",
              "    <tr>\n",
              "      <th>17</th>\n",
              "      <td>Samsung Galaxy S20 6.2-Inch (8GB 128GB ROM) An...</td>\n",
              "      <td>330000</td>\n",
              "      <td>5.0</td>\n",
              "      <td>1.0</td>\n",
              "    </tr>\n",
              "    <tr>\n",
              "      <th>18</th>\n",
              "      <td>Samsung Galaxy S8 - 5.8\" 4GB RAM + 64GB ROM - ...</td>\n",
              "      <td>97900</td>\n",
              "      <td>5.0</td>\n",
              "      <td>1.0</td>\n",
              "    </tr>\n",
              "    <tr>\n",
              "      <th>19</th>\n",
              "      <td>Tecno POP 2F (B1F) 5.5\" Android 8.1, 16GB ROM ...</td>\n",
              "      <td>23490</td>\n",
              "      <td>5.0</td>\n",
              "      <td>1.0</td>\n",
              "    </tr>\n",
              "    <tr>\n",
              "      <th>20</th>\n",
              "      <td>Apple IPhone 8 Plus 64GB 5.5 Inch IOS Smartpho...</td>\n",
              "      <td>189900 -  228000</td>\n",
              "      <td>5.0</td>\n",
              "      <td>8.0</td>\n",
              "    </tr>\n",
              "  </tbody>\n",
              "</table>\n",
              "</div>"
            ],
            "text/plain": [
              "                                           Phone_Name             Price  \\\n",
              "0   Samsung Galaxy S20 6.2-Inch (8GB 128GB ROM) An...            330000   \n",
              "1   Samsung Galaxy S8 - 5.8\" 4GB RAM + 64GB ROM - ...             97900   \n",
              "2   Tecno POP 2F (B1F) 5.5\" Android 8.1, 16GB ROM ...             23490   \n",
              "3   Apple IPhone 8 Plus 64GB 5.5 Inch IOS Smartpho...  189900 -  228000   \n",
              "4   Apple IPhone 11 Pro Max 6.5'' Super Retina (4G...            549990   \n",
              "5   Apple IPhone XS Max (RAM, 512GB ROM) IOS 12 (1...            530000   \n",
              "6   Apple IPhone 11 Pro Max 6.5-Inch Super Retina ...            590000   \n",
              "7   Samsung Galaxy Note 9 6.4-Inch (6GB RAM, 128GB...            175800   \n",
              "8   Apple IPhone 7 2GB + 32GB 4.7\" Finger Sensor 4...             84459   \n",
              "9   Samsung Galaxy A11 6.4\" 13MP+5MP+2MP Camera, 2...             51990   \n",
              "10  Apple IPhone 4S 3.5 Inches 16GB GSM 8MP WIFI G...             15300   \n",
              "11  Tecno Spark 5 (KD7H) 6.6\" HD+ (32GB, 2GB) 13MP...             52500   \n",
              "12  Apple IPhone XS Max (4GB RAM, 256GB ROM) IOS 1...            385000   \n",
              "13  Apple IPhone 6 Plus 5.5'' 64GB 8MP IOS Smartph...             74050   \n",
              "14  XIAOMI Redmi Note 9 6.53 Inches 3GB RAM 64GB R...             76090   \n",
              "15  Samsung Galaxy S20 Plus (S20+) 6.7'' (8GB 128G...            329900   \n",
              "16  Apple IPhone 5S 16GB Smartphones 4G LTE Finger...             25500   \n",
              "17  Samsung Galaxy S20 6.2-Inch (8GB 128GB ROM) An...            330000   \n",
              "18  Samsung Galaxy S8 - 5.8\" 4GB RAM + 64GB ROM - ...             97900   \n",
              "19  Tecno POP 2F (B1F) 5.5\" Android 8.1, 16GB ROM ...             23490   \n",
              "20  Apple IPhone 8 Plus 64GB 5.5 Inch IOS Smartpho...  189900 -  228000   \n",
              "\n",
              "    Ratings  Ratings_by  \n",
              "0       5.0         1.0  \n",
              "1       5.0         1.0  \n",
              "2       5.0         1.0  \n",
              "3       5.0         8.0  \n",
              "4       5.0         1.0  \n",
              "5       5.0         1.0  \n",
              "6       5.0         1.0  \n",
              "7       5.0         1.0  \n",
              "8       5.0         3.0  \n",
              "9       5.0         2.0  \n",
              "10      5.0         1.0  \n",
              "11      5.0         1.0  \n",
              "12      5.0         1.0  \n",
              "13      5.0         2.0  \n",
              "14      5.0         2.0  \n",
              "15      5.0         1.0  \n",
              "16      5.0         1.0  \n",
              "17      5.0         1.0  \n",
              "18      5.0         1.0  \n",
              "19      5.0         1.0  \n",
              "20      5.0         8.0  "
            ]
          },
          "metadata": {
            "tags": []
          },
          "execution_count": 34
        }
      ]
    },
    {
      "cell_type": "code",
      "metadata": {
        "id": "qR8XZxpZY7cy",
        "colab_type": "code",
        "colab": {},
        "outputId": "054e9470-5a83-43d1-a723-c4b04a88b9b3"
      },
      "source": [
        "top_ratings"
      ],
      "execution_count": null,
      "outputs": [
        {
          "output_type": "execute_result",
          "data": {
            "text/html": [
              "<div>\n",
              "<style scoped>\n",
              "    .dataframe tbody tr th:only-of-type {\n",
              "        vertical-align: middle;\n",
              "    }\n",
              "\n",
              "    .dataframe tbody tr th {\n",
              "        vertical-align: top;\n",
              "    }\n",
              "\n",
              "    .dataframe thead th {\n",
              "        text-align: right;\n",
              "    }\n",
              "</style>\n",
              "<table border=\"1\" class=\"dataframe\">\n",
              "  <thead>\n",
              "    <tr style=\"text-align: right;\">\n",
              "      <th></th>\n",
              "      <th>Phone_Name</th>\n",
              "      <th>Price</th>\n",
              "      <th>Ratings</th>\n",
              "      <th>Ratings_by</th>\n",
              "    </tr>\n",
              "  </thead>\n",
              "  <tbody>\n",
              "    <tr>\n",
              "      <th>1</th>\n",
              "      <td>Samsung Galaxy S20 6.2-Inch (8GB 128GB ROM) An...</td>\n",
              "      <td>330000</td>\n",
              "      <td>5.0</td>\n",
              "      <td>1.0</td>\n",
              "    </tr>\n",
              "    <tr>\n",
              "      <th>18</th>\n",
              "      <td>Samsung Galaxy S8 - 5.8\" 4GB RAM + 64GB ROM - ...</td>\n",
              "      <td>97900</td>\n",
              "      <td>5.0</td>\n",
              "      <td>1.0</td>\n",
              "    </tr>\n",
              "    <tr>\n",
              "      <th>21</th>\n",
              "      <td>Tecno POP 2F (B1F) 5.5\" Android 8.1, 16GB ROM ...</td>\n",
              "      <td>23490</td>\n",
              "      <td>5.0</td>\n",
              "      <td>1.0</td>\n",
              "    </tr>\n",
              "    <tr>\n",
              "      <th>29</th>\n",
              "      <td>Apple IPhone 8 Plus 64GB 5.5 Inch IOS Smartpho...</td>\n",
              "      <td>189900 -  228000</td>\n",
              "      <td>5.0</td>\n",
              "      <td>8.0</td>\n",
              "    </tr>\n",
              "    <tr>\n",
              "      <th>56</th>\n",
              "      <td>Apple IPhone 11 Pro Max 6.5'' Super Retina (4G...</td>\n",
              "      <td>549990</td>\n",
              "      <td>5.0</td>\n",
              "      <td>1.0</td>\n",
              "    </tr>\n",
              "    <tr>\n",
              "      <th>61</th>\n",
              "      <td>Apple IPhone XS Max (RAM, 512GB ROM) IOS 12 (1...</td>\n",
              "      <td>530000</td>\n",
              "      <td>5.0</td>\n",
              "      <td>1.0</td>\n",
              "    </tr>\n",
              "    <tr>\n",
              "      <th>63</th>\n",
              "      <td>Apple IPhone 11 Pro Max 6.5-Inch Super Retina ...</td>\n",
              "      <td>590000</td>\n",
              "      <td>5.0</td>\n",
              "      <td>1.0</td>\n",
              "    </tr>\n",
              "    <tr>\n",
              "      <th>77</th>\n",
              "      <td>Samsung Galaxy Note 9 6.4-Inch (6GB RAM, 128GB...</td>\n",
              "      <td>175800</td>\n",
              "      <td>5.0</td>\n",
              "      <td>1.0</td>\n",
              "    </tr>\n",
              "    <tr>\n",
              "      <th>115</th>\n",
              "      <td>Apple IPhone 7 2GB + 32GB 4.7\" Finger Sensor 4...</td>\n",
              "      <td>84459</td>\n",
              "      <td>5.0</td>\n",
              "      <td>3.0</td>\n",
              "    </tr>\n",
              "    <tr>\n",
              "      <th>147</th>\n",
              "      <td>Samsung Galaxy A11 6.4\" 13MP+5MP+2MP Camera, 2...</td>\n",
              "      <td>51990</td>\n",
              "      <td>5.0</td>\n",
              "      <td>2.0</td>\n",
              "    </tr>\n",
              "    <tr>\n",
              "      <th>151</th>\n",
              "      <td>Apple IPhone 4S 3.5 Inches 16GB GSM 8MP WIFI G...</td>\n",
              "      <td>15300</td>\n",
              "      <td>5.0</td>\n",
              "      <td>1.0</td>\n",
              "    </tr>\n",
              "    <tr>\n",
              "      <th>154</th>\n",
              "      <td>Tecno Spark 5 (KD7H) 6.6\" HD+ (32GB, 2GB) 13MP...</td>\n",
              "      <td>52500</td>\n",
              "      <td>5.0</td>\n",
              "      <td>1.0</td>\n",
              "    </tr>\n",
              "    <tr>\n",
              "      <th>157</th>\n",
              "      <td>Apple IPhone XS Max (4GB RAM, 256GB ROM) IOS 1...</td>\n",
              "      <td>385000</td>\n",
              "      <td>5.0</td>\n",
              "      <td>1.0</td>\n",
              "    </tr>\n",
              "    <tr>\n",
              "      <th>164</th>\n",
              "      <td>Apple IPhone 6 Plus 5.5'' 64GB 8MP IOS Smartph...</td>\n",
              "      <td>74050</td>\n",
              "      <td>5.0</td>\n",
              "      <td>2.0</td>\n",
              "    </tr>\n",
              "    <tr>\n",
              "      <th>169</th>\n",
              "      <td>XIAOMI Redmi Note 9 6.53 Inches 3GB RAM 64GB R...</td>\n",
              "      <td>76090</td>\n",
              "      <td>5.0</td>\n",
              "      <td>2.0</td>\n",
              "    </tr>\n",
              "    <tr>\n",
              "      <th>173</th>\n",
              "      <td>Samsung Galaxy S20 Plus (S20+) 6.7'' (8GB 128G...</td>\n",
              "      <td>329900</td>\n",
              "      <td>5.0</td>\n",
              "      <td>1.0</td>\n",
              "    </tr>\n",
              "    <tr>\n",
              "      <th>183</th>\n",
              "      <td>Apple IPhone 5S 16GB Smartphones 4G LTE Finger...</td>\n",
              "      <td>25500</td>\n",
              "      <td>5.0</td>\n",
              "      <td>1.0</td>\n",
              "    </tr>\n",
              "    <tr>\n",
              "      <th>192</th>\n",
              "      <td>Samsung Galaxy S20 6.2-Inch (8GB 128GB ROM) An...</td>\n",
              "      <td>330000</td>\n",
              "      <td>5.0</td>\n",
              "      <td>1.0</td>\n",
              "    </tr>\n",
              "    <tr>\n",
              "      <th>209</th>\n",
              "      <td>Samsung Galaxy S8 - 5.8\" 4GB RAM + 64GB ROM - ...</td>\n",
              "      <td>97900</td>\n",
              "      <td>5.0</td>\n",
              "      <td>1.0</td>\n",
              "    </tr>\n",
              "    <tr>\n",
              "      <th>212</th>\n",
              "      <td>Tecno POP 2F (B1F) 5.5\" Android 8.1, 16GB ROM ...</td>\n",
              "      <td>23490</td>\n",
              "      <td>5.0</td>\n",
              "      <td>1.0</td>\n",
              "    </tr>\n",
              "    <tr>\n",
              "      <th>220</th>\n",
              "      <td>Apple IPhone 8 Plus 64GB 5.5 Inch IOS Smartpho...</td>\n",
              "      <td>189900 -  228000</td>\n",
              "      <td>5.0</td>\n",
              "      <td>8.0</td>\n",
              "    </tr>\n",
              "  </tbody>\n",
              "</table>\n",
              "</div>"
            ],
            "text/plain": [
              "                                            Phone_Name             Price  \\\n",
              "1    Samsung Galaxy S20 6.2-Inch (8GB 128GB ROM) An...            330000   \n",
              "18   Samsung Galaxy S8 - 5.8\" 4GB RAM + 64GB ROM - ...             97900   \n",
              "21   Tecno POP 2F (B1F) 5.5\" Android 8.1, 16GB ROM ...             23490   \n",
              "29   Apple IPhone 8 Plus 64GB 5.5 Inch IOS Smartpho...  189900 -  228000   \n",
              "56   Apple IPhone 11 Pro Max 6.5'' Super Retina (4G...            549990   \n",
              "61   Apple IPhone XS Max (RAM, 512GB ROM) IOS 12 (1...            530000   \n",
              "63   Apple IPhone 11 Pro Max 6.5-Inch Super Retina ...            590000   \n",
              "77   Samsung Galaxy Note 9 6.4-Inch (6GB RAM, 128GB...            175800   \n",
              "115  Apple IPhone 7 2GB + 32GB 4.7\" Finger Sensor 4...             84459   \n",
              "147  Samsung Galaxy A11 6.4\" 13MP+5MP+2MP Camera, 2...             51990   \n",
              "151  Apple IPhone 4S 3.5 Inches 16GB GSM 8MP WIFI G...             15300   \n",
              "154  Tecno Spark 5 (KD7H) 6.6\" HD+ (32GB, 2GB) 13MP...             52500   \n",
              "157  Apple IPhone XS Max (4GB RAM, 256GB ROM) IOS 1...            385000   \n",
              "164  Apple IPhone 6 Plus 5.5'' 64GB 8MP IOS Smartph...             74050   \n",
              "169  XIAOMI Redmi Note 9 6.53 Inches 3GB RAM 64GB R...             76090   \n",
              "173  Samsung Galaxy S20 Plus (S20+) 6.7'' (8GB 128G...            329900   \n",
              "183  Apple IPhone 5S 16GB Smartphones 4G LTE Finger...             25500   \n",
              "192  Samsung Galaxy S20 6.2-Inch (8GB 128GB ROM) An...            330000   \n",
              "209  Samsung Galaxy S8 - 5.8\" 4GB RAM + 64GB ROM - ...             97900   \n",
              "212  Tecno POP 2F (B1F) 5.5\" Android 8.1, 16GB ROM ...             23490   \n",
              "220  Apple IPhone 8 Plus 64GB 5.5 Inch IOS Smartpho...  189900 -  228000   \n",
              "\n",
              "     Ratings  Ratings_by  \n",
              "1        5.0         1.0  \n",
              "18       5.0         1.0  \n",
              "21       5.0         1.0  \n",
              "29       5.0         8.0  \n",
              "56       5.0         1.0  \n",
              "61       5.0         1.0  \n",
              "63       5.0         1.0  \n",
              "77       5.0         1.0  \n",
              "115      5.0         3.0  \n",
              "147      5.0         2.0  \n",
              "151      5.0         1.0  \n",
              "154      5.0         1.0  \n",
              "157      5.0         1.0  \n",
              "164      5.0         2.0  \n",
              "169      5.0         2.0  \n",
              "173      5.0         1.0  \n",
              "183      5.0         1.0  \n",
              "192      5.0         1.0  \n",
              "209      5.0         1.0  \n",
              "212      5.0         1.0  \n",
              "220      5.0         8.0  "
            ]
          },
          "metadata": {
            "tags": []
          },
          "execution_count": 32
        }
      ]
    },
    {
      "cell_type": "code",
      "metadata": {
        "id": "cJsxwlsZY7dH",
        "colab_type": "code",
        "colab": {}
      },
      "source": [
        "top_ratings_desired = phones[phones['Ratings']>=4.2]"
      ],
      "execution_count": null,
      "outputs": []
    },
    {
      "cell_type": "code",
      "metadata": {
        "id": "dsE8PlvMY7dY",
        "colab_type": "code",
        "colab": {},
        "outputId": "69a3fd61-fb6f-4ec5-9e01-21d0d4e43ad2"
      },
      "source": [
        "len(top_ratings_desired)"
      ],
      "execution_count": null,
      "outputs": [
        {
          "output_type": "execute_result",
          "data": {
            "text/plain": [
              "86"
            ]
          },
          "metadata": {
            "tags": []
          },
          "execution_count": 41
        }
      ]
    },
    {
      "cell_type": "code",
      "metadata": {
        "id": "j5qXpo6bY7dx",
        "colab_type": "code",
        "colab": {},
        "outputId": "bc4b2dfe-3b3b-48c7-8ff8-82bf74ff4823"
      },
      "source": [
        "top_ratings_desired"
      ],
      "execution_count": null,
      "outputs": [
        {
          "output_type": "execute_result",
          "data": {
            "text/html": [
              "<div>\n",
              "<style scoped>\n",
              "    .dataframe tbody tr th:only-of-type {\n",
              "        vertical-align: middle;\n",
              "    }\n",
              "\n",
              "    .dataframe tbody tr th {\n",
              "        vertical-align: top;\n",
              "    }\n",
              "\n",
              "    .dataframe thead th {\n",
              "        text-align: right;\n",
              "    }\n",
              "</style>\n",
              "<table border=\"1\" class=\"dataframe\">\n",
              "  <thead>\n",
              "    <tr style=\"text-align: right;\">\n",
              "      <th></th>\n",
              "      <th>Phone_Name</th>\n",
              "      <th>Price</th>\n",
              "      <th>Ratings</th>\n",
              "      <th>Ratings_by</th>\n",
              "    </tr>\n",
              "  </thead>\n",
              "  <tbody>\n",
              "    <tr>\n",
              "      <th>1</th>\n",
              "      <td>Samsung Galaxy S20 6.2-Inch (8GB 128GB ROM) An...</td>\n",
              "      <td>330000</td>\n",
              "      <td>5.0</td>\n",
              "      <td>1.0</td>\n",
              "    </tr>\n",
              "    <tr>\n",
              "      <th>11</th>\n",
              "      <td>Tecno CAMON 12(CC7)-6.52\" CRYSTAL DOT NOTCH SC...</td>\n",
              "      <td>58000</td>\n",
              "      <td>4.4</td>\n",
              "      <td>72.0</td>\n",
              "    </tr>\n",
              "    <tr>\n",
              "      <th>12</th>\n",
              "      <td>Oukitel C15 Pro 6.1-Inch Android 9.0 Pie(3GB R...</td>\n",
              "      <td>30699</td>\n",
              "      <td>4.2</td>\n",
              "      <td>28.0</td>\n",
              "    </tr>\n",
              "    <tr>\n",
              "      <th>14</th>\n",
              "      <td>Tecno Camon 15 - Dual - 64GB ROM - 4GB RAM - 4...</td>\n",
              "      <td>65400</td>\n",
              "      <td>4.5</td>\n",
              "      <td>8.0</td>\n",
              "    </tr>\n",
              "    <tr>\n",
              "      <th>18</th>\n",
              "      <td>Samsung Galaxy S8 - 5.8\" 4GB RAM + 64GB ROM - ...</td>\n",
              "      <td>97900</td>\n",
              "      <td>5.0</td>\n",
              "      <td>1.0</td>\n",
              "    </tr>\n",
              "    <tr>\n",
              "      <th>...</th>\n",
              "      <td>...</td>\n",
              "      <td>...</td>\n",
              "      <td>...</td>\n",
              "      <td>...</td>\n",
              "    </tr>\n",
              "    <tr>\n",
              "      <th>219</th>\n",
              "      <td>Infinix HOT 8 Lite(X650), 6.6- Inches (2GB RAM...</td>\n",
              "      <td>43600</td>\n",
              "      <td>4.8</td>\n",
              "      <td>6.0</td>\n",
              "    </tr>\n",
              "    <tr>\n",
              "      <th>220</th>\n",
              "      <td>Apple IPhone 8 Plus 64GB 5.5 Inch IOS Smartpho...</td>\n",
              "      <td>189900 -  228000</td>\n",
              "      <td>5.0</td>\n",
              "      <td>8.0</td>\n",
              "    </tr>\n",
              "    <tr>\n",
              "      <th>223</th>\n",
              "      <td>Apple Refurbished IPhone 5C 8GB Green 4G LTE 4...</td>\n",
              "      <td>20300</td>\n",
              "      <td>4.5</td>\n",
              "      <td>2.0</td>\n",
              "    </tr>\n",
              "    <tr>\n",
              "      <th>224</th>\n",
              "      <td>Nokia 5.3 - 6GB/64GB Memory, 6.55\" HD, Dual SI...</td>\n",
              "      <td>80300</td>\n",
              "      <td>4.7</td>\n",
              "      <td>10.0</td>\n",
              "    </tr>\n",
              "    <tr>\n",
              "      <th>225</th>\n",
              "      <td>Samsung Galaxy Tab A 8.0\" (2019, WiFi + Cellul...</td>\n",
              "      <td>67300</td>\n",
              "      <td>4.5</td>\n",
              "      <td>23.0</td>\n",
              "    </tr>\n",
              "  </tbody>\n",
              "</table>\n",
              "<p>86 rows × 4 columns</p>\n",
              "</div>"
            ],
            "text/plain": [
              "                                            Phone_Name             Price  \\\n",
              "1    Samsung Galaxy S20 6.2-Inch (8GB 128GB ROM) An...            330000   \n",
              "11   Tecno CAMON 12(CC7)-6.52\" CRYSTAL DOT NOTCH SC...             58000   \n",
              "12   Oukitel C15 Pro 6.1-Inch Android 9.0 Pie(3GB R...             30699   \n",
              "14   Tecno Camon 15 - Dual - 64GB ROM - 4GB RAM - 4...             65400   \n",
              "18   Samsung Galaxy S8 - 5.8\" 4GB RAM + 64GB ROM - ...             97900   \n",
              "..                                                 ...               ...   \n",
              "219  Infinix HOT 8 Lite(X650), 6.6- Inches (2GB RAM...             43600   \n",
              "220  Apple IPhone 8 Plus 64GB 5.5 Inch IOS Smartpho...  189900 -  228000   \n",
              "223  Apple Refurbished IPhone 5C 8GB Green 4G LTE 4...             20300   \n",
              "224  Nokia 5.3 - 6GB/64GB Memory, 6.55\" HD, Dual SI...             80300   \n",
              "225  Samsung Galaxy Tab A 8.0\" (2019, WiFi + Cellul...             67300   \n",
              "\n",
              "     Ratings  Ratings_by  \n",
              "1        5.0         1.0  \n",
              "11       4.4        72.0  \n",
              "12       4.2        28.0  \n",
              "14       4.5         8.0  \n",
              "18       5.0         1.0  \n",
              "..       ...         ...  \n",
              "219      4.8         6.0  \n",
              "220      5.0         8.0  \n",
              "223      4.5         2.0  \n",
              "224      4.7        10.0  \n",
              "225      4.5        23.0  \n",
              "\n",
              "[86 rows x 4 columns]"
            ]
          },
          "metadata": {
            "tags": []
          },
          "execution_count": 42
        }
      ]
    },
    {
      "cell_type": "code",
      "metadata": {
        "id": "EesoeXSZY7d8",
        "colab_type": "code",
        "colab": {}
      },
      "source": [
        "phones.to_csv('joshua_phone.csv')"
      ],
      "execution_count": null,
      "outputs": []
    },
    {
      "cell_type": "code",
      "metadata": {
        "id": "r81-0uaMY7eF",
        "colab_type": "code",
        "colab": {}
      },
      "source": [
        "df = pd.read_csv(\"C:/Users/JoshDGreat/Desktop/joshua_phone (1).csv\")"
      ],
      "execution_count": null,
      "outputs": []
    },
    {
      "cell_type": "code",
      "metadata": {
        "id": "dJynF8PkY7eO",
        "colab_type": "code",
        "colab": {}
      },
      "source": [
        "df.drop([\"Unnamed: 0\"],axis=1,inplace=True)"
      ],
      "execution_count": null,
      "outputs": []
    },
    {
      "cell_type": "code",
      "metadata": {
        "id": "EbXfxjUjY7ed",
        "colab_type": "code",
        "colab": {},
        "outputId": "549b0a40-468c-4bb0-bb29-70c06365e721"
      },
      "source": [
        "df['Price'].sum()"
      ],
      "execution_count": null,
      "outputs": [
        {
          "output_type": "execute_result",
          "data": {
            "text/plain": [
              "11004567"
            ]
          },
          "metadata": {
            "tags": []
          },
          "execution_count": 56
        }
      ]
    },
    {
      "cell_type": "code",
      "metadata": {
        "id": "W8fP8ijCY7es",
        "colab_type": "code",
        "colab": {}
      },
      "source": [
        "best_price_l = df[df['Price']>=30000]\n"
      ],
      "execution_count": null,
      "outputs": []
    },
    {
      "cell_type": "code",
      "metadata": {
        "id": "VM7C0bf_Y7fd",
        "colab_type": "code",
        "colab": {}
      },
      "source": [
        "best_price = best_price_l[best_price_l[\"Price\"]<= 60000]"
      ],
      "execution_count": null,
      "outputs": []
    },
    {
      "cell_type": "code",
      "metadata": {
        "id": "sOTXbpCwY7fs",
        "colab_type": "code",
        "colab": {}
      },
      "source": [
        "best_price = best_price[best_price['Ratings']>=4.5]"
      ],
      "execution_count": null,
      "outputs": []
    },
    {
      "cell_type": "code",
      "metadata": {
        "id": "ClK1ZUR6Y7f1",
        "colab_type": "code",
        "colab": {},
        "outputId": "9da421e9-cd5d-4ffd-9528-bbe46ed8c33c"
      },
      "source": [
        "best_price"
      ],
      "execution_count": null,
      "outputs": [
        {
          "output_type": "execute_result",
          "data": {
            "text/html": [
              "<div>\n",
              "<style scoped>\n",
              "    .dataframe tbody tr th:only-of-type {\n",
              "        vertical-align: middle;\n",
              "    }\n",
              "\n",
              "    .dataframe tbody tr th {\n",
              "        vertical-align: top;\n",
              "    }\n",
              "\n",
              "    .dataframe thead th {\n",
              "        text-align: right;\n",
              "    }\n",
              "</style>\n",
              "<table border=\"1\" class=\"dataframe\">\n",
              "  <thead>\n",
              "    <tr style=\"text-align: right;\">\n",
              "      <th></th>\n",
              "      <th>Phone_Name</th>\n",
              "      <th>Price</th>\n",
              "      <th>Ratings</th>\n",
              "      <th>Ratings_by</th>\n",
              "    </tr>\n",
              "  </thead>\n",
              "  <tbody>\n",
              "    <tr>\n",
              "      <th>50</th>\n",
              "      <td>Tecno Spark 4 (KC8) 6.52\" HD+ 2GB RAM + 32GB R...</td>\n",
              "      <td>43500</td>\n",
              "      <td>4.5</td>\n",
              "      <td>6.0</td>\n",
              "    </tr>\n",
              "    <tr>\n",
              "      <th>83</th>\n",
              "      <td>Tecno Spark 4 (KC8) 6.52\" HD+ 2GB RAM + 32GB R...</td>\n",
              "      <td>43500</td>\n",
              "      <td>4.5</td>\n",
              "      <td>6.0</td>\n",
              "    </tr>\n",
              "    <tr>\n",
              "      <th>100</th>\n",
              "      <td>Infinix HOT 8 Lite(X650), 6.6- Inches (2GB RAM...</td>\n",
              "      <td>43600</td>\n",
              "      <td>4.8</td>\n",
              "      <td>6.0</td>\n",
              "    </tr>\n",
              "    <tr>\n",
              "      <th>9</th>\n",
              "      <td>Infinix HOT 8 Lite(X650), 6.6- Inches (2GB RAM...</td>\n",
              "      <td>43600</td>\n",
              "      <td>4.8</td>\n",
              "      <td>6.0</td>\n",
              "    </tr>\n",
              "    <tr>\n",
              "      <th>41</th>\n",
              "      <td>Oukitel C18 Pro 6.55\" Android 9.0 (4GB RAM + 6...</td>\n",
              "      <td>47669</td>\n",
              "      <td>4.5</td>\n",
              "      <td>13.0</td>\n",
              "    </tr>\n",
              "    <tr>\n",
              "      <th>81</th>\n",
              "      <td>Oukitel C18 Pro 6.55\" Android 9.0 (4GB RAM + 6...</td>\n",
              "      <td>47669</td>\n",
              "      <td>4.5</td>\n",
              "      <td>13.0</td>\n",
              "    </tr>\n",
              "    <tr>\n",
              "      <th>28</th>\n",
              "      <td>Tecno Spark 5 (KD7H) 6.6\" HD+ 2GB RAM + 32GB R...</td>\n",
              "      <td>49700</td>\n",
              "      <td>4.6</td>\n",
              "      <td>5.0</td>\n",
              "    </tr>\n",
              "    <tr>\n",
              "      <th>42</th>\n",
              "      <td>Tecno Spark 5 (KD7H) 6.6\" HD+ 2GB RAM + 32GB R...</td>\n",
              "      <td>49700</td>\n",
              "      <td>4.6</td>\n",
              "      <td>5.0</td>\n",
              "    </tr>\n",
              "    <tr>\n",
              "      <th>68</th>\n",
              "      <td>Samsung Galaxy A10s 6.2-Inch (2GB RAM, 32GB RO...</td>\n",
              "      <td>49990</td>\n",
              "      <td>4.5</td>\n",
              "      <td>183.0</td>\n",
              "    </tr>\n",
              "    <tr>\n",
              "      <th>54</th>\n",
              "      <td>Samsung Galaxy A10s 6.2-Inch (2GB RAM, 32GB RO...</td>\n",
              "      <td>49990</td>\n",
              "      <td>4.5</td>\n",
              "      <td>183.0</td>\n",
              "    </tr>\n",
              "    <tr>\n",
              "      <th>46</th>\n",
              "      <td>Tecno Pouvoir 4 LC7 ROM 32GB+3GB RAM 7\" 13MP &amp;...</td>\n",
              "      <td>51000</td>\n",
              "      <td>4.8</td>\n",
              "      <td>8.0</td>\n",
              "    </tr>\n",
              "    <tr>\n",
              "      <th>67</th>\n",
              "      <td>Samsung Galaxy A11 6.4\" 13MP+5MP+2MP Camera, 2...</td>\n",
              "      <td>51990</td>\n",
              "      <td>5.0</td>\n",
              "      <td>2.0</td>\n",
              "    </tr>\n",
              "    <tr>\n",
              "      <th>73</th>\n",
              "      <td>Tecno Spark 5 (KD7H) 6.6\" HD+ (32GB, 2GB) 13MP...</td>\n",
              "      <td>52500</td>\n",
              "      <td>5.0</td>\n",
              "      <td>1.0</td>\n",
              "    </tr>\n",
              "    <tr>\n",
              "      <th>32</th>\n",
              "      <td>Samsung Galaxy M11 6.4-Inch (3GB, 32GB ROM) An...</td>\n",
              "      <td>53990</td>\n",
              "      <td>4.5</td>\n",
              "      <td>45.0</td>\n",
              "    </tr>\n",
              "    <tr>\n",
              "      <th>23</th>\n",
              "      <td>Apple IPhone 6s 4.7 Inch 16GB ROM+2GB-12MP+5MP...</td>\n",
              "      <td>55900</td>\n",
              "      <td>4.5</td>\n",
              "      <td>12.0</td>\n",
              "    </tr>\n",
              "    <tr>\n",
              "      <th>29</th>\n",
              "      <td>Tecno Camon 15 Air (CD6) 6.6\" HD+ 3GB RAM+64GB...</td>\n",
              "      <td>58000</td>\n",
              "      <td>4.5</td>\n",
              "      <td>27.0</td>\n",
              "    </tr>\n",
              "    <tr>\n",
              "      <th>89</th>\n",
              "      <td>Tecno Camon 15 Air (CD6) 6.6\" HD+ 3GB RAM+64GB...</td>\n",
              "      <td>58000</td>\n",
              "      <td>4.5</td>\n",
              "      <td>27.0</td>\n",
              "    </tr>\n",
              "    <tr>\n",
              "      <th>49</th>\n",
              "      <td>Tecno CAMON 12 PRO(CC9)-64GB ROM + 6GB RAM-6.4...</td>\n",
              "      <td>59000</td>\n",
              "      <td>4.6</td>\n",
              "      <td>86.0</td>\n",
              "    </tr>\n",
              "  </tbody>\n",
              "</table>\n",
              "</div>"
            ],
            "text/plain": [
              "                                            Phone_Name  Price  Ratings  \\\n",
              "50   Tecno Spark 4 (KC8) 6.52\" HD+ 2GB RAM + 32GB R...  43500      4.5   \n",
              "83   Tecno Spark 4 (KC8) 6.52\" HD+ 2GB RAM + 32GB R...  43500      4.5   \n",
              "100  Infinix HOT 8 Lite(X650), 6.6- Inches (2GB RAM...  43600      4.8   \n",
              "9    Infinix HOT 8 Lite(X650), 6.6- Inches (2GB RAM...  43600      4.8   \n",
              "41   Oukitel C18 Pro 6.55\" Android 9.0 (4GB RAM + 6...  47669      4.5   \n",
              "81   Oukitel C18 Pro 6.55\" Android 9.0 (4GB RAM + 6...  47669      4.5   \n",
              "28   Tecno Spark 5 (KD7H) 6.6\" HD+ 2GB RAM + 32GB R...  49700      4.6   \n",
              "42   Tecno Spark 5 (KD7H) 6.6\" HD+ 2GB RAM + 32GB R...  49700      4.6   \n",
              "68   Samsung Galaxy A10s 6.2-Inch (2GB RAM, 32GB RO...  49990      4.5   \n",
              "54   Samsung Galaxy A10s 6.2-Inch (2GB RAM, 32GB RO...  49990      4.5   \n",
              "46   Tecno Pouvoir 4 LC7 ROM 32GB+3GB RAM 7\" 13MP &...  51000      4.8   \n",
              "67   Samsung Galaxy A11 6.4\" 13MP+5MP+2MP Camera, 2...  51990      5.0   \n",
              "73   Tecno Spark 5 (KD7H) 6.6\" HD+ (32GB, 2GB) 13MP...  52500      5.0   \n",
              "32   Samsung Galaxy M11 6.4-Inch (3GB, 32GB ROM) An...  53990      4.5   \n",
              "23   Apple IPhone 6s 4.7 Inch 16GB ROM+2GB-12MP+5MP...  55900      4.5   \n",
              "29   Tecno Camon 15 Air (CD6) 6.6\" HD+ 3GB RAM+64GB...  58000      4.5   \n",
              "89   Tecno Camon 15 Air (CD6) 6.6\" HD+ 3GB RAM+64GB...  58000      4.5   \n",
              "49   Tecno CAMON 12 PRO(CC9)-64GB ROM + 6GB RAM-6.4...  59000      4.6   \n",
              "\n",
              "     Ratings_by  \n",
              "50          6.0  \n",
              "83          6.0  \n",
              "100         6.0  \n",
              "9           6.0  \n",
              "41         13.0  \n",
              "81         13.0  \n",
              "28          5.0  \n",
              "42          5.0  \n",
              "68        183.0  \n",
              "54        183.0  \n",
              "46          8.0  \n",
              "67          2.0  \n",
              "73          1.0  \n",
              "32         45.0  \n",
              "23         12.0  \n",
              "29         27.0  \n",
              "89         27.0  \n",
              "49         86.0  "
            ]
          },
          "metadata": {
            "tags": []
          },
          "execution_count": 80
        }
      ]
    },
    {
      "cell_type": "code",
      "metadata": {
        "id": "dBGLUNScY7f-",
        "colab_type": "code",
        "colab": {},
        "outputId": "d87b6da2-6abd-4f5c-daad-f31851e93940"
      },
      "source": [
        ""
      ],
      "execution_count": null,
      "outputs": [
        {
          "output_type": "execute_result",
          "data": {
            "text/html": [
              "<div>\n",
              "<style scoped>\n",
              "    .dataframe tbody tr th:only-of-type {\n",
              "        vertical-align: middle;\n",
              "    }\n",
              "\n",
              "    .dataframe tbody tr th {\n",
              "        vertical-align: top;\n",
              "    }\n",
              "\n",
              "    .dataframe thead th {\n",
              "        text-align: right;\n",
              "    }\n",
              "</style>\n",
              "<table border=\"1\" class=\"dataframe\">\n",
              "  <thead>\n",
              "    <tr style=\"text-align: right;\">\n",
              "      <th></th>\n",
              "      <th>Phone_Name</th>\n",
              "      <th>Price</th>\n",
              "      <th>Ratings</th>\n",
              "      <th>Ratings_by</th>\n",
              "    </tr>\n",
              "  </thead>\n",
              "  <tbody>\n",
              "    <tr>\n",
              "      <th>0</th>\n",
              "      <td>Tecno POP 2F (B1F) 5.5\" Android 8.1, 16GB ROM ...</td>\n",
              "      <td>23490</td>\n",
              "      <td>5.0</td>\n",
              "      <td>1.0</td>\n",
              "    </tr>\n",
              "    <tr>\n",
              "      <th>1</th>\n",
              "      <td>Infinix HOT 8 Lite(X650), 6.6- Inches (2GB RAM...</td>\n",
              "      <td>43600</td>\n",
              "      <td>4.8</td>\n",
              "      <td>6.0</td>\n",
              "    </tr>\n",
              "    <tr>\n",
              "      <th>2</th>\n",
              "      <td>Apple Refurbished IPhone 5C 8GB Green 4G LTE 4...</td>\n",
              "      <td>20300</td>\n",
              "      <td>4.5</td>\n",
              "      <td>2.0</td>\n",
              "    </tr>\n",
              "    <tr>\n",
              "      <th>3</th>\n",
              "      <td>Apple IPhone 6s 4.7 Inch 16GB ROM+2GB-12MP+5MP...</td>\n",
              "      <td>55900</td>\n",
              "      <td>4.5</td>\n",
              "      <td>12.0</td>\n",
              "    </tr>\n",
              "    <tr>\n",
              "      <th>4</th>\n",
              "      <td>Tecno Spark 5 (KD7H) 6.6\" HD+ 2GB RAM + 32GB R...</td>\n",
              "      <td>49700</td>\n",
              "      <td>4.6</td>\n",
              "      <td>5.0</td>\n",
              "    </tr>\n",
              "    <tr>\n",
              "      <th>5</th>\n",
              "      <td>Tecno Camon 15 Air (CD6) 6.6\" HD+ 3GB RAM+64GB...</td>\n",
              "      <td>58000</td>\n",
              "      <td>4.5</td>\n",
              "      <td>27.0</td>\n",
              "    </tr>\n",
              "    <tr>\n",
              "      <th>6</th>\n",
              "      <td>Samsung Galaxy M11 6.4-Inch (3GB, 32GB ROM) An...</td>\n",
              "      <td>53990</td>\n",
              "      <td>4.5</td>\n",
              "      <td>45.0</td>\n",
              "    </tr>\n",
              "    <tr>\n",
              "      <th>7</th>\n",
              "      <td>QUBO P19 ,5.5\" HD-screen,3GB+32GB,5200mAh Big ...</td>\n",
              "      <td>29900</td>\n",
              "      <td>4.5</td>\n",
              "      <td>16.0</td>\n",
              "    </tr>\n",
              "    <tr>\n",
              "      <th>8</th>\n",
              "      <td>Oukitel C18 Pro 6.55\" Android 9.0 (4GB RAM + 6...</td>\n",
              "      <td>47669</td>\n",
              "      <td>4.5</td>\n",
              "      <td>13.0</td>\n",
              "    </tr>\n",
              "    <tr>\n",
              "      <th>9</th>\n",
              "      <td>Tecno Spark 5 (KD7H) 6.6\" HD+ 2GB RAM + 32GB R...</td>\n",
              "      <td>49700</td>\n",
              "      <td>4.6</td>\n",
              "      <td>5.0</td>\n",
              "    </tr>\n",
              "    <tr>\n",
              "      <th>10</th>\n",
              "      <td>Tecno Pouvoir 4 LC7 ROM 32GB+3GB RAM 7\" 13MP &amp;...</td>\n",
              "      <td>51000</td>\n",
              "      <td>4.8</td>\n",
              "      <td>8.0</td>\n",
              "    </tr>\n",
              "    <tr>\n",
              "      <th>11</th>\n",
              "      <td>Tecno CAMON 12 PRO(CC9)-64GB ROM + 6GB RAM-6.4...</td>\n",
              "      <td>59000</td>\n",
              "      <td>4.6</td>\n",
              "      <td>86.0</td>\n",
              "    </tr>\n",
              "    <tr>\n",
              "      <th>12</th>\n",
              "      <td>Tecno Spark 4 (KC8) 6.52\" HD+ 2GB RAM + 32GB R...</td>\n",
              "      <td>43500</td>\n",
              "      <td>4.5</td>\n",
              "      <td>6.0</td>\n",
              "    </tr>\n",
              "    <tr>\n",
              "      <th>13</th>\n",
              "      <td>Samsung Galaxy A10s 6.2-Inch (2GB RAM, 32GB RO...</td>\n",
              "      <td>49990</td>\n",
              "      <td>4.5</td>\n",
              "      <td>183.0</td>\n",
              "    </tr>\n",
              "    <tr>\n",
              "      <th>14</th>\n",
              "      <td>Itel P15 5.0\" HD Screen, 16GB ROM + 1GB RAM, A...</td>\n",
              "      <td>23390</td>\n",
              "      <td>4.7</td>\n",
              "      <td>28.0</td>\n",
              "    </tr>\n",
              "    <tr>\n",
              "      <th>15</th>\n",
              "      <td>Samsung Galaxy A11 6.4\" 13MP+5MP+2MP Camera, 2...</td>\n",
              "      <td>51990</td>\n",
              "      <td>5.0</td>\n",
              "      <td>2.0</td>\n",
              "    </tr>\n",
              "    <tr>\n",
              "      <th>16</th>\n",
              "      <td>Samsung Galaxy A10s 6.2-Inch (2GB RAM, 32GB RO...</td>\n",
              "      <td>49990</td>\n",
              "      <td>4.5</td>\n",
              "      <td>183.0</td>\n",
              "    </tr>\n",
              "    <tr>\n",
              "      <th>17</th>\n",
              "      <td>Apple IPhone 4S 3.5 Inches 16GB GSM 8MP WIFI G...</td>\n",
              "      <td>15300</td>\n",
              "      <td>5.0</td>\n",
              "      <td>1.0</td>\n",
              "    </tr>\n",
              "    <tr>\n",
              "      <th>18</th>\n",
              "      <td>Tecno Spark 5 (KD7H) 6.6\" HD+ (32GB, 2GB) 13MP...</td>\n",
              "      <td>52500</td>\n",
              "      <td>5.0</td>\n",
              "      <td>1.0</td>\n",
              "    </tr>\n",
              "    <tr>\n",
              "      <th>19</th>\n",
              "      <td>Oukitel C18 Pro 6.55\" Android 9.0 (4GB RAM + 6...</td>\n",
              "      <td>47669</td>\n",
              "      <td>4.5</td>\n",
              "      <td>13.0</td>\n",
              "    </tr>\n",
              "    <tr>\n",
              "      <th>20</th>\n",
              "      <td>Tecno Spark 4 (KC8) 6.52\" HD+ 2GB RAM + 32GB R...</td>\n",
              "      <td>43500</td>\n",
              "      <td>4.5</td>\n",
              "      <td>6.0</td>\n",
              "    </tr>\n",
              "    <tr>\n",
              "      <th>21</th>\n",
              "      <td>Tecno Camon 15 Air (CD6) 6.6\" HD+ 3GB RAM+64GB...</td>\n",
              "      <td>58000</td>\n",
              "      <td>4.5</td>\n",
              "      <td>27.0</td>\n",
              "    </tr>\n",
              "    <tr>\n",
              "      <th>22</th>\n",
              "      <td>Apple IPhone 5S 16GB Smartphones 4G LTE Finger...</td>\n",
              "      <td>25500</td>\n",
              "      <td>5.0</td>\n",
              "      <td>1.0</td>\n",
              "    </tr>\n",
              "    <tr>\n",
              "      <th>23</th>\n",
              "      <td>Tecno POP 2F (B1F) 5.5\" Android 8.1, 16GB ROM ...</td>\n",
              "      <td>23490</td>\n",
              "      <td>5.0</td>\n",
              "      <td>1.0</td>\n",
              "    </tr>\n",
              "    <tr>\n",
              "      <th>24</th>\n",
              "      <td>Infinix HOT 8 Lite(X650), 6.6- Inches (2GB RAM...</td>\n",
              "      <td>43600</td>\n",
              "      <td>4.8</td>\n",
              "      <td>6.0</td>\n",
              "    </tr>\n",
              "    <tr>\n",
              "      <th>25</th>\n",
              "      <td>Apple Refurbished IPhone 5C 8GB Green 4G LTE 4...</td>\n",
              "      <td>20300</td>\n",
              "      <td>4.5</td>\n",
              "      <td>2.0</td>\n",
              "    </tr>\n",
              "  </tbody>\n",
              "</table>\n",
              "</div>"
            ],
            "text/plain": [
              "                                           Phone_Name  Price  Ratings  \\\n",
              "0   Tecno POP 2F (B1F) 5.5\" Android 8.1, 16GB ROM ...  23490      5.0   \n",
              "1   Infinix HOT 8 Lite(X650), 6.6- Inches (2GB RAM...  43600      4.8   \n",
              "2   Apple Refurbished IPhone 5C 8GB Green 4G LTE 4...  20300      4.5   \n",
              "3   Apple IPhone 6s 4.7 Inch 16GB ROM+2GB-12MP+5MP...  55900      4.5   \n",
              "4   Tecno Spark 5 (KD7H) 6.6\" HD+ 2GB RAM + 32GB R...  49700      4.6   \n",
              "5   Tecno Camon 15 Air (CD6) 6.6\" HD+ 3GB RAM+64GB...  58000      4.5   \n",
              "6   Samsung Galaxy M11 6.4-Inch (3GB, 32GB ROM) An...  53990      4.5   \n",
              "7   QUBO P19 ,5.5\" HD-screen,3GB+32GB,5200mAh Big ...  29900      4.5   \n",
              "8   Oukitel C18 Pro 6.55\" Android 9.0 (4GB RAM + 6...  47669      4.5   \n",
              "9   Tecno Spark 5 (KD7H) 6.6\" HD+ 2GB RAM + 32GB R...  49700      4.6   \n",
              "10  Tecno Pouvoir 4 LC7 ROM 32GB+3GB RAM 7\" 13MP &...  51000      4.8   \n",
              "11  Tecno CAMON 12 PRO(CC9)-64GB ROM + 6GB RAM-6.4...  59000      4.6   \n",
              "12  Tecno Spark 4 (KC8) 6.52\" HD+ 2GB RAM + 32GB R...  43500      4.5   \n",
              "13  Samsung Galaxy A10s 6.2-Inch (2GB RAM, 32GB RO...  49990      4.5   \n",
              "14  Itel P15 5.0\" HD Screen, 16GB ROM + 1GB RAM, A...  23390      4.7   \n",
              "15  Samsung Galaxy A11 6.4\" 13MP+5MP+2MP Camera, 2...  51990      5.0   \n",
              "16  Samsung Galaxy A10s 6.2-Inch (2GB RAM, 32GB RO...  49990      4.5   \n",
              "17  Apple IPhone 4S 3.5 Inches 16GB GSM 8MP WIFI G...  15300      5.0   \n",
              "18  Tecno Spark 5 (KD7H) 6.6\" HD+ (32GB, 2GB) 13MP...  52500      5.0   \n",
              "19  Oukitel C18 Pro 6.55\" Android 9.0 (4GB RAM + 6...  47669      4.5   \n",
              "20  Tecno Spark 4 (KC8) 6.52\" HD+ 2GB RAM + 32GB R...  43500      4.5   \n",
              "21  Tecno Camon 15 Air (CD6) 6.6\" HD+ 3GB RAM+64GB...  58000      4.5   \n",
              "22  Apple IPhone 5S 16GB Smartphones 4G LTE Finger...  25500      5.0   \n",
              "23  Tecno POP 2F (B1F) 5.5\" Android 8.1, 16GB ROM ...  23490      5.0   \n",
              "24  Infinix HOT 8 Lite(X650), 6.6- Inches (2GB RAM...  43600      4.8   \n",
              "25  Apple Refurbished IPhone 5C 8GB Green 4G LTE 4...  20300      4.5   \n",
              "\n",
              "    Ratings_by  \n",
              "0          1.0  \n",
              "1          6.0  \n",
              "2          2.0  \n",
              "3         12.0  \n",
              "4          5.0  \n",
              "5         27.0  \n",
              "6         45.0  \n",
              "7         16.0  \n",
              "8         13.0  \n",
              "9          5.0  \n",
              "10         8.0  \n",
              "11        86.0  \n",
              "12         6.0  \n",
              "13       183.0  \n",
              "14        28.0  \n",
              "15         2.0  \n",
              "16       183.0  \n",
              "17         1.0  \n",
              "18         1.0  \n",
              "19        13.0  \n",
              "20         6.0  \n",
              "21        27.0  \n",
              "22         1.0  \n",
              "23         1.0  \n",
              "24         6.0  \n",
              "25         2.0  "
            ]
          },
          "metadata": {
            "tags": []
          },
          "execution_count": 67
        }
      ]
    },
    {
      "cell_type": "markdown",
      "metadata": {
        "id": "wA8VaxYMbnV2",
        "colab_type": "text"
      },
      "source": [
        "##Descriptive Analysis"
      ]
    },
    {
      "cell_type": "code",
      "metadata": {
        "id": "RzA2wVI3Y7gS",
        "colab_type": "code",
        "colab": {}
      },
      "source": [
        "df.sort_values(by=['Price'], inplace=True`"
      ],
      "execution_count": null,
      "outputs": []
    },
    {
      "cell_type": "code",
      "metadata": {
        "id": "B5Bk25_DY7gi",
        "colab_type": "code",
        "colab": {},
        "outputId": "d3c35ba7-54b6-4182-eff6-3146d493b0e3"
      },
      "source": [
        "best_price.duplicated().sum()"
      ],
      "execution_count": null,
      "outputs": [
        {
          "output_type": "execute_result",
          "data": {
            "text/plain": [
              "6"
            ]
          },
          "metadata": {
            "tags": []
          },
          "execution_count": 89
        }
      ]
    },
    {
      "cell_type": "code",
      "metadata": {
        "id": "lkUXVGT5Y7gx",
        "colab_type": "code",
        "colab": {}
      },
      "source": [
        "best_price.drop_duplicates(inplace=True)"
      ],
      "execution_count": null,
      "outputs": []
    },
    {
      "cell_type": "code",
      "metadata": {
        "id": "PKk4IjkAY7hB",
        "colab_type": "code",
        "colab": {},
        "outputId": "61ef32e4-0007-44e3-8bd3-195ad27e7d85"
      },
      "source": [
        "best_price.reset_index(drop=True)"
      ],
      "execution_count": null,
      "outputs": [
        {
          "output_type": "execute_result",
          "data": {
            "text/html": [
              "<div>\n",
              "<style scoped>\n",
              "    .dataframe tbody tr th:only-of-type {\n",
              "        vertical-align: middle;\n",
              "    }\n",
              "\n",
              "    .dataframe tbody tr th {\n",
              "        vertical-align: top;\n",
              "    }\n",
              "\n",
              "    .dataframe thead th {\n",
              "        text-align: right;\n",
              "    }\n",
              "</style>\n",
              "<table border=\"1\" class=\"dataframe\">\n",
              "  <thead>\n",
              "    <tr style=\"text-align: right;\">\n",
              "      <th></th>\n",
              "      <th>Phone_Name</th>\n",
              "      <th>Price</th>\n",
              "      <th>Ratings</th>\n",
              "      <th>Ratings_by</th>\n",
              "    </tr>\n",
              "  </thead>\n",
              "  <tbody>\n",
              "    <tr>\n",
              "      <th>0</th>\n",
              "      <td>Tecno Spark 4 (KC8) 6.52\" HD+ 2GB RAM + 32GB R...</td>\n",
              "      <td>43500</td>\n",
              "      <td>4.5</td>\n",
              "      <td>6.0</td>\n",
              "    </tr>\n",
              "    <tr>\n",
              "      <th>1</th>\n",
              "      <td>Infinix HOT 8 Lite(X650), 6.6- Inches (2GB RAM...</td>\n",
              "      <td>43600</td>\n",
              "      <td>4.8</td>\n",
              "      <td>6.0</td>\n",
              "    </tr>\n",
              "    <tr>\n",
              "      <th>2</th>\n",
              "      <td>Oukitel C18 Pro 6.55\" Android 9.0 (4GB RAM + 6...</td>\n",
              "      <td>47669</td>\n",
              "      <td>4.5</td>\n",
              "      <td>13.0</td>\n",
              "    </tr>\n",
              "    <tr>\n",
              "      <th>3</th>\n",
              "      <td>Tecno Spark 5 (KD7H) 6.6\" HD+ 2GB RAM + 32GB R...</td>\n",
              "      <td>49700</td>\n",
              "      <td>4.6</td>\n",
              "      <td>5.0</td>\n",
              "    </tr>\n",
              "    <tr>\n",
              "      <th>4</th>\n",
              "      <td>Samsung Galaxy A10s 6.2-Inch (2GB RAM, 32GB RO...</td>\n",
              "      <td>49990</td>\n",
              "      <td>4.5</td>\n",
              "      <td>183.0</td>\n",
              "    </tr>\n",
              "    <tr>\n",
              "      <th>5</th>\n",
              "      <td>Tecno Pouvoir 4 LC7 ROM 32GB+3GB RAM 7\" 13MP &amp;...</td>\n",
              "      <td>51000</td>\n",
              "      <td>4.8</td>\n",
              "      <td>8.0</td>\n",
              "    </tr>\n",
              "    <tr>\n",
              "      <th>6</th>\n",
              "      <td>Samsung Galaxy A11 6.4\" 13MP+5MP+2MP Camera, 2...</td>\n",
              "      <td>51990</td>\n",
              "      <td>5.0</td>\n",
              "      <td>2.0</td>\n",
              "    </tr>\n",
              "    <tr>\n",
              "      <th>7</th>\n",
              "      <td>Tecno Spark 5 (KD7H) 6.6\" HD+ (32GB, 2GB) 13MP...</td>\n",
              "      <td>52500</td>\n",
              "      <td>5.0</td>\n",
              "      <td>1.0</td>\n",
              "    </tr>\n",
              "    <tr>\n",
              "      <th>8</th>\n",
              "      <td>Samsung Galaxy M11 6.4-Inch (3GB, 32GB ROM) An...</td>\n",
              "      <td>53990</td>\n",
              "      <td>4.5</td>\n",
              "      <td>45.0</td>\n",
              "    </tr>\n",
              "    <tr>\n",
              "      <th>9</th>\n",
              "      <td>Apple IPhone 6s 4.7 Inch 16GB ROM+2GB-12MP+5MP...</td>\n",
              "      <td>55900</td>\n",
              "      <td>4.5</td>\n",
              "      <td>12.0</td>\n",
              "    </tr>\n",
              "    <tr>\n",
              "      <th>10</th>\n",
              "      <td>Tecno Camon 15 Air (CD6) 6.6\" HD+ 3GB RAM+64GB...</td>\n",
              "      <td>58000</td>\n",
              "      <td>4.5</td>\n",
              "      <td>27.0</td>\n",
              "    </tr>\n",
              "    <tr>\n",
              "      <th>11</th>\n",
              "      <td>Tecno CAMON 12 PRO(CC9)-64GB ROM + 6GB RAM-6.4...</td>\n",
              "      <td>59000</td>\n",
              "      <td>4.6</td>\n",
              "      <td>86.0</td>\n",
              "    </tr>\n",
              "  </tbody>\n",
              "</table>\n",
              "</div>"
            ],
            "text/plain": [
              "                                           Phone_Name  Price  Ratings  \\\n",
              "0   Tecno Spark 4 (KC8) 6.52\" HD+ 2GB RAM + 32GB R...  43500      4.5   \n",
              "1   Infinix HOT 8 Lite(X650), 6.6- Inches (2GB RAM...  43600      4.8   \n",
              "2   Oukitel C18 Pro 6.55\" Android 9.0 (4GB RAM + 6...  47669      4.5   \n",
              "3   Tecno Spark 5 (KD7H) 6.6\" HD+ 2GB RAM + 32GB R...  49700      4.6   \n",
              "4   Samsung Galaxy A10s 6.2-Inch (2GB RAM, 32GB RO...  49990      4.5   \n",
              "5   Tecno Pouvoir 4 LC7 ROM 32GB+3GB RAM 7\" 13MP &...  51000      4.8   \n",
              "6   Samsung Galaxy A11 6.4\" 13MP+5MP+2MP Camera, 2...  51990      5.0   \n",
              "7   Tecno Spark 5 (KD7H) 6.6\" HD+ (32GB, 2GB) 13MP...  52500      5.0   \n",
              "8   Samsung Galaxy M11 6.4-Inch (3GB, 32GB ROM) An...  53990      4.5   \n",
              "9   Apple IPhone 6s 4.7 Inch 16GB ROM+2GB-12MP+5MP...  55900      4.5   \n",
              "10  Tecno Camon 15 Air (CD6) 6.6\" HD+ 3GB RAM+64GB...  58000      4.5   \n",
              "11  Tecno CAMON 12 PRO(CC9)-64GB ROM + 6GB RAM-6.4...  59000      4.6   \n",
              "\n",
              "    Ratings_by  \n",
              "0          6.0  \n",
              "1          6.0  \n",
              "2         13.0  \n",
              "3          5.0  \n",
              "4        183.0  \n",
              "5          8.0  \n",
              "6          2.0  \n",
              "7          1.0  \n",
              "8         45.0  \n",
              "9         12.0  \n",
              "10        27.0  \n",
              "11        86.0  "
            ]
          },
          "metadata": {
            "tags": []
          },
          "execution_count": 91
        }
      ]
    },
    {
      "cell_type": "code",
      "metadata": {
        "id": "a40tgffrY7hS",
        "colab_type": "code",
        "colab": {},
        "outputId": "17747c0f-4b41-44a4-f14a-4acebfce196a"
      },
      "source": [
        "best_price.iloc[2,0]"
      ],
      "execution_count": null,
      "outputs": [
        {
          "output_type": "execute_result",
          "data": {
            "text/plain": [
              "'Oukitel C18 Pro 6.55\" Android 9.0 (4GB RAM + 64GB ROM) 4 Rear Cameras 4000mAh Octa Core Face ID 4G Smartphone-BLACK'"
            ]
          },
          "metadata": {
            "tags": []
          },
          "execution_count": 93
        }
      ]
    },
    {
      "cell_type": "markdown",
      "metadata": {
        "id": "BxjX4HqLbt2Y",
        "colab_type": "text"
      },
      "source": [
        "##Insights"
      ]
    },
    {
      "cell_type": "markdown",
      "metadata": {
        "id": "3uZDRHalbyYA",
        "colab_type": "text"
      },
      "source": [
        "*\tRequested the URLs for every required page on the websites.\n",
        "*\tIterated through each page using a for loop, and scrape each phone’s information one by one.\n",
        "*\tIncluded a control loop’s rate to avoid flooding the sites with requests.\n",
        "*\tExtracted, cleaned, stored the data set as panda dataframes and downloaded them as csv.\n",
        "*\tPerformed a descriptive analysis after conditional slicing and grouping and the most suitable option was selected.\n",
        "\n",
        "\n",
        "So, simplicity sometimes have the answer and other times a more complex approach will suffice but alas it is the user that decides based on available resources. \n",
        "Personally, I believe balance is key.\n"
      ]
    }
  ]
}